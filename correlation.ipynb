{
 "cells": [
  {
   "cell_type": "code",
   "execution_count": 59,
   "metadata": {},
   "outputs": [],
   "source": [
    "library(tidyverse)\n",
    "library(repr)\n",
    "library(rvest)\n",
    "library(stringr)\n",
    "library(tidymodels)"
   ]
  },
  {
   "cell_type": "markdown",
   "metadata": {},
   "source": [
    "## Introduction:\n",
    "The data set we are working on is the bank marketing data set. The bank we are analyzing is a Portuguese banking institution with data related with direct marketing campaigns (phone calls).\n",
    "\n",
    "This dataset contains many variables as shown when we load the file below. However some of the more cryptic variables are defined here:\n",
    "\n",
    "- `default` - Has credit in default?\n",
    "- `balance` - Account balance (EUR)\n",
    "- `housing` - Has housing loan?\n",
    "- `contact` - Contact communication type\n",
    "- `month` / `day_of_week` - Date of last contact\n",
    "- `duration` - Last contact duration, in seconds\n",
    "- `campaign` - Number of contacts performed during this campaign and for this client\n",
    "- `pdays` - Number of days that passed by after the client was last contacted from a previous campaign\n",
    "- `previous` - Number of contacts performed before this campaign and for this client \n",
    "- `poutcome` - Outcome of the previous marketing campaign\n",
    "- `y` - Has the client subscribed a term deposit?\n",
    "\n",
    "Using this dataset we will attempt to answer the question \"Which variables have the greatest influence on predicting whether or not a client will subscribe a term deposit?\" A term deposit is a cash investment held at a financial institution. Your money is invested for an agreed rate of interest over a fixed amount of time, or term."
   ]
  },
  {
   "cell_type": "markdown",
   "metadata": {},
   "source": [
    "## Method:\n",
    "\n",
    "Quick summary of method"
   ]
  },
  {
   "cell_type": "markdown",
   "metadata": {},
   "source": [
    "##### In the next cell we load our data from the web"
   ]
  },
  {
   "cell_type": "code",
   "execution_count": 60,
   "metadata": {},
   "outputs": [
    {
     "name": "stderr",
     "output_type": "stream",
     "text": [
      "Warning message in dir.create(\"data/\"):\n",
      "“'data' already exists”\n",
      "Parsed with column specification:\n",
      "cols(\n",
      "  age = \u001b[32mcol_double()\u001b[39m,\n",
      "  job = \u001b[31mcol_character()\u001b[39m,\n",
      "  marital = \u001b[31mcol_character()\u001b[39m,\n",
      "  education = \u001b[31mcol_character()\u001b[39m,\n",
      "  default = \u001b[31mcol_character()\u001b[39m,\n",
      "  balance = \u001b[32mcol_double()\u001b[39m,\n",
      "  housing = \u001b[31mcol_character()\u001b[39m,\n",
      "  loan = \u001b[31mcol_character()\u001b[39m,\n",
      "  contact = \u001b[31mcol_character()\u001b[39m,\n",
      "  day = \u001b[32mcol_double()\u001b[39m,\n",
      "  month = \u001b[31mcol_character()\u001b[39m,\n",
      "  duration = \u001b[32mcol_double()\u001b[39m,\n",
      "  campaign = \u001b[32mcol_double()\u001b[39m,\n",
      "  pdays = \u001b[32mcol_double()\u001b[39m,\n",
      "  previous = \u001b[32mcol_double()\u001b[39m,\n",
      "  poutcome = \u001b[31mcol_character()\u001b[39m,\n",
      "  y = \u001b[31mcol_character()\u001b[39m\n",
      ")\n",
      "\n"
     ]
    },
    {
     "data": {
      "text/html": [
       "<table>\n",
       "<caption>A spec_tbl_df: 10 × 17</caption>\n",
       "<thead>\n",
       "\t<tr><th scope=col>age</th><th scope=col>job</th><th scope=col>marital</th><th scope=col>education</th><th scope=col>default</th><th scope=col>balance</th><th scope=col>housing</th><th scope=col>loan</th><th scope=col>contact</th><th scope=col>day</th><th scope=col>month</th><th scope=col>duration</th><th scope=col>campaign</th><th scope=col>pdays</th><th scope=col>previous</th><th scope=col>poutcome</th><th scope=col>y</th></tr>\n",
       "\t<tr><th scope=col>&lt;dbl&gt;</th><th scope=col>&lt;chr&gt;</th><th scope=col>&lt;chr&gt;</th><th scope=col>&lt;chr&gt;</th><th scope=col>&lt;chr&gt;</th><th scope=col>&lt;dbl&gt;</th><th scope=col>&lt;chr&gt;</th><th scope=col>&lt;chr&gt;</th><th scope=col>&lt;chr&gt;</th><th scope=col>&lt;dbl&gt;</th><th scope=col>&lt;chr&gt;</th><th scope=col>&lt;dbl&gt;</th><th scope=col>&lt;dbl&gt;</th><th scope=col>&lt;dbl&gt;</th><th scope=col>&lt;dbl&gt;</th><th scope=col>&lt;chr&gt;</th><th scope=col>&lt;chr&gt;</th></tr>\n",
       "</thead>\n",
       "<tbody>\n",
       "\t<tr><td>58</td><td>management  </td><td>married </td><td>tertiary </td><td>no </td><td>2143</td><td>yes</td><td>no </td><td>unknown</td><td>5</td><td>may</td><td>261</td><td>1</td><td>-1</td><td>0</td><td>unknown</td><td>no</td></tr>\n",
       "\t<tr><td>44</td><td>technician  </td><td>single  </td><td>secondary</td><td>no </td><td>  29</td><td>yes</td><td>no </td><td>unknown</td><td>5</td><td>may</td><td>151</td><td>1</td><td>-1</td><td>0</td><td>unknown</td><td>no</td></tr>\n",
       "\t<tr><td>33</td><td>entrepreneur</td><td>married </td><td>secondary</td><td>no </td><td>   2</td><td>yes</td><td>yes</td><td>unknown</td><td>5</td><td>may</td><td> 76</td><td>1</td><td>-1</td><td>0</td><td>unknown</td><td>no</td></tr>\n",
       "\t<tr><td>47</td><td>blue-collar </td><td>married </td><td>unknown  </td><td>no </td><td>1506</td><td>yes</td><td>no </td><td>unknown</td><td>5</td><td>may</td><td> 92</td><td>1</td><td>-1</td><td>0</td><td>unknown</td><td>no</td></tr>\n",
       "\t<tr><td>33</td><td>unknown     </td><td>single  </td><td>unknown  </td><td>no </td><td>   1</td><td>no </td><td>no </td><td>unknown</td><td>5</td><td>may</td><td>198</td><td>1</td><td>-1</td><td>0</td><td>unknown</td><td>no</td></tr>\n",
       "\t<tr><td>35</td><td>management  </td><td>married </td><td>tertiary </td><td>no </td><td> 231</td><td>yes</td><td>no </td><td>unknown</td><td>5</td><td>may</td><td>139</td><td>1</td><td>-1</td><td>0</td><td>unknown</td><td>no</td></tr>\n",
       "\t<tr><td>28</td><td>management  </td><td>single  </td><td>tertiary </td><td>no </td><td> 447</td><td>yes</td><td>yes</td><td>unknown</td><td>5</td><td>may</td><td>217</td><td>1</td><td>-1</td><td>0</td><td>unknown</td><td>no</td></tr>\n",
       "\t<tr><td>42</td><td>entrepreneur</td><td>divorced</td><td>tertiary </td><td>yes</td><td>   2</td><td>yes</td><td>no </td><td>unknown</td><td>5</td><td>may</td><td>380</td><td>1</td><td>-1</td><td>0</td><td>unknown</td><td>no</td></tr>\n",
       "\t<tr><td>58</td><td>retired     </td><td>married </td><td>primary  </td><td>no </td><td> 121</td><td>yes</td><td>no </td><td>unknown</td><td>5</td><td>may</td><td> 50</td><td>1</td><td>-1</td><td>0</td><td>unknown</td><td>no</td></tr>\n",
       "\t<tr><td>43</td><td>technician  </td><td>single  </td><td>secondary</td><td>no </td><td> 593</td><td>yes</td><td>no </td><td>unknown</td><td>5</td><td>may</td><td> 55</td><td>1</td><td>-1</td><td>0</td><td>unknown</td><td>no</td></tr>\n",
       "</tbody>\n",
       "</table>\n"
      ],
      "text/latex": [
       "A spec\\_tbl\\_df: 10 × 17\n",
       "\\begin{tabular}{lllllllllllllllll}\n",
       " age & job & marital & education & default & balance & housing & loan & contact & day & month & duration & campaign & pdays & previous & poutcome & y\\\\\n",
       " <dbl> & <chr> & <chr> & <chr> & <chr> & <dbl> & <chr> & <chr> & <chr> & <dbl> & <chr> & <dbl> & <dbl> & <dbl> & <dbl> & <chr> & <chr>\\\\\n",
       "\\hline\n",
       "\t 58 & management   & married  & tertiary  & no  & 2143 & yes & no  & unknown & 5 & may & 261 & 1 & -1 & 0 & unknown & no\\\\\n",
       "\t 44 & technician   & single   & secondary & no  &   29 & yes & no  & unknown & 5 & may & 151 & 1 & -1 & 0 & unknown & no\\\\\n",
       "\t 33 & entrepreneur & married  & secondary & no  &    2 & yes & yes & unknown & 5 & may &  76 & 1 & -1 & 0 & unknown & no\\\\\n",
       "\t 47 & blue-collar  & married  & unknown   & no  & 1506 & yes & no  & unknown & 5 & may &  92 & 1 & -1 & 0 & unknown & no\\\\\n",
       "\t 33 & unknown      & single   & unknown   & no  &    1 & no  & no  & unknown & 5 & may & 198 & 1 & -1 & 0 & unknown & no\\\\\n",
       "\t 35 & management   & married  & tertiary  & no  &  231 & yes & no  & unknown & 5 & may & 139 & 1 & -1 & 0 & unknown & no\\\\\n",
       "\t 28 & management   & single   & tertiary  & no  &  447 & yes & yes & unknown & 5 & may & 217 & 1 & -1 & 0 & unknown & no\\\\\n",
       "\t 42 & entrepreneur & divorced & tertiary  & yes &    2 & yes & no  & unknown & 5 & may & 380 & 1 & -1 & 0 & unknown & no\\\\\n",
       "\t 58 & retired      & married  & primary   & no  &  121 & yes & no  & unknown & 5 & may &  50 & 1 & -1 & 0 & unknown & no\\\\\n",
       "\t 43 & technician   & single   & secondary & no  &  593 & yes & no  & unknown & 5 & may &  55 & 1 & -1 & 0 & unknown & no\\\\\n",
       "\\end{tabular}\n"
      ],
      "text/markdown": [
       "\n",
       "A spec_tbl_df: 10 × 17\n",
       "\n",
       "| age &lt;dbl&gt; | job &lt;chr&gt; | marital &lt;chr&gt; | education &lt;chr&gt; | default &lt;chr&gt; | balance &lt;dbl&gt; | housing &lt;chr&gt; | loan &lt;chr&gt; | contact &lt;chr&gt; | day &lt;dbl&gt; | month &lt;chr&gt; | duration &lt;dbl&gt; | campaign &lt;dbl&gt; | pdays &lt;dbl&gt; | previous &lt;dbl&gt; | poutcome &lt;chr&gt; | y &lt;chr&gt; |\n",
       "|---|---|---|---|---|---|---|---|---|---|---|---|---|---|---|---|---|\n",
       "| 58 | management   | married  | tertiary  | no  | 2143 | yes | no  | unknown | 5 | may | 261 | 1 | -1 | 0 | unknown | no |\n",
       "| 44 | technician   | single   | secondary | no  |   29 | yes | no  | unknown | 5 | may | 151 | 1 | -1 | 0 | unknown | no |\n",
       "| 33 | entrepreneur | married  | secondary | no  |    2 | yes | yes | unknown | 5 | may |  76 | 1 | -1 | 0 | unknown | no |\n",
       "| 47 | blue-collar  | married  | unknown   | no  | 1506 | yes | no  | unknown | 5 | may |  92 | 1 | -1 | 0 | unknown | no |\n",
       "| 33 | unknown      | single   | unknown   | no  |    1 | no  | no  | unknown | 5 | may | 198 | 1 | -1 | 0 | unknown | no |\n",
       "| 35 | management   | married  | tertiary  | no  |  231 | yes | no  | unknown | 5 | may | 139 | 1 | -1 | 0 | unknown | no |\n",
       "| 28 | management   | single   | tertiary  | no  |  447 | yes | yes | unknown | 5 | may | 217 | 1 | -1 | 0 | unknown | no |\n",
       "| 42 | entrepreneur | divorced | tertiary  | yes |    2 | yes | no  | unknown | 5 | may | 380 | 1 | -1 | 0 | unknown | no |\n",
       "| 58 | retired      | married  | primary   | no  |  121 | yes | no  | unknown | 5 | may |  50 | 1 | -1 | 0 | unknown | no |\n",
       "| 43 | technician   | single   | secondary | no  |  593 | yes | no  | unknown | 5 | may |  55 | 1 | -1 | 0 | unknown | no |\n",
       "\n"
      ],
      "text/plain": [
       "   age job          marital  education default balance housing loan contact day\n",
       "1  58  management   married  tertiary  no      2143    yes     no   unknown 5  \n",
       "2  44  technician   single   secondary no        29    yes     no   unknown 5  \n",
       "3  33  entrepreneur married  secondary no         2    yes     yes  unknown 5  \n",
       "4  47  blue-collar  married  unknown   no      1506    yes     no   unknown 5  \n",
       "5  33  unknown      single   unknown   no         1    no      no   unknown 5  \n",
       "6  35  management   married  tertiary  no       231    yes     no   unknown 5  \n",
       "7  28  management   single   tertiary  no       447    yes     yes  unknown 5  \n",
       "8  42  entrepreneur divorced tertiary  yes        2    yes     no   unknown 5  \n",
       "9  58  retired      married  primary   no       121    yes     no   unknown 5  \n",
       "10 43  technician   single   secondary no       593    yes     no   unknown 5  \n",
       "   month duration campaign pdays previous poutcome y \n",
       "1  may   261      1        -1    0        unknown  no\n",
       "2  may   151      1        -1    0        unknown  no\n",
       "3  may    76      1        -1    0        unknown  no\n",
       "4  may    92      1        -1    0        unknown  no\n",
       "5  may   198      1        -1    0        unknown  no\n",
       "6  may   139      1        -1    0        unknown  no\n",
       "7  may   217      1        -1    0        unknown  no\n",
       "8  may   380      1        -1    0        unknown  no\n",
       "9  may    50      1        -1    0        unknown  no\n",
       "10 may    55      1        -1    0        unknown  no"
      ]
     },
     "metadata": {},
     "output_type": "display_data"
    }
   ],
   "source": [
    "# set seed\n",
    "set.seed(1337)\n",
    "\n",
    "# download and extract dataset\n",
    "dir.create(\"data/\")\n",
    "download.file(\"https://archive.ics.uci.edu/ml/machine-learning-databases/00222/bank.zip\", destfile = \"data/bank.zip\")\n",
    "unzip(\"data/bank.zip\", files = \"bank-full.csv\", exdir = \"data/\", overwrite = TRUE)\n",
    "\n",
    "# load dataset\n",
    "bank_full <- read_delim(\"data/bank-full.csv\", delim = ';')\n",
    "slice(bank_full, 1:10)"
   ]
  },
  {
   "cell_type": "markdown",
   "metadata": {},
   "source": [
    "##### In the following set we convert all of our variables to numbers and mark NA for unknown values"
   ]
  },
  {
   "cell_type": "code",
   "execution_count": 61,
   "metadata": {},
   "outputs": [
    {
     "data": {
      "text/html": [
       "<table>\n",
       "<caption>A spec_tbl_df: 5 × 17</caption>\n",
       "<thead>\n",
       "\t<tr><th scope=col>age</th><th scope=col>job</th><th scope=col>marital</th><th scope=col>education</th><th scope=col>default</th><th scope=col>balance</th><th scope=col>housing</th><th scope=col>loan</th><th scope=col>contact</th><th scope=col>day</th><th scope=col>month</th><th scope=col>duration</th><th scope=col>campaign</th><th scope=col>pdays</th><th scope=col>previous</th><th scope=col>poutcome</th><th scope=col>y</th></tr>\n",
       "\t<tr><th scope=col>&lt;dbl&gt;</th><th scope=col>&lt;dbl&gt;</th><th scope=col>&lt;dbl&gt;</th><th scope=col>&lt;dbl&gt;</th><th scope=col>&lt;dbl&gt;</th><th scope=col>&lt;dbl&gt;</th><th scope=col>&lt;dbl&gt;</th><th scope=col>&lt;dbl&gt;</th><th scope=col>&lt;dbl&gt;</th><th scope=col>&lt;dbl&gt;</th><th scope=col>&lt;dbl&gt;</th><th scope=col>&lt;dbl&gt;</th><th scope=col>&lt;dbl&gt;</th><th scope=col>&lt;dbl&gt;</th><th scope=col>&lt;dbl&gt;</th><th scope=col>&lt;dbl&gt;</th><th scope=col>&lt;dbl&gt;</th></tr>\n",
       "</thead>\n",
       "<tbody>\n",
       "\t<tr><td>58</td><td> 5</td><td>2</td><td> 3</td><td>1</td><td>2143</td><td>2</td><td>1</td><td>NA</td><td>5</td><td>9</td><td>261</td><td>1</td><td>NA</td><td>0</td><td>NA</td><td>1</td></tr>\n",
       "\t<tr><td>44</td><td>10</td><td>3</td><td> 2</td><td>1</td><td>  29</td><td>2</td><td>1</td><td>NA</td><td>5</td><td>9</td><td>151</td><td>1</td><td>NA</td><td>0</td><td>NA</td><td>1</td></tr>\n",
       "\t<tr><td>33</td><td> 3</td><td>2</td><td> 2</td><td>1</td><td>   2</td><td>2</td><td>2</td><td>NA</td><td>5</td><td>9</td><td> 76</td><td>1</td><td>NA</td><td>0</td><td>NA</td><td>1</td></tr>\n",
       "\t<tr><td>47</td><td> 2</td><td>2</td><td>NA</td><td>1</td><td>1506</td><td>2</td><td>1</td><td>NA</td><td>5</td><td>9</td><td> 92</td><td>1</td><td>NA</td><td>0</td><td>NA</td><td>1</td></tr>\n",
       "\t<tr><td>33</td><td>NA</td><td>3</td><td>NA</td><td>1</td><td>   1</td><td>1</td><td>1</td><td>NA</td><td>5</td><td>9</td><td>198</td><td>1</td><td>NA</td><td>0</td><td>NA</td><td>1</td></tr>\n",
       "</tbody>\n",
       "</table>\n"
      ],
      "text/latex": [
       "A spec\\_tbl\\_df: 5 × 17\n",
       "\\begin{tabular}{lllllllllllllllll}\n",
       " age & job & marital & education & default & balance & housing & loan & contact & day & month & duration & campaign & pdays & previous & poutcome & y\\\\\n",
       " <dbl> & <dbl> & <dbl> & <dbl> & <dbl> & <dbl> & <dbl> & <dbl> & <dbl> & <dbl> & <dbl> & <dbl> & <dbl> & <dbl> & <dbl> & <dbl> & <dbl>\\\\\n",
       "\\hline\n",
       "\t 58 &  5 & 2 &  3 & 1 & 2143 & 2 & 1 & NA & 5 & 9 & 261 & 1 & NA & 0 & NA & 1\\\\\n",
       "\t 44 & 10 & 3 &  2 & 1 &   29 & 2 & 1 & NA & 5 & 9 & 151 & 1 & NA & 0 & NA & 1\\\\\n",
       "\t 33 &  3 & 2 &  2 & 1 &    2 & 2 & 2 & NA & 5 & 9 &  76 & 1 & NA & 0 & NA & 1\\\\\n",
       "\t 47 &  2 & 2 & NA & 1 & 1506 & 2 & 1 & NA & 5 & 9 &  92 & 1 & NA & 0 & NA & 1\\\\\n",
       "\t 33 & NA & 3 & NA & 1 &    1 & 1 & 1 & NA & 5 & 9 & 198 & 1 & NA & 0 & NA & 1\\\\\n",
       "\\end{tabular}\n"
      ],
      "text/markdown": [
       "\n",
       "A spec_tbl_df: 5 × 17\n",
       "\n",
       "| age &lt;dbl&gt; | job &lt;dbl&gt; | marital &lt;dbl&gt; | education &lt;dbl&gt; | default &lt;dbl&gt; | balance &lt;dbl&gt; | housing &lt;dbl&gt; | loan &lt;dbl&gt; | contact &lt;dbl&gt; | day &lt;dbl&gt; | month &lt;dbl&gt; | duration &lt;dbl&gt; | campaign &lt;dbl&gt; | pdays &lt;dbl&gt; | previous &lt;dbl&gt; | poutcome &lt;dbl&gt; | y &lt;dbl&gt; |\n",
       "|---|---|---|---|---|---|---|---|---|---|---|---|---|---|---|---|---|\n",
       "| 58 |  5 | 2 |  3 | 1 | 2143 | 2 | 1 | NA | 5 | 9 | 261 | 1 | NA | 0 | NA | 1 |\n",
       "| 44 | 10 | 3 |  2 | 1 |   29 | 2 | 1 | NA | 5 | 9 | 151 | 1 | NA | 0 | NA | 1 |\n",
       "| 33 |  3 | 2 |  2 | 1 |    2 | 2 | 2 | NA | 5 | 9 |  76 | 1 | NA | 0 | NA | 1 |\n",
       "| 47 |  2 | 2 | NA | 1 | 1506 | 2 | 1 | NA | 5 | 9 |  92 | 1 | NA | 0 | NA | 1 |\n",
       "| 33 | NA | 3 | NA | 1 |    1 | 1 | 1 | NA | 5 | 9 | 198 | 1 | NA | 0 | NA | 1 |\n",
       "\n"
      ],
      "text/plain": [
       "  age job marital education default balance housing loan contact day month\n",
       "1 58   5  2        3        1       2143    2       1    NA      5   9    \n",
       "2 44  10  3        2        1         29    2       1    NA      5   9    \n",
       "3 33   3  2        2        1          2    2       2    NA      5   9    \n",
       "4 47   2  2       NA        1       1506    2       1    NA      5   9    \n",
       "5 33  NA  3       NA        1          1    1       1    NA      5   9    \n",
       "  duration campaign pdays previous poutcome y\n",
       "1 261      1        NA    0        NA       1\n",
       "2 151      1        NA    0        NA       1\n",
       "3  76      1        NA    0        NA       1\n",
       "4  92      1        NA    0        NA       1\n",
       "5 198      1        NA    0        NA       1"
      ]
     },
     "metadata": {},
     "output_type": "display_data"
    }
   ],
   "source": [
    "\n",
    "bank_fixed = bank_full\n",
    "bank_fixed = mutate(bank_fixed, across(where(is.character), ~na_if(., \"unknown\")))\n",
    "bank_fixed = mutate(bank_fixed, pdays = na_if(pdays, -1))\n",
    "bank_fixed$job = as.numeric(as.factor(bank_fixed$job))\n",
    "bank_fixed$marital = as.numeric(as.factor(bank_fixed$marital))\n",
    "bank_fixed$education = as.numeric(as.factor(bank_fixed$education))\n",
    "bank_fixed$default = as.numeric(as.factor(bank_fixed$default))\n",
    "bank_fixed$housing = as.numeric(as.factor(bank_fixed$housing))\n",
    "bank_fixed$loan = as.numeric(as.factor(bank_fixed$loan))\n",
    "bank_fixed$contact = as.numeric(as.factor(bank_fixed$contact))\n",
    "bank_fixed$month = as.numeric(as.factor(bank_fixed$month))\n",
    "bank_fixed$poutcome = as.numeric(as.factor(bank_fixed$poutcome))\n",
    "bank_fixed$y = as.numeric(as.factor(bank_fixed$y))\n",
    "bank_factor = mutate(bank_fixed, y = as_factor(y))\n",
    "slice(bank_fixed, 1:5)"
   ]
  },
  {
   "cell_type": "markdown",
   "metadata": {},
   "source": [
    "##### In the next cell we install resources for corelation table"
   ]
  },
  {
   "cell_type": "code",
   "execution_count": 62,
   "metadata": {},
   "outputs": [
    {
     "name": "stderr",
     "output_type": "stream",
     "text": [
      "Updating HTML index of packages in '.Library'\n",
      "\n",
      "Making 'packages.html' ...\n",
      " done\n",
      "\n"
     ]
    }
   ],
   "source": [
    "install.packages(\"corrplot\")\n",
    "source(\"http://www.sthda.com/upload/rquery_cormat.r\")"
   ]
  },
  {
   "cell_type": "markdown",
   "metadata": {},
   "source": [
    "##### Correlation Table:"
   ]
  },
  {
   "cell_type": "code",
   "execution_count": 63,
   "metadata": {},
   "outputs": [
    {
     "data": {
      "text/plain": [
       "$r\n",
       "          marital     job education duration poutcome       y balance     day\n",
       "marital         1                                                            \n",
       "job          0.07       1                                                    \n",
       "education    0.14    0.17         1                                          \n",
       "duration  -0.0071   0.023   -0.0031        1                                 \n",
       "poutcome    0.047   0.063     0.081     0.11        1                        \n",
       "y           0.051   0.078      0.11     0.35     0.42       1                \n",
       "balance    -0.023   0.038     0.079    0.041    0.051   0.079       1        \n",
       "day         0.015   0.016     0.018  -0.0066    0.015    0.03   0.048       1\n",
       "housing    -0.051   -0.12     -0.12   -0.072    -0.29   -0.32   -0.11  -0.071\n",
       "pdays     -0.0066   -0.11     -0.16  -0.0096    -0.24   -0.15    -0.1   -0.09\n",
       "default   -0.0029  -0.019    -0.011  -0.0061   -0.025  -0.032  -0.045 -0.0013\n",
       "loan       -0.056  -0.028    -0.031   -0.035    -0.11   -0.12  -0.084  0.0096\n",
       "campaign  -0.0074 -0.0069    -0.027   -0.094    0.002  -0.095  -0.012  -0.028\n",
       "previous   0.0044  0.0024    0.0099  -0.0018    0.041   0.012  0.0017  -0.016\n",
       "month      -0.026 -0.0051   -0.0053   -0.033   -0.024 -0.0052   0.014  -0.023\n",
       "age         -0.41  -0.022     -0.18    0.059    0.045   0.067    0.12   0.015\n",
       "contact    -0.022 -0.0078    -0.098  -0.0035    0.019  -0.012   0.046  -0.013\n",
       "          housing  pdays default    loan campaign previous month  age contact\n",
       "marital                                                                      \n",
       "job                                                                          \n",
       "education                                                                    \n",
       "duration                                                                     \n",
       "poutcome                                                                     \n",
       "y                                                                            \n",
       "balance                                                                      \n",
       "day                                                                          \n",
       "housing         1                                                            \n",
       "pdays        0.35      1                                                     \n",
       "default     0.021  0.036       1                                             \n",
       "loan          0.1  0.015   0.049       1                                     \n",
       "campaign    0.062  0.064 -0.0025  0.0085        1                            \n",
       "previous   0.0079 -0.027   0.013   0.014     0.14        1                   \n",
       "month       0.015  0.018   0.024 -0.0012    0.026   0.0096     1             \n",
       "age         -0.19  -0.11  -0.027 -0.0044  0.00074   0.0034 0.017    1        \n",
       "contact    -0.078 -0.013  -0.018  -0.035     0.11    0.042 0.024 0.19       1\n",
       "\n",
       "$p\n",
       "           marital      job education duration poutcome        y balance\n",
       "marital          0                                                      \n",
       "job        1.6e-40        0                                             \n",
       "education 1.6e-143        0         0                                   \n",
       "duration     0.012     0.21      0.58        0                          \n",
       "poutcome   5.2e-05    2e-09   8.8e-13  6.7e-23        0                 \n",
       "y          3.1e-22  3.1e-18   1.8e-49        0        0        0        \n",
       "balance       0.65  0.00039   2.6e-47  4.5e-06  2.2e-06  2.5e-29       0\n",
       "day           0.26    1e-07   3.2e-08  1.3e-10     0.14  1.7e-09    0.34\n",
       "housing    0.00062 2.4e-132   3.7e-61     0.28 1.9e-153 2.6e-194 1.6e-48\n",
       "pdays         0.28  2.7e-23   6.2e-44    0.027 1.4e-105  5.5e-44 6.7e-23\n",
       "default       0.14     0.21     0.014    0.033    0.021  1.9e-06 8.2e-46\n",
       "loan       1.9e-23  2.3e-09   6.3e-09   0.0083  1.2e-21  9.8e-48 3.5e-72\n",
       "campaign     0.056     0.33      0.39  1.5e-72     0.93    1e-54  0.0019\n",
       "previous    0.0015      0.9   1.8e-07      0.8  0.00015  7.8e-88 0.00039\n",
       "month         0.14  7.1e-86   2.4e-56     0.18    0.067    2e-07 2.6e-05\n",
       "age              0  8.8e-11  2.6e-268     0.32  1.8e-06  8.8e-08 1.8e-96\n",
       "contact      2e-08  2.1e-06   3.4e-87  3.2e-08     0.08     0.03 6.2e-11\n",
       "               day  housing   pdays default    loan campaign previous   month\n",
       "marital                                                                      \n",
       "job                                                                          \n",
       "education                                                                    \n",
       "duration                                                                     \n",
       "poutcome                                                                     \n",
       "y                                                                            \n",
       "balance                                                                      \n",
       "day              0                                                           \n",
       "housing    2.7e-09        0                                                  \n",
       "pdays      2.4e-16 7.4e-216       0                                          \n",
       "default      0.045      0.2  0.0022       0                                  \n",
       "loan         0.016  1.5e-18   0.041 8.9e-61       0                          \n",
       "campaign  4.8e-265  5.2e-07 4.3e-06 0.00035   0.034        0                 \n",
       "previous   3.7e-28  3.1e-15   0.047 9.7e-05   0.019  2.8e-12        0        \n",
       "month          0.2        0   0.041   0.015 2.5e-06   9e-122  1.3e-06       0\n",
       "age          0.052        0 8.5e-23 0.00014 0.00087     0.31     0.78 2.1e-19\n",
       "contact    9.5e-05  4.8e-23    0.16  0.0017   0.002  1.2e-34     0.66 2.1e-28\n",
       "               age contact\n",
       "marital                   \n",
       "job                       \n",
       "education                 \n",
       "duration                  \n",
       "poutcome                  \n",
       "y                         \n",
       "balance                   \n",
       "day                       \n",
       "housing                   \n",
       "pdays                     \n",
       "default                   \n",
       "loan                      \n",
       "campaign                  \n",
       "previous                  \n",
       "month                     \n",
       "age              0        \n",
       "contact   5.3e-267       0\n",
       "\n",
       "$sym\n",
       "          marital job education duration poutcome y balance day housing pdays\n",
       "marital   1                                                                  \n",
       "job               1                                                          \n",
       "education             1                                                      \n",
       "duration                        1                                            \n",
       "poutcome                                 1                                   \n",
       "y                               .        .        1                          \n",
       "balance                                             1                        \n",
       "day                                                         1                \n",
       "housing                                           .             1            \n",
       "pdays                                                           .       1    \n",
       "default                                                                      \n",
       "loan                                                                         \n",
       "campaign                                                                     \n",
       "previous                                                                     \n",
       "month                                                                        \n",
       "age       .                                                                  \n",
       "contact                                                                      \n",
       "          default loan campaign previous month age contact\n",
       "marital                                                   \n",
       "job                                                       \n",
       "education                                                 \n",
       "duration                                                  \n",
       "poutcome                                                  \n",
       "y                                                         \n",
       "balance                                                   \n",
       "day                                                       \n",
       "housing                                                   \n",
       "pdays                                                     \n",
       "default   1                                               \n",
       "loan              1                                       \n",
       "campaign               1                                  \n",
       "previous                        1                         \n",
       "month                                    1                \n",
       "age                                            1          \n",
       "contact                                            1      \n",
       "attr(,\"legend\")\n",
       "[1] 0 ‘ ’ 0.3 ‘.’ 0.6 ‘,’ 0.8 ‘+’ 0.9 ‘*’ 0.95 ‘B’ 1\n"
      ]
     },
     "metadata": {},
     "output_type": "display_data"
    },
    {
     "data": {
      "image/png": "[encoded data removed]",
      "text/plain": [
       "Plot with title “”"
      ]
     },
     "metadata": {
      "image/png": {
       "height": 420,
       "width": 420
      }
     },
     "output_type": "display_data"
    }
   ],
   "source": [
    "# print corelation table\n",
    "rquery.cormat(bank_fixed)"
   ]
  },
  {
   "cell_type": "markdown",
   "metadata": {},
   "source": [
    "##### Creating model and specification:\n",
    "\n",
    "In the next cell code we create the specification needed for our algorithm"
   ]
  },
  {
   "cell_type": "code",
   "execution_count": 64,
   "metadata": {},
   "outputs": [
    {
     "data": {
      "text/plain": [
       "K-Nearest Neighbor Model Specification (classification)\n",
       "\n",
       "Main Arguments:\n",
       "  weight_func = rectangular\n",
       "\n",
       "Computational engine: kknn \n"
      ]
     },
     "metadata": {},
     "output_type": "display_data"
    },
    {
     "data": {
      "text/plain": [
       "parsnip model object\n",
       "\n",
       "Fit time:  400ms \n",
       "\n",
       "Call:\n",
       "kknn::train.kknn(formula = y ~ age:poutcome, data = data, ks = 5,     kernel = ~\"rectangular\")\n",
       "\n",
       "Type of response variable: nominal\n",
       "Minimal misclassification: 0.2077072\n",
       "Best kernel: rectangular\n",
       "Best k: 5"
      ]
     },
     "metadata": {},
     "output_type": "display_data"
    }
   ],
   "source": [
    "# create knn model\n",
    "knn_spec = nearest_neighbor(weight_func = \"rectangular\") %>%\n",
    "       set_engine(\"kknn\") %>%\n",
    "       set_mode(\"classification\")\n",
    "\n",
    "knn_fit = knn_spec %>% \n",
    "       fit(y ~ age:poutcome, data = bank_factor)\n",
    "\n",
    "knn_spec\n",
    "knn_fit"
   ]
  },
  {
   "cell_type": "markdown",
   "metadata": {},
   "source": [
    "To test our algorithm we create a tibble and assign the built in predict function to it. This step is solely to make sure of model runs and does not help us in answering our predictive question."
   ]
  },
  {
   "cell_type": "code",
   "execution_count": 65,
   "metadata": {},
   "outputs": [
    {
     "data": {
      "text/html": [
       "<table>\n",
       "<caption>A tibble: 1 × 1</caption>\n",
       "<thead>\n",
       "\t<tr><th scope=col>.pred_class</th></tr>\n",
       "\t<tr><th scope=col>&lt;fct&gt;</th></tr>\n",
       "</thead>\n",
       "<tbody>\n",
       "\t<tr><td>2</td></tr>\n",
       "</tbody>\n",
       "</table>\n"
      ],
      "text/latex": [
       "A tibble: 1 × 1\n",
       "\\begin{tabular}{l}\n",
       " .pred\\_class\\\\\n",
       " <fct>\\\\\n",
       "\\hline\n",
       "\t 2\\\\\n",
       "\\end{tabular}\n"
      ],
      "text/markdown": [
       "\n",
       "A tibble: 1 × 1\n",
       "\n",
       "| .pred_class &lt;fct&gt; |\n",
       "|---|\n",
       "| 2 |\n",
       "\n"
      ],
      "text/plain": [
       "  .pred_class\n",
       "1 2          "
      ]
     },
     "metadata": {},
     "output_type": "display_data"
    }
   ],
   "source": [
    "# test knn model (not nessisary just want to make sure it works)\n",
    "\n",
    "# age = 58, job = \"management\", marital = \"married\", education = \"tertiary\", default = \"no\", balance = 2143, housing = \"yes\", loan = \"no\", contact = \"unknown\", day = 5,\n",
    "#    month = \"may\", duration = 261, campaign = 1, pdays = -1, previous = 0, poutcome = \"unknown\"\n",
    "new_obs <- tibble(age = 58, job = 5, marital = 2, education = 3, default = 1, balance = 2143, housing = 2, loan = 1, contact = NA,\n",
    "                  day = 5, month = 9, duration = 261, campaign = 1, pdays = NA, previous = 0, poutcome = 4)\n",
    "\n",
    "class_prediction <- predict(knn_fit, new_obs)\n",
    "class_prediction"
   ]
  },
  {
   "cell_type": "markdown",
   "metadata": {},
   "source": [
    "##### Before we begin to test which variable plays the greatest influence on whether a client subscribes to the credit card or not, we must first split our data into a training and testing set and than scale all the factors in our training set."
   ]
  },
  {
   "cell_type": "code",
   "execution_count": 66,
   "metadata": {},
   "outputs": [],
   "source": [
    "set.seed(1)\n",
    "bank_split <- initial_split(bank_factor, prop = 0.75, strata = y)\n",
    "bank_train <- training(bank_split)\n",
    "bank_test <- testing(bank_split)"
   ]
  },
  {
   "cell_type": "markdown",
   "metadata": {},
   "source": [
    "##### To view our data we use the built in glimpse function"
   ]
  },
  {
   "cell_type": "code",
   "execution_count": 67,
   "metadata": {},
   "outputs": [
    {
     "name": "stdout",
     "output_type": "stream",
     "text": [
      "Rows: 33,909\n",
      "Columns: 17\n",
      "$ age       \u001b[3m\u001b[90m<dbl>\u001b[39m\u001b[23m 58, 44, 33, 47, 33, 35, 42, 58, 43, 41, 29, 53, 58, 51, 60,…\n",
      "$ job       \u001b[3m\u001b[90m<dbl>\u001b[39m\u001b[23m 5, 10, 3, 2, NA, 5, 3, 6, 10, 1, 1, 10, 10, 6, 6, 2, 5, 2, …\n",
      "$ marital   \u001b[3m\u001b[90m<dbl>\u001b[39m\u001b[23m 2, 3, 2, 2, 3, 2, 1, 2, 3, 1, 3, 2, 2, 2, 2, 2, 2, 3, 2, 2,…\n",
      "$ education \u001b[3m\u001b[90m<dbl>\u001b[39m\u001b[23m 3, 2, 2, NA, NA, 3, 3, 1, 2, 2, 2, 2, NA, 1, 1, 2, 3, 1, 1,…\n",
      "$ default   \u001b[3m\u001b[90m<dbl>\u001b[39m\u001b[23m 1, 1, 1, 1, 1, 1, 2, 1, 1, 1, 1, 1, 1, 1, 1, 1, 1, 1, 1, 1,…\n",
      "$ balance   \u001b[3m\u001b[90m<dbl>\u001b[39m\u001b[23m 2143, 29, 2, 1506, 1, 231, 2, 121, 593, 270, 390, 6, 71, 22…\n",
      "$ housing   \u001b[3m\u001b[90m<dbl>\u001b[39m\u001b[23m 2, 2, 2, 2, 1, 2, 2, 2, 2, 2, 2, 2, 2, 2, 2, 2, 2, 2, 2, 2,…\n",
      "$ loan      \u001b[3m\u001b[90m<dbl>\u001b[39m\u001b[23m 1, 1, 2, 1, 1, 1, 1, 1, 1, 1, 1, 1, 1, 1, 1, 2, 1, 2, 2, 1,…\n",
      "$ contact   \u001b[3m\u001b[90m<dbl>\u001b[39m\u001b[23m NA, NA, NA, NA, NA, NA, NA, NA, NA, NA, NA, NA, NA, NA, NA,…\n",
      "$ day       \u001b[3m\u001b[90m<dbl>\u001b[39m\u001b[23m 5, 5, 5, 5, 5, 5, 5, 5, 5, 5, 5, 5, 5, 5, 5, 5, 5, 5, 5, 5,…\n",
      "$ month     \u001b[3m\u001b[90m<dbl>\u001b[39m\u001b[23m 9, 9, 9, 9, 9, 9, 9, 9, 9, 9, 9, 9, 9, 9, 9, 9, 9, 9, 9, 9,…\n",
      "$ duration  \u001b[3m\u001b[90m<dbl>\u001b[39m\u001b[23m 261, 151, 76, 92, 198, 139, 380, 50, 55, 222, 137, 517, 71,…\n",
      "$ campaign  \u001b[3m\u001b[90m<dbl>\u001b[39m\u001b[23m 1, 1, 1, 1, 1, 1, 1, 1, 1, 1, 1, 1, 1, 1, 1, 1, 1, 1, 1, 1,…\n",
      "$ pdays     \u001b[3m\u001b[90m<dbl>\u001b[39m\u001b[23m NA, NA, NA, NA, NA, NA, NA, NA, NA, NA, NA, NA, NA, NA, NA,…\n",
      "$ previous  \u001b[3m\u001b[90m<dbl>\u001b[39m\u001b[23m 0, 0, 0, 0, 0, 0, 0, 0, 0, 0, 0, 0, 0, 0, 0, 0, 0, 0, 0, 0,…\n",
      "$ poutcome  \u001b[3m\u001b[90m<dbl>\u001b[39m\u001b[23m NA, NA, NA, NA, NA, NA, NA, NA, NA, NA, NA, NA, NA, NA, NA,…\n",
      "$ y         \u001b[3m\u001b[90m<fct>\u001b[39m\u001b[23m 1, 1, 1, 1, 1, 1, 1, 1, 1, 1, 1, 1, 1, 1, 1, 1, 1, 1, 1, 1,…\n"
     ]
    }
   ],
   "source": [
    "glimpse(bank_train)"
   ]
  },
  {
   "cell_type": "code",
   "execution_count": 68,
   "metadata": {},
   "outputs": [
    {
     "name": "stdout",
     "output_type": "stream",
     "text": [
      "Rows: 33,909\n",
      "Columns: 17\n",
      "$ age       \u001b[3m\u001b[90m<dbl>\u001b[39m\u001b[23m 58, 44, 33, 47, 33, 35, 42, 58, 43, 41, 29, 53, 58, 51, 60,…\n",
      "$ job       \u001b[3m\u001b[90m<dbl>\u001b[39m\u001b[23m 5, 10, 3, 2, NA, 5, 3, 6, 10, 1, 1, 10, 10, 6, 6, 2, 5, 2, …\n",
      "$ marital   \u001b[3m\u001b[90m<dbl>\u001b[39m\u001b[23m 2, 3, 2, 2, 3, 2, 1, 2, 3, 1, 3, 2, 2, 2, 2, 2, 2, 3, 2, 2,…\n",
      "$ education \u001b[3m\u001b[90m<dbl>\u001b[39m\u001b[23m 3, 2, 2, NA, NA, 3, 3, 1, 2, 2, 2, 2, NA, 1, 1, 2, 3, 1, 1,…\n",
      "$ default   \u001b[3m\u001b[90m<dbl>\u001b[39m\u001b[23m 1, 1, 1, 1, 1, 1, 2, 1, 1, 1, 1, 1, 1, 1, 1, 1, 1, 1, 1, 1,…\n",
      "$ balance   \u001b[3m\u001b[90m<dbl>\u001b[39m\u001b[23m 2143, 29, 2, 1506, 1, 231, 2, 121, 593, 270, 390, 6, 71, 22…\n",
      "$ housing   \u001b[3m\u001b[90m<dbl>\u001b[39m\u001b[23m 2, 2, 2, 2, 1, 2, 2, 2, 2, 2, 2, 2, 2, 2, 2, 2, 2, 2, 2, 2,…\n",
      "$ loan      \u001b[3m\u001b[90m<dbl>\u001b[39m\u001b[23m 1, 1, 2, 1, 1, 1, 1, 1, 1, 1, 1, 1, 1, 1, 1, 2, 1, 2, 2, 1,…\n",
      "$ contact   \u001b[3m\u001b[90m<dbl>\u001b[39m\u001b[23m NA, NA, NA, NA, NA, NA, NA, NA, NA, NA, NA, NA, NA, NA, NA,…\n",
      "$ day       \u001b[3m\u001b[90m<dbl>\u001b[39m\u001b[23m 5, 5, 5, 5, 5, 5, 5, 5, 5, 5, 5, 5, 5, 5, 5, 5, 5, 5, 5, 5,…\n",
      "$ month     \u001b[3m\u001b[90m<dbl>\u001b[39m\u001b[23m 9, 9, 9, 9, 9, 9, 9, 9, 9, 9, 9, 9, 9, 9, 9, 9, 9, 9, 9, 9,…\n",
      "$ duration  \u001b[3m\u001b[90m<dbl>\u001b[39m\u001b[23m 261, 151, 76, 92, 198, 139, 380, 50, 55, 222, 137, 517, 71,…\n",
      "$ campaign  \u001b[3m\u001b[90m<dbl>\u001b[39m\u001b[23m 1, 1, 1, 1, 1, 1, 1, 1, 1, 1, 1, 1, 1, 1, 1, 1, 1, 1, 1, 1,…\n",
      "$ pdays     \u001b[3m\u001b[90m<dbl>\u001b[39m\u001b[23m NA, NA, NA, NA, NA, NA, NA, NA, NA, NA, NA, NA, NA, NA, NA,…\n",
      "$ previous  \u001b[3m\u001b[90m<dbl>\u001b[39m\u001b[23m 0, 0, 0, 0, 0, 0, 0, 0, 0, 0, 0, 0, 0, 0, 0, 0, 0, 0, 0, 0,…\n",
      "$ poutcome  \u001b[3m\u001b[90m<dbl>\u001b[39m\u001b[23m NA, NA, NA, NA, NA, NA, NA, NA, NA, NA, NA, NA, NA, NA, NA,…\n",
      "$ y         \u001b[3m\u001b[90m<fct>\u001b[39m\u001b[23m 1, 1, 1, 1, 1, 1, 1, 1, 1, 1, 1, 1, 1, 1, 1, 1, 1, 1, 1, 1,…\n"
     ]
    }
   ],
   "source": [
    "glimpse(bank_train)"
   ]
  },
  {
   "cell_type": "markdown",
   "metadata": {},
   "source": [
    "K-NN is sensitive to the scale of the predictors, and so we should perform some preprocessing to standardize them. An additional consideration we need to take when doing this is that we should create the standardization preprocessor using only the training data. This ensures that our test data does not influence any aspect of our model training. Once we have created the standardization preprocessor, we can then apply it separately to both the training and test data sets."
   ]
  },
  {
   "cell_type": "markdown",
   "metadata": {},
   "source": [
    "## Create a new recipe and specification for every individual variable"
   ]
  },
  {
   "cell_type": "markdown",
   "metadata": {},
   "source": [
    "##### This specification can be used for every variable:"
   ]
  },
  {
   "cell_type": "code",
   "execution_count": 69,
   "metadata": {},
   "outputs": [],
   "source": [
    "knn_specification <- nearest_neighbor(weight_func = \"rectangular\", neighbors = 3) %>%\n",
    "  set_engine(\"kknn\") %>%\n",
    "  set_mode(\"classification\")"
   ]
  },
  {
   "cell_type": "markdown",
   "metadata": {},
   "source": [
    "#### Accuracy of \"marital\" variable as a predictor:"
   ]
  },
  {
   "cell_type": "code",
   "execution_count": 70,
   "metadata": {},
   "outputs": [],
   "source": [
    "bank_recipe_marital <- recipe(y ~ marital, data = bank_train) %>%\n",
    "  step_scale(all_predictors()) %>%\n",
    "  step_center(all_predictors())\n",
    "\n",
    "knn_fit_marital <- workflow() %>%\n",
    "    add_recipe(bank_recipe_marital) %>%\n",
    "    add_model(knn_specification) %>%\n",
    "    fit(data = bank_train)"
   ]
  },
  {
   "cell_type": "code",
   "execution_count": 71,
   "metadata": {},
   "outputs": [
    {
     "data": {
      "text/html": [
       "<table>\n",
       "<caption>A tibble: 2 × 3</caption>\n",
       "<thead>\n",
       "\t<tr><th scope=col>.metric</th><th scope=col>.estimator</th><th scope=col>.estimate</th></tr>\n",
       "\t<tr><th scope=col>&lt;chr&gt;</th><th scope=col>&lt;chr&gt;</th><th scope=col>&lt;dbl&gt;</th></tr>\n",
       "</thead>\n",
       "<tbody>\n",
       "\t<tr><td>accuracy</td><td>binary</td><td>0.8830296</td></tr>\n",
       "\t<tr><td>kap     </td><td>binary</td><td>0.0000000</td></tr>\n",
       "</tbody>\n",
       "</table>\n"
      ],
      "text/latex": [
       "A tibble: 2 × 3\n",
       "\\begin{tabular}{lll}\n",
       " .metric & .estimator & .estimate\\\\\n",
       " <chr> & <chr> & <dbl>\\\\\n",
       "\\hline\n",
       "\t accuracy & binary & 0.8830296\\\\\n",
       "\t kap      & binary & 0.0000000\\\\\n",
       "\\end{tabular}\n"
      ],
      "text/markdown": [
       "\n",
       "A tibble: 2 × 3\n",
       "\n",
       "| .metric &lt;chr&gt; | .estimator &lt;chr&gt; | .estimate &lt;dbl&gt; |\n",
       "|---|---|---|\n",
       "| accuracy | binary | 0.8830296 |\n",
       "| kap      | binary | 0.0000000 |\n",
       "\n"
      ],
      "text/plain": [
       "  .metric  .estimator .estimate\n",
       "1 accuracy binary     0.8830296\n",
       "2 kap      binary     0.0000000"
      ]
     },
     "metadata": {},
     "output_type": "display_data"
    }
   ],
   "source": [
    "bank_test_predictions_marital <- predict(knn_fit_marital, bank_test) %>%\n",
    "  bind_cols(bank_test)\n",
    "\n",
    "marital_pred = bank_test_predictions_marital %>%\n",
    "  metrics(truth = y, estimate = .pred_class)\n",
    "marital_pred"
   ]
  },
  {
   "cell_type": "markdown",
   "metadata": {},
   "source": [
    "##### From the above cell we see that when we use the \"marital\" variable as our predictor, we yeild a 88.3% accuracy"
   ]
  },
  {
   "cell_type": "markdown",
   "metadata": {},
   "source": [
    "#### Accuracy of \"education\" variable as a predictor: not working due to na in data set"
   ]
  },
  {
   "cell_type": "code",
   "execution_count": 76,
   "metadata": {},
   "outputs": [],
   "source": [
    "bank_recipe_education <- recipe(y ~ education, data = bank_train) %>%\n",
    "  step_scale(all_predictors()) %>%\n",
    "  step_center(all_predictors())\n",
    "\n",
    "knn_fit_education <- workflow() %>%\n",
    "    add_recipe(bank_recipe_education) %>%\n",
    "    add_model(knn_specification) %>%\n",
    "    fit(data = bank_train)"
   ]
  },
  {
   "cell_type": "code",
   "execution_count": 78,
   "metadata": {},
   "outputs": [],
   "source": [
    "#bank_test_predictions_education <- predict(knn_fit_education, bank_test) %>%\n",
    "#  bind_cols(bank_test)\n",
    "\n",
    "#bank_test_predictions_education %>%\n",
    "#  metrics(truth = y, estimate = .pred_class)"
   ]
  },
  {
   "cell_type": "markdown",
   "metadata": {},
   "source": [
    "#### Accuracy of \"default\" variable as a predictor:"
   ]
  },
  {
   "cell_type": "code",
   "execution_count": 72,
   "metadata": {},
   "outputs": [],
   "source": [
    "bank_recipe_default <- recipe(y ~ default, data = bank_train) %>%\n",
    "  step_scale(all_predictors()) %>%\n",
    "  step_center(all_predictors())\n",
    "\n",
    "knn_fit_default <- workflow() %>%\n",
    "    add_recipe(bank_recipe_default) %>%\n",
    "    add_model(knn_specification) %>%\n",
    "    fit(data = bank_train)"
   ]
  },
  {
   "cell_type": "code",
   "execution_count": 73,
   "metadata": {},
   "outputs": [
    {
     "data": {
      "text/html": [
       "<table>\n",
       "<caption>A tibble: 2 × 3</caption>\n",
       "<thead>\n",
       "\t<tr><th scope=col>.metric</th><th scope=col>.estimator</th><th scope=col>.estimate</th></tr>\n",
       "\t<tr><th scope=col>&lt;chr&gt;</th><th scope=col>&lt;chr&gt;</th><th scope=col>&lt;dbl&gt;</th></tr>\n",
       "</thead>\n",
       "<tbody>\n",
       "\t<tr><td>accuracy</td><td>binary</td><td>0.8830296</td></tr>\n",
       "\t<tr><td>kap     </td><td>binary</td><td>0.0000000</td></tr>\n",
       "</tbody>\n",
       "</table>\n"
      ],
      "text/latex": [
       "A tibble: 2 × 3\n",
       "\\begin{tabular}{lll}\n",
       " .metric & .estimator & .estimate\\\\\n",
       " <chr> & <chr> & <dbl>\\\\\n",
       "\\hline\n",
       "\t accuracy & binary & 0.8830296\\\\\n",
       "\t kap      & binary & 0.0000000\\\\\n",
       "\\end{tabular}\n"
      ],
      "text/markdown": [
       "\n",
       "A tibble: 2 × 3\n",
       "\n",
       "| .metric &lt;chr&gt; | .estimator &lt;chr&gt; | .estimate &lt;dbl&gt; |\n",
       "|---|---|---|\n",
       "| accuracy | binary | 0.8830296 |\n",
       "| kap      | binary | 0.0000000 |\n",
       "\n"
      ],
      "text/plain": [
       "  .metric  .estimator .estimate\n",
       "1 accuracy binary     0.8830296\n",
       "2 kap      binary     0.0000000"
      ]
     },
     "metadata": {},
     "output_type": "display_data"
    }
   ],
   "source": [
    "bank_test_predictions_default <- predict(knn_fit_default, bank_test) %>%\n",
    "  bind_cols(bank_test)\n",
    "\n",
    "default_pred = bank_test_predictions_default %>%\n",
    "  metrics(truth = y, estimate = .pred_class)\n",
    "\n",
    "default_pred"
   ]
  },
  {
   "cell_type": "markdown",
   "metadata": {},
   "source": [
    "#### Accuracy of \"age\" variable as a predictor:"
   ]
  },
  {
   "cell_type": "code",
   "execution_count": 74,
   "metadata": {},
   "outputs": [],
   "source": [
    "bank_recipe_age <- recipe(y ~ age, data = bank_train) %>%\n",
    "  step_scale(all_predictors()) %>%\n",
    "  step_center(all_predictors())\n",
    "\n",
    "knn_fit_age <- workflow() %>%\n",
    "    add_recipe(bank_recipe_age) %>%\n",
    "    add_model(knn_specification) %>%\n",
    "    fit(data = bank_train)"
   ]
  },
  {
   "cell_type": "code",
   "execution_count": 75,
   "metadata": {},
   "outputs": [
    {
     "data": {
      "text/html": [
       "<table>\n",
       "<caption>A tibble: 2 × 3</caption>\n",
       "<thead>\n",
       "\t<tr><th scope=col>.metric</th><th scope=col>.estimator</th><th scope=col>.estimate</th></tr>\n",
       "\t<tr><th scope=col>&lt;chr&gt;</th><th scope=col>&lt;chr&gt;</th><th scope=col>&lt;dbl&gt;</th></tr>\n",
       "</thead>\n",
       "<tbody>\n",
       "\t<tr><td>accuracy</td><td>binary</td><td>0.88241019</td></tr>\n",
       "\t<tr><td>kap     </td><td>binary</td><td>0.03550441</td></tr>\n",
       "</tbody>\n",
       "</table>\n"
      ],
      "text/latex": [
       "A tibble: 2 × 3\n",
       "\\begin{tabular}{lll}\n",
       " .metric & .estimator & .estimate\\\\\n",
       " <chr> & <chr> & <dbl>\\\\\n",
       "\\hline\n",
       "\t accuracy & binary & 0.88241019\\\\\n",
       "\t kap      & binary & 0.03550441\\\\\n",
       "\\end{tabular}\n"
      ],
      "text/markdown": [
       "\n",
       "A tibble: 2 × 3\n",
       "\n",
       "| .metric &lt;chr&gt; | .estimator &lt;chr&gt; | .estimate &lt;dbl&gt; |\n",
       "|---|---|---|\n",
       "| accuracy | binary | 0.88241019 |\n",
       "| kap      | binary | 0.03550441 |\n",
       "\n"
      ],
      "text/plain": [
       "  .metric  .estimator .estimate \n",
       "1 accuracy binary     0.88241019\n",
       "2 kap      binary     0.03550441"
      ]
     },
     "metadata": {},
     "output_type": "display_data"
    }
   ],
   "source": [
    "bank_test_predictions_age <- predict(knn_fit_age, bank_test) %>%\n",
    "  bind_cols(bank_test)\n",
    "\n",
    "age_pred = bank_test_predictions_age %>%\n",
    "  metrics(truth = y, estimate = .pred_class)\n",
    "\n",
    "age_pred"
   ]
  },
  {
   "cell_type": "markdown",
   "metadata": {},
   "source": [
    "#### Accuracy of \"balance\" variable as a predictor:"
   ]
  },
  {
   "cell_type": "code",
   "execution_count": 79,
   "metadata": {},
   "outputs": [],
   "source": [
    "bank_recipe_balance <- recipe(y ~ balance, data = bank_train) %>%\n",
    "  step_scale(all_predictors()) %>%\n",
    "  step_center(all_predictors())\n",
    "\n",
    "knn_fit_balance <- workflow() %>%\n",
    "    add_recipe(bank_recipe_balance) %>%\n",
    "    add_model(knn_specification) %>%\n",
    "    fit(data = bank_train)"
   ]
  },
  {
   "cell_type": "code",
   "execution_count": 80,
   "metadata": {},
   "outputs": [
    {
     "data": {
      "text/html": [
       "<table>\n",
       "<caption>A tibble: 2 × 3</caption>\n",
       "<thead>\n",
       "\t<tr><th scope=col>.metric</th><th scope=col>.estimator</th><th scope=col>.estimate</th></tr>\n",
       "\t<tr><th scope=col>&lt;chr&gt;</th><th scope=col>&lt;chr&gt;</th><th scope=col>&lt;dbl&gt;</th></tr>\n",
       "</thead>\n",
       "<tbody>\n",
       "\t<tr><td>accuracy</td><td>binary</td><td>0.87126172</td></tr>\n",
       "\t<tr><td>kap     </td><td>binary</td><td>0.04781843</td></tr>\n",
       "</tbody>\n",
       "</table>\n"
      ],
      "text/latex": [
       "A tibble: 2 × 3\n",
       "\\begin{tabular}{lll}\n",
       " .metric & .estimator & .estimate\\\\\n",
       " <chr> & <chr> & <dbl>\\\\\n",
       "\\hline\n",
       "\t accuracy & binary & 0.87126172\\\\\n",
       "\t kap      & binary & 0.04781843\\\\\n",
       "\\end{tabular}\n"
      ],
      "text/markdown": [
       "\n",
       "A tibble: 2 × 3\n",
       "\n",
       "| .metric &lt;chr&gt; | .estimator &lt;chr&gt; | .estimate &lt;dbl&gt; |\n",
       "|---|---|---|\n",
       "| accuracy | binary | 0.87126172 |\n",
       "| kap      | binary | 0.04781843 |\n",
       "\n"
      ],
      "text/plain": [
       "  .metric  .estimator .estimate \n",
       "1 accuracy binary     0.87126172\n",
       "2 kap      binary     0.04781843"
      ]
     },
     "metadata": {},
     "output_type": "display_data"
    }
   ],
   "source": [
    "bank_test_predictions_balance <- predict(knn_fit_balance, bank_test) %>%\n",
    "  bind_cols(bank_test)\n",
    "\n",
    "balance_pred = bank_test_predictions_balance %>%\n",
    "  metrics(truth = y, estimate = .pred_class)\n",
    "\n",
    "balance_pred"
   ]
  },
  {
   "cell_type": "markdown",
   "metadata": {},
   "source": [
    "#### Accuracy of \"housing\" variable as a predictor:"
   ]
  },
  {
   "cell_type": "code",
   "execution_count": 81,
   "metadata": {},
   "outputs": [],
   "source": [
    "bank_recipe_housing <- recipe(y ~ housing, data = bank_train) %>%\n",
    "  step_scale(all_predictors()) %>%\n",
    "  step_center(all_predictors())\n",
    "\n",
    "knn_fit_housing <- workflow() %>%\n",
    "    add_recipe(bank_recipe_housing) %>%\n",
    "    add_model(knn_specification) %>%\n",
    "    fit(data = bank_train)"
   ]
  },
  {
   "cell_type": "code",
   "execution_count": 82,
   "metadata": {},
   "outputs": [
    {
     "data": {
      "text/html": [
       "<table>\n",
       "<caption>A tibble: 2 × 3</caption>\n",
       "<thead>\n",
       "\t<tr><th scope=col>.metric</th><th scope=col>.estimator</th><th scope=col>.estimate</th></tr>\n",
       "\t<tr><th scope=col>&lt;chr&gt;</th><th scope=col>&lt;chr&gt;</th><th scope=col>&lt;dbl&gt;</th></tr>\n",
       "</thead>\n",
       "<tbody>\n",
       "\t<tr><td>accuracy</td><td>binary</td><td>0.8830296</td></tr>\n",
       "\t<tr><td>kap     </td><td>binary</td><td>0.0000000</td></tr>\n",
       "</tbody>\n",
       "</table>\n"
      ],
      "text/latex": [
       "A tibble: 2 × 3\n",
       "\\begin{tabular}{lll}\n",
       " .metric & .estimator & .estimate\\\\\n",
       " <chr> & <chr> & <dbl>\\\\\n",
       "\\hline\n",
       "\t accuracy & binary & 0.8830296\\\\\n",
       "\t kap      & binary & 0.0000000\\\\\n",
       "\\end{tabular}\n"
      ],
      "text/markdown": [
       "\n",
       "A tibble: 2 × 3\n",
       "\n",
       "| .metric &lt;chr&gt; | .estimator &lt;chr&gt; | .estimate &lt;dbl&gt; |\n",
       "|---|---|---|\n",
       "| accuracy | binary | 0.8830296 |\n",
       "| kap      | binary | 0.0000000 |\n",
       "\n"
      ],
      "text/plain": [
       "  .metric  .estimator .estimate\n",
       "1 accuracy binary     0.8830296\n",
       "2 kap      binary     0.0000000"
      ]
     },
     "metadata": {},
     "output_type": "display_data"
    }
   ],
   "source": [
    "bank_test_predictions_housing <- predict(knn_fit_housing, bank_test) %>%\n",
    "  bind_cols(bank_test)\n",
    "\n",
    "housing_pred = bank_test_predictions_housing %>%\n",
    "  metrics(truth = y, estimate = .pred_class)\n",
    "\n",
    "housing_pred"
   ]
  },
  {
   "cell_type": "markdown",
   "metadata": {},
   "source": [
    "#### Accuracy of \"loan\" variable as a predictor:"
   ]
  },
  {
   "cell_type": "code",
   "execution_count": 83,
   "metadata": {},
   "outputs": [],
   "source": [
    "bank_recipe_loan <- recipe(y ~ loan, data = bank_train) %>%\n",
    "  step_scale(all_predictors()) %>%\n",
    "  step_center(all_predictors())\n",
    "\n",
    "knn_fit_loan <- workflow() %>%\n",
    "    add_recipe(bank_recipe_loan) %>%\n",
    "    add_model(knn_specification) %>%\n",
    "    fit(data = bank_train)"
   ]
  },
  {
   "cell_type": "code",
   "execution_count": 84,
   "metadata": {},
   "outputs": [
    {
     "data": {
      "text/html": [
       "<table>\n",
       "<caption>A tibble: 2 × 3</caption>\n",
       "<thead>\n",
       "\t<tr><th scope=col>.metric</th><th scope=col>.estimator</th><th scope=col>.estimate</th></tr>\n",
       "\t<tr><th scope=col>&lt;chr&gt;</th><th scope=col>&lt;chr&gt;</th><th scope=col>&lt;dbl&gt;</th></tr>\n",
       "</thead>\n",
       "<tbody>\n",
       "\t<tr><td>accuracy</td><td>binary</td><td>0.8830296</td></tr>\n",
       "\t<tr><td>kap     </td><td>binary</td><td>0.0000000</td></tr>\n",
       "</tbody>\n",
       "</table>\n"
      ],
      "text/latex": [
       "A tibble: 2 × 3\n",
       "\\begin{tabular}{lll}\n",
       " .metric & .estimator & .estimate\\\\\n",
       " <chr> & <chr> & <dbl>\\\\\n",
       "\\hline\n",
       "\t accuracy & binary & 0.8830296\\\\\n",
       "\t kap      & binary & 0.0000000\\\\\n",
       "\\end{tabular}\n"
      ],
      "text/markdown": [
       "\n",
       "A tibble: 2 × 3\n",
       "\n",
       "| .metric &lt;chr&gt; | .estimator &lt;chr&gt; | .estimate &lt;dbl&gt; |\n",
       "|---|---|---|\n",
       "| accuracy | binary | 0.8830296 |\n",
       "| kap      | binary | 0.0000000 |\n",
       "\n"
      ],
      "text/plain": [
       "  .metric  .estimator .estimate\n",
       "1 accuracy binary     0.8830296\n",
       "2 kap      binary     0.0000000"
      ]
     },
     "metadata": {},
     "output_type": "display_data"
    }
   ],
   "source": [
    "bank_test_predictions_loan <- predict(knn_fit_loan, bank_test) %>%\n",
    "  bind_cols(bank_test)\n",
    "\n",
    "loan_pred = bank_test_predictions_loan %>%\n",
    "  metrics(truth = y, estimate = .pred_class)\n",
    "\n",
    "loan_pred"
   ]
  },
  {
   "cell_type": "markdown",
   "metadata": {},
   "source": [
    "#### Accuracy of \"day\" variable as a predictor:"
   ]
  },
  {
   "cell_type": "code",
   "execution_count": 85,
   "metadata": {},
   "outputs": [],
   "source": [
    "bank_recipe_day <- recipe(y ~ day, data = bank_train) %>%\n",
    "  step_scale(all_predictors()) %>%\n",
    "  step_center(all_predictors())\n",
    "\n",
    "knn_fit_day <- workflow() %>%\n",
    "    add_recipe(bank_recipe_day) %>%\n",
    "    add_model(knn_specification) %>%\n",
    "    fit(data = bank_train)"
   ]
  },
  {
   "cell_type": "code",
   "execution_count": 86,
   "metadata": {},
   "outputs": [
    {
     "data": {
      "text/html": [
       "<table>\n",
       "<caption>A tibble: 2 × 3</caption>\n",
       "<thead>\n",
       "\t<tr><th scope=col>.metric</th><th scope=col>.estimator</th><th scope=col>.estimate</th></tr>\n",
       "\t<tr><th scope=col>&lt;chr&gt;</th><th scope=col>&lt;chr&gt;</th><th scope=col>&lt;dbl&gt;</th></tr>\n",
       "</thead>\n",
       "<tbody>\n",
       "\t<tr><td>accuracy</td><td>binary</td><td>0.8830296</td></tr>\n",
       "\t<tr><td>kap     </td><td>binary</td><td>0.0000000</td></tr>\n",
       "</tbody>\n",
       "</table>\n"
      ],
      "text/latex": [
       "A tibble: 2 × 3\n",
       "\\begin{tabular}{lll}\n",
       " .metric & .estimator & .estimate\\\\\n",
       " <chr> & <chr> & <dbl>\\\\\n",
       "\\hline\n",
       "\t accuracy & binary & 0.8830296\\\\\n",
       "\t kap      & binary & 0.0000000\\\\\n",
       "\\end{tabular}\n"
      ],
      "text/markdown": [
       "\n",
       "A tibble: 2 × 3\n",
       "\n",
       "| .metric &lt;chr&gt; | .estimator &lt;chr&gt; | .estimate &lt;dbl&gt; |\n",
       "|---|---|---|\n",
       "| accuracy | binary | 0.8830296 |\n",
       "| kap      | binary | 0.0000000 |\n",
       "\n"
      ],
      "text/plain": [
       "  .metric  .estimator .estimate\n",
       "1 accuracy binary     0.8830296\n",
       "2 kap      binary     0.0000000"
      ]
     },
     "metadata": {},
     "output_type": "display_data"
    }
   ],
   "source": [
    "bank_test_predictions_day <- predict(knn_fit_day, bank_test) %>%\n",
    "  bind_cols(bank_test)\n",
    "\n",
    "day_pred = bank_test_predictions_day %>%\n",
    "  metrics(truth = y, estimate = .pred_class)\n",
    "\n",
    "day_pred"
   ]
  },
  {
   "cell_type": "code",
   "execution_count": null,
   "metadata": {},
   "outputs": [],
   "source": []
  }
 ],
 "metadata": {
  "kernelspec": {
   "display_name": "R",
   "language": "R",
   "name": "ir"
  },
  "language_info": {
   "codemirror_mode": "r",
   "file_extension": ".r",
   "mimetype": "text/x-r-source",
   "name": "R",
   "pygments_lexer": "r",
   "version": "4.0.0"
  }
 },
 "nbformat": 4,
 "nbformat_minor": 4
}
