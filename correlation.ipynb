{
 "cells": [
  {
   "cell_type": "markdown",
   "metadata": {},
   "source": [
    "## Predicting the most influential variables on whether or not a client will subscribe a term deposit"
   ]
  },
  {
   "cell_type": "markdown",
   "metadata": {},
   "source": [
    "## Introduction:\n",
    "The data set we are working on is the bank marketing data set. The bank we are analyzing is a Portuguese banking institution with data related with direct marketing campaigns (phone calls).\n",
    "\n",
    "This dataset contains many variables as shown when we load the file below. However some of the more cryptic variables are defined here:\n",
    "\n",
    "- `default` - Has credit in default?\n",
    "- `balance` - Account balance (EUR)\n",
    "- `housing` - Has housing loan?\n",
    "- `contact` - Contact communication type\n",
    "- `month` / `day_of_week` - Date of last contact\n",
    "- `duration` - Last contact duration, in seconds\n",
    "- `campaign` - Number of contacts performed during this campaign and for this client\n",
    "- `pdays` - Number of days that passed by after the client was last contacted from a previous campaign\n",
    "- `previous` - Number of contacts performed before this campaign and for this client \n",
    "- `poutcome` - Outcome of the previous marketing campaign\n",
    "- `y` - Has the client subscribed a term deposit?\n",
    "\n",
    "Using this dataset we will attempt to answer the question \"Which variables have the greatest influence on predicting whether or not a client will subscribe a term deposit?\" A term deposit is a cash investment held at a financial institution. Your money is invested for an agreed rate of interest over a fixed amount of time, or term."
   ]
  },
  {
   "cell_type": "markdown",
   "metadata": {},
   "source": [
    "## Method:\n",
    "\n",
    "TODO: Quick summary of method"
   ]
  },
  {
   "cell_type": "markdown",
   "metadata": {},
   "source": [
    "Load the libraries required to perform the data analysis. We also make sure to set the seed so that the results are repeatable and not affected by randomness."
   ]
  },
  {
   "cell_type": "code",
   "execution_count": 3,
   "metadata": {},
   "outputs": [
    {
     "name": "stderr",
     "output_type": "stream",
     "text": [
      "── \u001b[1mAttaching packages\u001b[22m ─────────────────────────────────────── tidyverse 1.3.0 ──\n",
      "\n",
      "\u001b[32m✔\u001b[39m \u001b[34mggplot2\u001b[39m 3.3.2     \u001b[32m✔\u001b[39m \u001b[34mpurrr  \u001b[39m 0.3.4\n",
      "\u001b[32m✔\u001b[39m \u001b[34mtibble \u001b[39m 3.0.3     \u001b[32m✔\u001b[39m \u001b[34mdplyr  \u001b[39m 1.0.2\n",
      "\u001b[32m✔\u001b[39m \u001b[34mtidyr  \u001b[39m 1.1.2     \u001b[32m✔\u001b[39m \u001b[34mstringr\u001b[39m 1.4.0\n",
      "\u001b[32m✔\u001b[39m \u001b[34mreadr  \u001b[39m 1.3.1     \u001b[32m✔\u001b[39m \u001b[34mforcats\u001b[39m 0.5.0\n",
      "\n",
      "Warning message:\n",
      "“package ‘ggplot2’ was built under R version 4.0.1”\n",
      "Warning message:\n",
      "“package ‘tibble’ was built under R version 4.0.2”\n",
      "Warning message:\n",
      "“package ‘tidyr’ was built under R version 4.0.2”\n",
      "Warning message:\n",
      "“package ‘dplyr’ was built under R version 4.0.2”\n",
      "── \u001b[1mConflicts\u001b[22m ────────────────────────────────────────── tidyverse_conflicts() ──\n",
      "\u001b[31m✖\u001b[39m \u001b[34mdplyr\u001b[39m::\u001b[32mfilter()\u001b[39m masks \u001b[34mstats\u001b[39m::filter()\n",
      "\u001b[31m✖\u001b[39m \u001b[34mdplyr\u001b[39m::\u001b[32mlag()\u001b[39m    masks \u001b[34mstats\u001b[39m::lag()\n",
      "\n",
      "Warning message:\n",
      "“package ‘rvest’ was built under R version 4.0.2”\n",
      "Loading required package: xml2\n",
      "\n",
      "\n",
      "Attaching package: ‘rvest’\n",
      "\n",
      "\n",
      "The following object is masked from ‘package:purrr’:\n",
      "\n",
      "    pluck\n",
      "\n",
      "\n",
      "The following object is masked from ‘package:readr’:\n",
      "\n",
      "    guess_encoding\n",
      "\n",
      "\n",
      "Warning message:\n",
      "“package ‘tidymodels’ was built under R version 4.0.2”\n",
      "── \u001b[1mAttaching packages\u001b[22m ────────────────────────────────────── tidymodels 0.1.1 ──\n",
      "\n",
      "\u001b[32m✔\u001b[39m \u001b[34mbroom    \u001b[39m 0.7.0      \u001b[32m✔\u001b[39m \u001b[34mrecipes  \u001b[39m 0.1.13\n",
      "\u001b[32m✔\u001b[39m \u001b[34mdials    \u001b[39m 0.0.9      \u001b[32m✔\u001b[39m \u001b[34mrsample  \u001b[39m 0.0.7 \n",
      "\u001b[32m✔\u001b[39m \u001b[34minfer    \u001b[39m 0.5.4      \u001b[32m✔\u001b[39m \u001b[34mtune     \u001b[39m 0.1.1 \n",
      "\u001b[32m✔\u001b[39m \u001b[34mmodeldata\u001b[39m 0.0.2      \u001b[32m✔\u001b[39m \u001b[34mworkflows\u001b[39m 0.2.0 \n",
      "\u001b[32m✔\u001b[39m \u001b[34mparsnip  \u001b[39m 0.1.3      \u001b[32m✔\u001b[39m \u001b[34myardstick\u001b[39m 0.0.7 \n",
      "\n",
      "Warning message:\n",
      "“package ‘broom’ was built under R version 4.0.2”\n",
      "Warning message:\n",
      "“package ‘dials’ was built under R version 4.0.2”\n",
      "Warning message:\n",
      "“package ‘infer’ was built under R version 4.0.3”\n",
      "Warning message:\n",
      "“package ‘modeldata’ was built under R version 4.0.1”\n",
      "Warning message:\n",
      "“package ‘parsnip’ was built under R version 4.0.2”\n",
      "Warning message:\n",
      "“package ‘recipes’ was built under R version 4.0.1”\n",
      "Warning message:\n",
      "“package ‘tune’ was built under R version 4.0.2”\n",
      "Warning message:\n",
      "“package ‘workflows’ was built under R version 4.0.2”\n",
      "Warning message:\n",
      "“package ‘yardstick’ was built under R version 4.0.2”\n",
      "── \u001b[1mConflicts\u001b[22m ───────────────────────────────────────── tidymodels_conflicts() ──\n",
      "\u001b[31m✖\u001b[39m \u001b[34mscales\u001b[39m::\u001b[32mdiscard()\u001b[39m masks \u001b[34mpurrr\u001b[39m::discard()\n",
      "\u001b[31m✖\u001b[39m \u001b[34mdplyr\u001b[39m::\u001b[32mfilter()\u001b[39m   masks \u001b[34mstats\u001b[39m::filter()\n",
      "\u001b[31m✖\u001b[39m \u001b[34mrecipes\u001b[39m::\u001b[32mfixed()\u001b[39m  masks \u001b[34mstringr\u001b[39m::fixed()\n",
      "\u001b[31m✖\u001b[39m \u001b[34mdplyr\u001b[39m::\u001b[32mlag()\u001b[39m      masks \u001b[34mstats\u001b[39m::lag()\n",
      "\u001b[31m✖\u001b[39m \u001b[34mrvest\u001b[39m::\u001b[32mpluck()\u001b[39m    masks \u001b[34mpurrr\u001b[39m::pluck()\n",
      "\u001b[31m✖\u001b[39m \u001b[34myardstick\u001b[39m::\u001b[32mspec()\u001b[39m masks \u001b[34mreadr\u001b[39m::spec()\n",
      "\u001b[31m✖\u001b[39m \u001b[34mrecipes\u001b[39m::\u001b[32mstep()\u001b[39m   masks \u001b[34mstats\u001b[39m::step()\n",
      "\n"
     ]
    }
   ],
   "source": [
    "set.seed(1337)\n",
    "\n",
    "library(tidyverse)\n",
    "library(repr)\n",
    "library(rvest)\n",
    "library(stringr)\n",
    "library(tidymodels)"
   ]
  },
  {
   "cell_type": "markdown",
   "metadata": {},
   "source": [
    "Download, extract, and parse our dataset from the web."
   ]
  },
  {
   "cell_type": "code",
   "execution_count": 4,
   "metadata": {},
   "outputs": [
    {
     "name": "stderr",
     "output_type": "stream",
     "text": [
      "Warning message in dir.create(\"data/\"):\n",
      "“'data' already exists”\n",
      "Parsed with column specification:\n",
      "cols(\n",
      "  age = \u001b[32mcol_double()\u001b[39m,\n",
      "  job = \u001b[31mcol_character()\u001b[39m,\n",
      "  marital = \u001b[31mcol_character()\u001b[39m,\n",
      "  education = \u001b[31mcol_character()\u001b[39m,\n",
      "  default = \u001b[31mcol_character()\u001b[39m,\n",
      "  balance = \u001b[32mcol_double()\u001b[39m,\n",
      "  housing = \u001b[31mcol_character()\u001b[39m,\n",
      "  loan = \u001b[31mcol_character()\u001b[39m,\n",
      "  contact = \u001b[31mcol_character()\u001b[39m,\n",
      "  day = \u001b[32mcol_double()\u001b[39m,\n",
      "  month = \u001b[31mcol_character()\u001b[39m,\n",
      "  duration = \u001b[32mcol_double()\u001b[39m,\n",
      "  campaign = \u001b[32mcol_double()\u001b[39m,\n",
      "  pdays = \u001b[32mcol_double()\u001b[39m,\n",
      "  previous = \u001b[32mcol_double()\u001b[39m,\n",
      "  poutcome = \u001b[31mcol_character()\u001b[39m,\n",
      "  y = \u001b[31mcol_character()\u001b[39m\n",
      ")\n",
      "\n"
     ]
    },
    {
     "data": {
      "text/html": [
       "<table>\n",
       "<caption>A spec_tbl_df: 10 × 17</caption>\n",
       "<thead>\n",
       "\t<tr><th scope=col>age</th><th scope=col>job</th><th scope=col>marital</th><th scope=col>education</th><th scope=col>default</th><th scope=col>balance</th><th scope=col>housing</th><th scope=col>loan</th><th scope=col>contact</th><th scope=col>day</th><th scope=col>month</th><th scope=col>duration</th><th scope=col>campaign</th><th scope=col>pdays</th><th scope=col>previous</th><th scope=col>poutcome</th><th scope=col>y</th></tr>\n",
       "\t<tr><th scope=col>&lt;dbl&gt;</th><th scope=col>&lt;chr&gt;</th><th scope=col>&lt;chr&gt;</th><th scope=col>&lt;chr&gt;</th><th scope=col>&lt;chr&gt;</th><th scope=col>&lt;dbl&gt;</th><th scope=col>&lt;chr&gt;</th><th scope=col>&lt;chr&gt;</th><th scope=col>&lt;chr&gt;</th><th scope=col>&lt;dbl&gt;</th><th scope=col>&lt;chr&gt;</th><th scope=col>&lt;dbl&gt;</th><th scope=col>&lt;dbl&gt;</th><th scope=col>&lt;dbl&gt;</th><th scope=col>&lt;dbl&gt;</th><th scope=col>&lt;chr&gt;</th><th scope=col>&lt;chr&gt;</th></tr>\n",
       "</thead>\n",
       "<tbody>\n",
       "\t<tr><td>58</td><td>management  </td><td>married </td><td>tertiary </td><td>no </td><td>2143</td><td>yes</td><td>no </td><td>unknown</td><td>5</td><td>may</td><td>261</td><td>1</td><td>-1</td><td>0</td><td>unknown</td><td>no</td></tr>\n",
       "\t<tr><td>44</td><td>technician  </td><td>single  </td><td>secondary</td><td>no </td><td>  29</td><td>yes</td><td>no </td><td>unknown</td><td>5</td><td>may</td><td>151</td><td>1</td><td>-1</td><td>0</td><td>unknown</td><td>no</td></tr>\n",
       "\t<tr><td>33</td><td>entrepreneur</td><td>married </td><td>secondary</td><td>no </td><td>   2</td><td>yes</td><td>yes</td><td>unknown</td><td>5</td><td>may</td><td> 76</td><td>1</td><td>-1</td><td>0</td><td>unknown</td><td>no</td></tr>\n",
       "\t<tr><td>47</td><td>blue-collar </td><td>married </td><td>unknown  </td><td>no </td><td>1506</td><td>yes</td><td>no </td><td>unknown</td><td>5</td><td>may</td><td> 92</td><td>1</td><td>-1</td><td>0</td><td>unknown</td><td>no</td></tr>\n",
       "\t<tr><td>33</td><td>unknown     </td><td>single  </td><td>unknown  </td><td>no </td><td>   1</td><td>no </td><td>no </td><td>unknown</td><td>5</td><td>may</td><td>198</td><td>1</td><td>-1</td><td>0</td><td>unknown</td><td>no</td></tr>\n",
       "\t<tr><td>35</td><td>management  </td><td>married </td><td>tertiary </td><td>no </td><td> 231</td><td>yes</td><td>no </td><td>unknown</td><td>5</td><td>may</td><td>139</td><td>1</td><td>-1</td><td>0</td><td>unknown</td><td>no</td></tr>\n",
       "\t<tr><td>28</td><td>management  </td><td>single  </td><td>tertiary </td><td>no </td><td> 447</td><td>yes</td><td>yes</td><td>unknown</td><td>5</td><td>may</td><td>217</td><td>1</td><td>-1</td><td>0</td><td>unknown</td><td>no</td></tr>\n",
       "\t<tr><td>42</td><td>entrepreneur</td><td>divorced</td><td>tertiary </td><td>yes</td><td>   2</td><td>yes</td><td>no </td><td>unknown</td><td>5</td><td>may</td><td>380</td><td>1</td><td>-1</td><td>0</td><td>unknown</td><td>no</td></tr>\n",
       "\t<tr><td>58</td><td>retired     </td><td>married </td><td>primary  </td><td>no </td><td> 121</td><td>yes</td><td>no </td><td>unknown</td><td>5</td><td>may</td><td> 50</td><td>1</td><td>-1</td><td>0</td><td>unknown</td><td>no</td></tr>\n",
       "\t<tr><td>43</td><td>technician  </td><td>single  </td><td>secondary</td><td>no </td><td> 593</td><td>yes</td><td>no </td><td>unknown</td><td>5</td><td>may</td><td> 55</td><td>1</td><td>-1</td><td>0</td><td>unknown</td><td>no</td></tr>\n",
       "</tbody>\n",
       "</table>\n"
      ],
      "text/latex": [
       "A spec\\_tbl\\_df: 10 × 17\n",
       "\\begin{tabular}{lllllllllllllllll}\n",
       " age & job & marital & education & default & balance & housing & loan & contact & day & month & duration & campaign & pdays & previous & poutcome & y\\\\\n",
       " <dbl> & <chr> & <chr> & <chr> & <chr> & <dbl> & <chr> & <chr> & <chr> & <dbl> & <chr> & <dbl> & <dbl> & <dbl> & <dbl> & <chr> & <chr>\\\\\n",
       "\\hline\n",
       "\t 58 & management   & married  & tertiary  & no  & 2143 & yes & no  & unknown & 5 & may & 261 & 1 & -1 & 0 & unknown & no\\\\\n",
       "\t 44 & technician   & single   & secondary & no  &   29 & yes & no  & unknown & 5 & may & 151 & 1 & -1 & 0 & unknown & no\\\\\n",
       "\t 33 & entrepreneur & married  & secondary & no  &    2 & yes & yes & unknown & 5 & may &  76 & 1 & -1 & 0 & unknown & no\\\\\n",
       "\t 47 & blue-collar  & married  & unknown   & no  & 1506 & yes & no  & unknown & 5 & may &  92 & 1 & -1 & 0 & unknown & no\\\\\n",
       "\t 33 & unknown      & single   & unknown   & no  &    1 & no  & no  & unknown & 5 & may & 198 & 1 & -1 & 0 & unknown & no\\\\\n",
       "\t 35 & management   & married  & tertiary  & no  &  231 & yes & no  & unknown & 5 & may & 139 & 1 & -1 & 0 & unknown & no\\\\\n",
       "\t 28 & management   & single   & tertiary  & no  &  447 & yes & yes & unknown & 5 & may & 217 & 1 & -1 & 0 & unknown & no\\\\\n",
       "\t 42 & entrepreneur & divorced & tertiary  & yes &    2 & yes & no  & unknown & 5 & may & 380 & 1 & -1 & 0 & unknown & no\\\\\n",
       "\t 58 & retired      & married  & primary   & no  &  121 & yes & no  & unknown & 5 & may &  50 & 1 & -1 & 0 & unknown & no\\\\\n",
       "\t 43 & technician   & single   & secondary & no  &  593 & yes & no  & unknown & 5 & may &  55 & 1 & -1 & 0 & unknown & no\\\\\n",
       "\\end{tabular}\n"
      ],
      "text/markdown": [
       "\n",
       "A spec_tbl_df: 10 × 17\n",
       "\n",
       "| age &lt;dbl&gt; | job &lt;chr&gt; | marital &lt;chr&gt; | education &lt;chr&gt; | default &lt;chr&gt; | balance &lt;dbl&gt; | housing &lt;chr&gt; | loan &lt;chr&gt; | contact &lt;chr&gt; | day &lt;dbl&gt; | month &lt;chr&gt; | duration &lt;dbl&gt; | campaign &lt;dbl&gt; | pdays &lt;dbl&gt; | previous &lt;dbl&gt; | poutcome &lt;chr&gt; | y &lt;chr&gt; |\n",
       "|---|---|---|---|---|---|---|---|---|---|---|---|---|---|---|---|---|\n",
       "| 58 | management   | married  | tertiary  | no  | 2143 | yes | no  | unknown | 5 | may | 261 | 1 | -1 | 0 | unknown | no |\n",
       "| 44 | technician   | single   | secondary | no  |   29 | yes | no  | unknown | 5 | may | 151 | 1 | -1 | 0 | unknown | no |\n",
       "| 33 | entrepreneur | married  | secondary | no  |    2 | yes | yes | unknown | 5 | may |  76 | 1 | -1 | 0 | unknown | no |\n",
       "| 47 | blue-collar  | married  | unknown   | no  | 1506 | yes | no  | unknown | 5 | may |  92 | 1 | -1 | 0 | unknown | no |\n",
       "| 33 | unknown      | single   | unknown   | no  |    1 | no  | no  | unknown | 5 | may | 198 | 1 | -1 | 0 | unknown | no |\n",
       "| 35 | management   | married  | tertiary  | no  |  231 | yes | no  | unknown | 5 | may | 139 | 1 | -1 | 0 | unknown | no |\n",
       "| 28 | management   | single   | tertiary  | no  |  447 | yes | yes | unknown | 5 | may | 217 | 1 | -1 | 0 | unknown | no |\n",
       "| 42 | entrepreneur | divorced | tertiary  | yes |    2 | yes | no  | unknown | 5 | may | 380 | 1 | -1 | 0 | unknown | no |\n",
       "| 58 | retired      | married  | primary   | no  |  121 | yes | no  | unknown | 5 | may |  50 | 1 | -1 | 0 | unknown | no |\n",
       "| 43 | technician   | single   | secondary | no  |  593 | yes | no  | unknown | 5 | may |  55 | 1 | -1 | 0 | unknown | no |\n",
       "\n"
      ],
      "text/plain": [
       "   age job          marital  education default balance housing loan contact day\n",
       "1  58  management   married  tertiary  no      2143    yes     no   unknown 5  \n",
       "2  44  technician   single   secondary no        29    yes     no   unknown 5  \n",
       "3  33  entrepreneur married  secondary no         2    yes     yes  unknown 5  \n",
       "4  47  blue-collar  married  unknown   no      1506    yes     no   unknown 5  \n",
       "5  33  unknown      single   unknown   no         1    no      no   unknown 5  \n",
       "6  35  management   married  tertiary  no       231    yes     no   unknown 5  \n",
       "7  28  management   single   tertiary  no       447    yes     yes  unknown 5  \n",
       "8  42  entrepreneur divorced tertiary  yes        2    yes     no   unknown 5  \n",
       "9  58  retired      married  primary   no       121    yes     no   unknown 5  \n",
       "10 43  technician   single   secondary no       593    yes     no   unknown 5  \n",
       "   month duration campaign pdays previous poutcome y \n",
       "1  may   261      1        -1    0        unknown  no\n",
       "2  may   151      1        -1    0        unknown  no\n",
       "3  may    76      1        -1    0        unknown  no\n",
       "4  may    92      1        -1    0        unknown  no\n",
       "5  may   198      1        -1    0        unknown  no\n",
       "6  may   139      1        -1    0        unknown  no\n",
       "7  may   217      1        -1    0        unknown  no\n",
       "8  may   380      1        -1    0        unknown  no\n",
       "9  may    50      1        -1    0        unknown  no\n",
       "10 may    55      1        -1    0        unknown  no"
      ]
     },
     "metadata": {},
     "output_type": "display_data"
    }
   ],
   "source": [
    "# set seed\n",
    "set.seed(1337)\n",
    "\n",
    "# download and extract dataset\n",
    "dir.create(\"data/\")\n",
    "download.file(\"https://archive.ics.uci.edu/ml/machine-learning-databases/00222/bank.zip\", destfile = \"data/bank.zip\")\n",
    "unzip(\"data/bank.zip\", files = \"bank-full.csv\", exdir = \"data/\", overwrite = TRUE)\n",
    "\n",
    "# load dataset\n",
    "bank_full <- read_delim(\"data/bank-full.csv\", delim = ';')\n",
    "slice(bank_full, 1:10)"
   ]
  },
  {
   "cell_type": "markdown",
   "metadata": {},
   "source": [
    "We decide to filter out the columns we thought would not play any relationship to whether or not a client subscribed a term deposit."
   ]
  },
  {
   "cell_type": "code",
   "execution_count": 5,
   "metadata": {},
   "outputs": [
    {
     "data": {
      "text/html": [
       "<table>\n",
       "<caption>A tibble: 10 × 14</caption>\n",
       "<thead>\n",
       "\t<tr><th scope=col>age</th><th scope=col>job</th><th scope=col>marital</th><th scope=col>education</th><th scope=col>balance</th><th scope=col>housing</th><th scope=col>loan</th><th scope=col>day</th><th scope=col>month</th><th scope=col>campaign</th><th scope=col>pdays</th><th scope=col>previous</th><th scope=col>poutcome</th><th scope=col>y</th></tr>\n",
       "\t<tr><th scope=col>&lt;dbl&gt;</th><th scope=col>&lt;chr&gt;</th><th scope=col>&lt;chr&gt;</th><th scope=col>&lt;chr&gt;</th><th scope=col>&lt;dbl&gt;</th><th scope=col>&lt;chr&gt;</th><th scope=col>&lt;chr&gt;</th><th scope=col>&lt;dbl&gt;</th><th scope=col>&lt;chr&gt;</th><th scope=col>&lt;dbl&gt;</th><th scope=col>&lt;dbl&gt;</th><th scope=col>&lt;dbl&gt;</th><th scope=col>&lt;chr&gt;</th><th scope=col>&lt;chr&gt;</th></tr>\n",
       "</thead>\n",
       "<tbody>\n",
       "\t<tr><td>58</td><td>management  </td><td>married </td><td>tertiary </td><td>2143</td><td>yes</td><td>no </td><td>5</td><td>may</td><td>1</td><td>-1</td><td>0</td><td>unknown</td><td>no</td></tr>\n",
       "\t<tr><td>44</td><td>technician  </td><td>single  </td><td>secondary</td><td>  29</td><td>yes</td><td>no </td><td>5</td><td>may</td><td>1</td><td>-1</td><td>0</td><td>unknown</td><td>no</td></tr>\n",
       "\t<tr><td>33</td><td>entrepreneur</td><td>married </td><td>secondary</td><td>   2</td><td>yes</td><td>yes</td><td>5</td><td>may</td><td>1</td><td>-1</td><td>0</td><td>unknown</td><td>no</td></tr>\n",
       "\t<tr><td>47</td><td>blue-collar </td><td>married </td><td>unknown  </td><td>1506</td><td>yes</td><td>no </td><td>5</td><td>may</td><td>1</td><td>-1</td><td>0</td><td>unknown</td><td>no</td></tr>\n",
       "\t<tr><td>33</td><td>unknown     </td><td>single  </td><td>unknown  </td><td>   1</td><td>no </td><td>no </td><td>5</td><td>may</td><td>1</td><td>-1</td><td>0</td><td>unknown</td><td>no</td></tr>\n",
       "\t<tr><td>35</td><td>management  </td><td>married </td><td>tertiary </td><td> 231</td><td>yes</td><td>no </td><td>5</td><td>may</td><td>1</td><td>-1</td><td>0</td><td>unknown</td><td>no</td></tr>\n",
       "\t<tr><td>28</td><td>management  </td><td>single  </td><td>tertiary </td><td> 447</td><td>yes</td><td>yes</td><td>5</td><td>may</td><td>1</td><td>-1</td><td>0</td><td>unknown</td><td>no</td></tr>\n",
       "\t<tr><td>42</td><td>entrepreneur</td><td>divorced</td><td>tertiary </td><td>   2</td><td>yes</td><td>no </td><td>5</td><td>may</td><td>1</td><td>-1</td><td>0</td><td>unknown</td><td>no</td></tr>\n",
       "\t<tr><td>58</td><td>retired     </td><td>married </td><td>primary  </td><td> 121</td><td>yes</td><td>no </td><td>5</td><td>may</td><td>1</td><td>-1</td><td>0</td><td>unknown</td><td>no</td></tr>\n",
       "\t<tr><td>43</td><td>technician  </td><td>single  </td><td>secondary</td><td> 593</td><td>yes</td><td>no </td><td>5</td><td>may</td><td>1</td><td>-1</td><td>0</td><td>unknown</td><td>no</td></tr>\n",
       "</tbody>\n",
       "</table>\n"
      ],
      "text/latex": [
       "A tibble: 10 × 14\n",
       "\\begin{tabular}{llllllllllllll}\n",
       " age & job & marital & education & balance & housing & loan & day & month & campaign & pdays & previous & poutcome & y\\\\\n",
       " <dbl> & <chr> & <chr> & <chr> & <dbl> & <chr> & <chr> & <dbl> & <chr> & <dbl> & <dbl> & <dbl> & <chr> & <chr>\\\\\n",
       "\\hline\n",
       "\t 58 & management   & married  & tertiary  & 2143 & yes & no  & 5 & may & 1 & -1 & 0 & unknown & no\\\\\n",
       "\t 44 & technician   & single   & secondary &   29 & yes & no  & 5 & may & 1 & -1 & 0 & unknown & no\\\\\n",
       "\t 33 & entrepreneur & married  & secondary &    2 & yes & yes & 5 & may & 1 & -1 & 0 & unknown & no\\\\\n",
       "\t 47 & blue-collar  & married  & unknown   & 1506 & yes & no  & 5 & may & 1 & -1 & 0 & unknown & no\\\\\n",
       "\t 33 & unknown      & single   & unknown   &    1 & no  & no  & 5 & may & 1 & -1 & 0 & unknown & no\\\\\n",
       "\t 35 & management   & married  & tertiary  &  231 & yes & no  & 5 & may & 1 & -1 & 0 & unknown & no\\\\\n",
       "\t 28 & management   & single   & tertiary  &  447 & yes & yes & 5 & may & 1 & -1 & 0 & unknown & no\\\\\n",
       "\t 42 & entrepreneur & divorced & tertiary  &    2 & yes & no  & 5 & may & 1 & -1 & 0 & unknown & no\\\\\n",
       "\t 58 & retired      & married  & primary   &  121 & yes & no  & 5 & may & 1 & -1 & 0 & unknown & no\\\\\n",
       "\t 43 & technician   & single   & secondary &  593 & yes & no  & 5 & may & 1 & -1 & 0 & unknown & no\\\\\n",
       "\\end{tabular}\n"
      ],
      "text/markdown": [
       "\n",
       "A tibble: 10 × 14\n",
       "\n",
       "| age &lt;dbl&gt; | job &lt;chr&gt; | marital &lt;chr&gt; | education &lt;chr&gt; | balance &lt;dbl&gt; | housing &lt;chr&gt; | loan &lt;chr&gt; | day &lt;dbl&gt; | month &lt;chr&gt; | campaign &lt;dbl&gt; | pdays &lt;dbl&gt; | previous &lt;dbl&gt; | poutcome &lt;chr&gt; | y &lt;chr&gt; |\n",
       "|---|---|---|---|---|---|---|---|---|---|---|---|---|---|\n",
       "| 58 | management   | married  | tertiary  | 2143 | yes | no  | 5 | may | 1 | -1 | 0 | unknown | no |\n",
       "| 44 | technician   | single   | secondary |   29 | yes | no  | 5 | may | 1 | -1 | 0 | unknown | no |\n",
       "| 33 | entrepreneur | married  | secondary |    2 | yes | yes | 5 | may | 1 | -1 | 0 | unknown | no |\n",
       "| 47 | blue-collar  | married  | unknown   | 1506 | yes | no  | 5 | may | 1 | -1 | 0 | unknown | no |\n",
       "| 33 | unknown      | single   | unknown   |    1 | no  | no  | 5 | may | 1 | -1 | 0 | unknown | no |\n",
       "| 35 | management   | married  | tertiary  |  231 | yes | no  | 5 | may | 1 | -1 | 0 | unknown | no |\n",
       "| 28 | management   | single   | tertiary  |  447 | yes | yes | 5 | may | 1 | -1 | 0 | unknown | no |\n",
       "| 42 | entrepreneur | divorced | tertiary  |    2 | yes | no  | 5 | may | 1 | -1 | 0 | unknown | no |\n",
       "| 58 | retired      | married  | primary   |  121 | yes | no  | 5 | may | 1 | -1 | 0 | unknown | no |\n",
       "| 43 | technician   | single   | secondary |  593 | yes | no  | 5 | may | 1 | -1 | 0 | unknown | no |\n",
       "\n"
      ],
      "text/plain": [
       "   age job          marital  education balance housing loan day month campaign\n",
       "1  58  management   married  tertiary  2143    yes     no   5   may   1       \n",
       "2  44  technician   single   secondary   29    yes     no   5   may   1       \n",
       "3  33  entrepreneur married  secondary    2    yes     yes  5   may   1       \n",
       "4  47  blue-collar  married  unknown   1506    yes     no   5   may   1       \n",
       "5  33  unknown      single   unknown      1    no      no   5   may   1       \n",
       "6  35  management   married  tertiary   231    yes     no   5   may   1       \n",
       "7  28  management   single   tertiary   447    yes     yes  5   may   1       \n",
       "8  42  entrepreneur divorced tertiary     2    yes     no   5   may   1       \n",
       "9  58  retired      married  primary    121    yes     no   5   may   1       \n",
       "10 43  technician   single   secondary  593    yes     no   5   may   1       \n",
       "   pdays previous poutcome y \n",
       "1  -1    0        unknown  no\n",
       "2  -1    0        unknown  no\n",
       "3  -1    0        unknown  no\n",
       "4  -1    0        unknown  no\n",
       "5  -1    0        unknown  no\n",
       "6  -1    0        unknown  no\n",
       "7  -1    0        unknown  no\n",
       "8  -1    0        unknown  no\n",
       "9  -1    0        unknown  no\n",
       "10 -1    0        unknown  no"
      ]
     },
     "metadata": {},
     "output_type": "display_data"
    }
   ],
   "source": [
    "bank_trimmed <- bank_full %>%\n",
    "    select(-c(default, contact, duration))\n",
    "slice(bank_trimmed, 1:10)"
   ]
  },
  {
   "cell_type": "markdown",
   "metadata": {},
   "source": [
    "To summarize the data in the table we use the summary function. It tells potentially interesting statistics about the dataframe such as the mean age is 40.87 years."
   ]
  },
  {
   "cell_type": "code",
   "execution_count": 6,
   "metadata": {},
   "outputs": [
    {
     "data": {
      "text/plain": [
       "      age            job              marital           education        \n",
       " Min.   :18.00   Length:45211       Length:45211       Length:45211      \n",
       " 1st Qu.:33.00   Class :character   Class :character   Class :character  \n",
       " Median :39.00   Mode  :character   Mode  :character   Mode  :character  \n",
       " Mean   :40.94                                                           \n",
       " 3rd Qu.:48.00                                                           \n",
       " Max.   :95.00                                                           \n",
       "    balance         housing              loan                day       \n",
       " Min.   : -8019   Length:45211       Length:45211       Min.   : 1.00  \n",
       " 1st Qu.:    72   Class :character   Class :character   1st Qu.: 8.00  \n",
       " Median :   448   Mode  :character   Mode  :character   Median :16.00  \n",
       " Mean   :  1362                                         Mean   :15.81  \n",
       " 3rd Qu.:  1428                                         3rd Qu.:21.00  \n",
       " Max.   :102127                                         Max.   :31.00  \n",
       "    month              campaign          pdays          previous       \n",
       " Length:45211       Min.   : 1.000   Min.   : -1.0   Min.   :  0.0000  \n",
       " Class :character   1st Qu.: 1.000   1st Qu.: -1.0   1st Qu.:  0.0000  \n",
       " Mode  :character   Median : 2.000   Median : -1.0   Median :  0.0000  \n",
       "                    Mean   : 2.764   Mean   : 40.2   Mean   :  0.5803  \n",
       "                    3rd Qu.: 3.000   3rd Qu.: -1.0   3rd Qu.:  0.0000  \n",
       "                    Max.   :63.000   Max.   :871.0   Max.   :275.0000  \n",
       "   poutcome              y            \n",
       " Length:45211       Length:45211      \n",
       " Class :character   Class :character  \n",
       " Mode  :character   Mode  :character  \n",
       "                                      \n",
       "                                      \n",
       "                                      "
      ]
     },
     "metadata": {},
     "output_type": "display_data"
    }
   ],
   "source": [
    "summary(bank_trimmed)"
   ]
  },
  {
   "cell_type": "markdown",
   "metadata": {},
   "source": [
    "Next we will convert all of our variables into numbers (enums for class varaibles) and turn unknown's in NA values so they don't affect our results."
   ]
  },
  {
   "cell_type": "code",
   "execution_count": 10,
   "metadata": {},
   "outputs": [
    {
     "data": {
      "text/html": [
       "<table>\n",
       "<caption>A tibble: 5 × 14</caption>\n",
       "<thead>\n",
       "\t<tr><th scope=col>age</th><th scope=col>job</th><th scope=col>marital</th><th scope=col>education</th><th scope=col>balance</th><th scope=col>housing</th><th scope=col>loan</th><th scope=col>day</th><th scope=col>month</th><th scope=col>campaign</th><th scope=col>pdays</th><th scope=col>previous</th><th scope=col>poutcome</th><th scope=col>y</th></tr>\n",
       "\t<tr><th scope=col>&lt;dbl&gt;</th><th scope=col>&lt;dbl&gt;</th><th scope=col>&lt;dbl&gt;</th><th scope=col>&lt;dbl&gt;</th><th scope=col>&lt;dbl&gt;</th><th scope=col>&lt;dbl&gt;</th><th scope=col>&lt;dbl&gt;</th><th scope=col>&lt;dbl&gt;</th><th scope=col>&lt;dbl&gt;</th><th scope=col>&lt;dbl&gt;</th><th scope=col>&lt;dbl&gt;</th><th scope=col>&lt;dbl&gt;</th><th scope=col>&lt;dbl&gt;</th><th scope=col>&lt;fct&gt;</th></tr>\n",
       "</thead>\n",
       "<tbody>\n",
       "\t<tr><td>58</td><td> 5</td><td>2</td><td>3</td><td>2143</td><td>2</td><td>1</td><td>5</td><td>9</td><td>1</td><td>-1</td><td>0</td><td>4</td><td>1</td></tr>\n",
       "\t<tr><td>44</td><td>10</td><td>3</td><td>2</td><td>  29</td><td>2</td><td>1</td><td>5</td><td>9</td><td>1</td><td>-1</td><td>0</td><td>4</td><td>1</td></tr>\n",
       "\t<tr><td>33</td><td> 3</td><td>2</td><td>2</td><td>   2</td><td>2</td><td>2</td><td>5</td><td>9</td><td>1</td><td>-1</td><td>0</td><td>4</td><td>1</td></tr>\n",
       "\t<tr><td>47</td><td> 2</td><td>2</td><td>4</td><td>1506</td><td>2</td><td>1</td><td>5</td><td>9</td><td>1</td><td>-1</td><td>0</td><td>4</td><td>1</td></tr>\n",
       "\t<tr><td>33</td><td>12</td><td>3</td><td>4</td><td>   1</td><td>1</td><td>1</td><td>5</td><td>9</td><td>1</td><td>-1</td><td>0</td><td>4</td><td>1</td></tr>\n",
       "</tbody>\n",
       "</table>\n"
      ],
      "text/latex": [
       "A tibble: 5 × 14\n",
       "\\begin{tabular}{llllllllllllll}\n",
       " age & job & marital & education & balance & housing & loan & day & month & campaign & pdays & previous & poutcome & y\\\\\n",
       " <dbl> & <dbl> & <dbl> & <dbl> & <dbl> & <dbl> & <dbl> & <dbl> & <dbl> & <dbl> & <dbl> & <dbl> & <dbl> & <fct>\\\\\n",
       "\\hline\n",
       "\t 58 &  5 & 2 & 3 & 2143 & 2 & 1 & 5 & 9 & 1 & -1 & 0 & 4 & 1\\\\\n",
       "\t 44 & 10 & 3 & 2 &   29 & 2 & 1 & 5 & 9 & 1 & -1 & 0 & 4 & 1\\\\\n",
       "\t 33 &  3 & 2 & 2 &    2 & 2 & 2 & 5 & 9 & 1 & -1 & 0 & 4 & 1\\\\\n",
       "\t 47 &  2 & 2 & 4 & 1506 & 2 & 1 & 5 & 9 & 1 & -1 & 0 & 4 & 1\\\\\n",
       "\t 33 & 12 & 3 & 4 &    1 & 1 & 1 & 5 & 9 & 1 & -1 & 0 & 4 & 1\\\\\n",
       "\\end{tabular}\n"
      ],
      "text/markdown": [
       "\n",
       "A tibble: 5 × 14\n",
       "\n",
       "| age &lt;dbl&gt; | job &lt;dbl&gt; | marital &lt;dbl&gt; | education &lt;dbl&gt; | balance &lt;dbl&gt; | housing &lt;dbl&gt; | loan &lt;dbl&gt; | day &lt;dbl&gt; | month &lt;dbl&gt; | campaign &lt;dbl&gt; | pdays &lt;dbl&gt; | previous &lt;dbl&gt; | poutcome &lt;dbl&gt; | y &lt;fct&gt; |\n",
       "|---|---|---|---|---|---|---|---|---|---|---|---|---|---|\n",
       "| 58 |  5 | 2 | 3 | 2143 | 2 | 1 | 5 | 9 | 1 | -1 | 0 | 4 | 1 |\n",
       "| 44 | 10 | 3 | 2 |   29 | 2 | 1 | 5 | 9 | 1 | -1 | 0 | 4 | 1 |\n",
       "| 33 |  3 | 2 | 2 |    2 | 2 | 2 | 5 | 9 | 1 | -1 | 0 | 4 | 1 |\n",
       "| 47 |  2 | 2 | 4 | 1506 | 2 | 1 | 5 | 9 | 1 | -1 | 0 | 4 | 1 |\n",
       "| 33 | 12 | 3 | 4 |    1 | 1 | 1 | 5 | 9 | 1 | -1 | 0 | 4 | 1 |\n",
       "\n"
      ],
      "text/plain": [
       "  age job marital education balance housing loan day month campaign pdays\n",
       "1 58   5  2       3         2143    2       1    5   9     1        -1   \n",
       "2 44  10  3       2           29    2       1    5   9     1        -1   \n",
       "3 33   3  2       2            2    2       2    5   9     1        -1   \n",
       "4 47   2  2       4         1506    2       1    5   9     1        -1   \n",
       "5 33  12  3       4            1    1       1    5   9     1        -1   \n",
       "  previous poutcome y\n",
       "1 0        4        1\n",
       "2 0        4        1\n",
       "3 0        4        1\n",
       "4 0        4        1\n",
       "5 0        4        1"
      ]
     },
     "metadata": {},
     "output_type": "display_data"
    }
   ],
   "source": [
    "bank_fixed = bank_trimmed\n",
    "\n",
    "# set NAs\n",
    "# bank_fixed = mutate(bank_fixed, across(where(is.character), ~na_if(., \"unknown\")))\n",
    "# bank_fixed = mutate(bank_fixed, pdays = na_if(pdays, -1))\n",
    "\n",
    "# parse into numbers\n",
    "bank_fixed$job = as.numeric(as.factor(bank_fixed$job))\n",
    "bank_fixed$marital = as.numeric(as.factor(bank_fixed$marital))\n",
    "bank_fixed$education = as.numeric(as.factor(bank_fixed$education))\n",
    "bank_fixed$housing = as.numeric(as.factor(bank_fixed$housing))\n",
    "bank_fixed$loan = as.numeric(as.factor(bank_fixed$loan))\n",
    "bank_fixed$month = as.numeric(as.factor(bank_fixed$month))\n",
    "bank_fixed$poutcome = as.numeric(as.factor(bank_fixed$poutcome))\n",
    "bank_fixed$y = as.numeric(as.factor(bank_fixed$y))\n",
    "\n",
    "# set y as factor\n",
    "bank_fixed = mutate(bank_fixed, y = as_factor(y))\n",
    "\n",
    "# preview\n",
    "slice(bank_fixed, 1:5)"
   ]
  },
  {
   "cell_type": "markdown",
   "metadata": {},
   "source": [
    "We split the dataset into the appropriate training and testing set to verify the authenticity of our results."
   ]
  },
  {
   "cell_type": "code",
   "execution_count": 11,
   "metadata": {},
   "outputs": [],
   "source": [
    "bank_split <- initial_split(bank_fixed, prop = 0.75, strata = y)\n",
    "bank_train <- training(bank_split)\n",
    "bank_test <- testing(bank_split)"
   ]
  },
  {
   "cell_type": "markdown",
   "metadata": {},
   "source": [
    "To view our data we use the built in glimpse function"
   ]
  },
  {
   "cell_type": "code",
   "execution_count": 12,
   "metadata": {},
   "outputs": [
    {
     "name": "stdout",
     "output_type": "stream",
     "text": [
      "Rows: 33,909\n",
      "Columns: 14\n",
      "$ age       \u001b[3m\u001b[90m<dbl>\u001b[39m\u001b[23m 58, 44, 33, 47, 28, 43, 41, 29, 58, 57, 51, 45, 57, 33, 28,…\n",
      "$ job       \u001b[3m\u001b[90m<dbl>\u001b[39m\u001b[23m 5, 10, 3, 2, 5, 10, 1, 1, 10, 8, 6, 1, 2, 8, 2, 2, 6, 5, 3,…\n",
      "$ marital   \u001b[3m\u001b[90m<dbl>\u001b[39m\u001b[23m 2, 3, 2, 2, 3, 3, 1, 3, 2, 2, 2, 3, 2, 2, 2, 3, 2, 3, 2, 3,…\n",
      "$ education \u001b[3m\u001b[90m<dbl>\u001b[39m\u001b[23m 3, 2, 2, 4, 3, 2, 2, 2, 4, 2, 1, 4, 1, 2, 2, 1, 1, 3, 2, 2,…\n",
      "$ balance   \u001b[3m\u001b[90m<dbl>\u001b[39m\u001b[23m 2143, 29, 2, 1506, 447, 593, 270, 390, 71, 162, 229, 13, 52…\n",
      "$ housing   \u001b[3m\u001b[90m<dbl>\u001b[39m\u001b[23m 2, 2, 2, 2, 2, 2, 2, 2, 2, 2, 2, 2, 2, 2, 2, 2, 2, 2, 2, 2,…\n",
      "$ loan      \u001b[3m\u001b[90m<dbl>\u001b[39m\u001b[23m 1, 1, 2, 1, 2, 1, 1, 1, 1, 1, 1, 1, 1, 1, 2, 2, 2, 1, 2, 2,…\n",
      "$ day       \u001b[3m\u001b[90m<dbl>\u001b[39m\u001b[23m 5, 5, 5, 5, 5, 5, 5, 5, 5, 5, 5, 5, 5, 5, 5, 5, 5, 5, 5, 5,…\n",
      "$ month     \u001b[3m\u001b[90m<dbl>\u001b[39m\u001b[23m 9, 9, 9, 9, 9, 9, 9, 9, 9, 9, 9, 9, 9, 9, 9, 9, 9, 9, 9, 9,…\n",
      "$ campaign  \u001b[3m\u001b[90m<dbl>\u001b[39m\u001b[23m 1, 1, 1, 1, 1, 1, 1, 1, 1, 1, 1, 1, 1, 1, 1, 1, 1, 1, 1, 1,…\n",
      "$ pdays     \u001b[3m\u001b[90m<dbl>\u001b[39m\u001b[23m -1, -1, -1, -1, -1, -1, -1, -1, -1, -1, -1, -1, -1, -1, -1,…\n",
      "$ previous  \u001b[3m\u001b[90m<dbl>\u001b[39m\u001b[23m 0, 0, 0, 0, 0, 0, 0, 0, 0, 0, 0, 0, 0, 0, 0, 0, 0, 0, 0, 0,…\n",
      "$ poutcome  \u001b[3m\u001b[90m<dbl>\u001b[39m\u001b[23m 4, 4, 4, 4, 4, 4, 4, 4, 4, 4, 4, 4, 4, 4, 4, 4, 4, 4, 4, 4,…\n",
      "$ y         \u001b[3m\u001b[90m<fct>\u001b[39m\u001b[23m 1, 1, 1, 1, 1, 1, 1, 1, 1, 1, 1, 1, 1, 1, 1, 1, 1, 1, 1, 1,…\n"
     ]
    }
   ],
   "source": [
    "glimpse(bank_train)"
   ]
  },
  {
   "cell_type": "code",
   "execution_count": 13,
   "metadata": {},
   "outputs": [
    {
     "name": "stdout",
     "output_type": "stream",
     "text": [
      "Rows: 33,909\n",
      "Columns: 14\n",
      "$ age       \u001b[3m\u001b[90m<dbl>\u001b[39m\u001b[23m 58, 44, 33, 47, 28, 43, 41, 29, 58, 57, 51, 45, 57, 33, 28,…\n",
      "$ job       \u001b[3m\u001b[90m<dbl>\u001b[39m\u001b[23m 5, 10, 3, 2, 5, 10, 1, 1, 10, 8, 6, 1, 2, 8, 2, 2, 6, 5, 3,…\n",
      "$ marital   \u001b[3m\u001b[90m<dbl>\u001b[39m\u001b[23m 2, 3, 2, 2, 3, 3, 1, 3, 2, 2, 2, 3, 2, 2, 2, 3, 2, 3, 2, 3,…\n",
      "$ education \u001b[3m\u001b[90m<dbl>\u001b[39m\u001b[23m 3, 2, 2, 4, 3, 2, 2, 2, 4, 2, 1, 4, 1, 2, 2, 1, 1, 3, 2, 2,…\n",
      "$ balance   \u001b[3m\u001b[90m<dbl>\u001b[39m\u001b[23m 2143, 29, 2, 1506, 447, 593, 270, 390, 71, 162, 229, 13, 52…\n",
      "$ housing   \u001b[3m\u001b[90m<dbl>\u001b[39m\u001b[23m 2, 2, 2, 2, 2, 2, 2, 2, 2, 2, 2, 2, 2, 2, 2, 2, 2, 2, 2, 2,…\n",
      "$ loan      \u001b[3m\u001b[90m<dbl>\u001b[39m\u001b[23m 1, 1, 2, 1, 2, 1, 1, 1, 1, 1, 1, 1, 1, 1, 2, 2, 2, 1, 2, 2,…\n",
      "$ day       \u001b[3m\u001b[90m<dbl>\u001b[39m\u001b[23m 5, 5, 5, 5, 5, 5, 5, 5, 5, 5, 5, 5, 5, 5, 5, 5, 5, 5, 5, 5,…\n",
      "$ month     \u001b[3m\u001b[90m<dbl>\u001b[39m\u001b[23m 9, 9, 9, 9, 9, 9, 9, 9, 9, 9, 9, 9, 9, 9, 9, 9, 9, 9, 9, 9,…\n",
      "$ campaign  \u001b[3m\u001b[90m<dbl>\u001b[39m\u001b[23m 1, 1, 1, 1, 1, 1, 1, 1, 1, 1, 1, 1, 1, 1, 1, 1, 1, 1, 1, 1,…\n",
      "$ pdays     \u001b[3m\u001b[90m<dbl>\u001b[39m\u001b[23m -1, -1, -1, -1, -1, -1, -1, -1, -1, -1, -1, -1, -1, -1, -1,…\n",
      "$ previous  \u001b[3m\u001b[90m<dbl>\u001b[39m\u001b[23m 0, 0, 0, 0, 0, 0, 0, 0, 0, 0, 0, 0, 0, 0, 0, 0, 0, 0, 0, 0,…\n",
      "$ poutcome  \u001b[3m\u001b[90m<dbl>\u001b[39m\u001b[23m 4, 4, 4, 4, 4, 4, 4, 4, 4, 4, 4, 4, 4, 4, 4, 4, 4, 4, 4, 4,…\n",
      "$ y         \u001b[3m\u001b[90m<fct>\u001b[39m\u001b[23m 1, 1, 1, 1, 1, 1, 1, 1, 1, 1, 1, 1, 1, 1, 1, 1, 1, 1, 1, 1,…\n"
     ]
    }
   ],
   "source": [
    "glimpse(bank_train)"
   ]
  },
  {
   "cell_type": "markdown",
   "metadata": {},
   "source": [
    "Following this we install the resources necessary to create a corelation table."
   ]
  },
  {
   "cell_type": "code",
   "execution_count": 14,
   "metadata": {},
   "outputs": [
    {
     "name": "stderr",
     "output_type": "stream",
     "text": [
      "Updating HTML index of packages in '.Library'\n",
      "\n",
      "Making 'packages.html' ...\n",
      " done\n",
      "\n"
     ]
    }
   ],
   "source": [
    "install.packages(\"corrplot\")\n",
    "source(\"http://www.sthda.com/upload/rquery_cormat.r\")"
   ]
  },
  {
   "cell_type": "markdown",
   "metadata": {},
   "source": [
    "Finally we can create a corelation table for our dataset. This will tell us which variables are most related which we can use to indentify what has the greatest impact on our outcome (`y`)."
   ]
  },
  {
   "cell_type": "code",
   "execution_count": 15,
   "metadata": {},
   "outputs": [
    {
     "name": "stderr",
     "output_type": "stream",
     "text": [
      "corrplot 0.84 loaded\n",
      "\n"
     ]
    },
    {
     "ename": "ERROR",
     "evalue": "Error in cor(x, use = \"complete.obs\", ...): 'x' must be numeric\n",
     "output_type": "error",
     "traceback": [
      "Error in cor(x, use = \"complete.obs\", ...): 'x' must be numeric\nTraceback:\n",
      "1. rquery.cormat(bank_fixed)",
      "2. cor(x, use = \"complete.obs\", ...)",
      "3. stop(\"'x' must be numeric\")"
     ]
    }
   ],
   "source": [
    "# print corelation table\n",
    "rquery.cormat(bank_fixed)"
   ]
  },
  {
   "cell_type": "markdown",
   "metadata": {},
   "source": [
    "We can see from the corelation table that most variables seem to have little influence on our `y` value. `housign` and `pdays` seem to have the greatest corelation with a negatiave corelation of around `-0.4`.\n",
    "\n",
    "Because this result was unclear we also decided to test each variables influence on the outcome using knn classification."
   ]
  },
  {
   "cell_type": "markdown",
   "metadata": {},
   "source": [
    "**TODO**: Find where to put this and rephrase\n",
    "\n",
    "K-NN is sensitive to the scale of the predictors, and so we should perform some preprocessing to standardize them. An additional consideration we need to take when doing this is that we should create the standardization preprocessor using only the training data. This ensures that our test data does not influence any aspect of our model training. Once we have created the standardization preprocessor, we can then apply it separately to both the training and test data sets."
   ]
  },
  {
   "cell_type": "markdown",
   "metadata": {},
   "source": [
    "#### Creating KNN models:\n",
    "\n",
    "In the next cell code we create the knn specification needed for our case."
   ]
  },
  {
   "cell_type": "code",
   "execution_count": 63,
   "metadata": {},
   "outputs": [
    {
     "data": {
      "text/plain": [
       "K-Nearest Neighbor Model Specification (classification)\n",
       "\n",
       "Main Arguments:\n",
       "  weight_func = rectangular\n",
       "\n",
       "Computational engine: kknn \n"
      ]
     },
     "metadata": {},
     "output_type": "display_data"
    }
   ],
   "source": [
    "# create knn model\n",
    "knn_spec = nearest_neighbor(weight_func = \"rectangular\") %>%\n",
    "       set_engine(\"kknn\") %>%\n",
    "       set_mode(\"classification\")\n",
    "\n",
    "knn_spec"
   ]
  },
  {
   "cell_type": "markdown",
   "metadata": {},
   "source": [
    "**TODO**: describe what's going on here"
   ]
  },
  {
   "cell_type": "code",
   "execution_count": 64,
   "metadata": {},
   "outputs": [
    {
     "ename": "ERROR",
     "evalue": "Error in eval(lhs, parent, parent): object 'bank_test_predictions_marital' not found\n",
     "output_type": "error",
     "traceback": [
      "Error in eval(lhs, parent, parent): object 'bank_test_predictions_marital' not found\nTraceback:\n",
      "1. bank_test_predictions_marital %>% metrics(truth = y, estimate = .pred_class)",
      "2. eval(lhs, parent, parent)",
      "3. eval(lhs, parent, parent)"
     ]
    }
   ],
   "source": [
    "bank_recipe_all <- recipe(y ~ ., data = bank_train) %>%\n",
    "  step_scale(all_predictors()) %>%\n",
    "  step_center(all_predictors())\n",
    "bank_recipe_all\n",
    "\n",
    "knn_fit_all <- workflow() %>%\n",
    "    add_recipe(bank_recipe_all) %>%\n",
    "    add_model(knn_spec) %>%\n",
    "    fit(data = bank_train)\n",
    "knn_fit_all\n",
    "\n",
    "bank_test_predictions_all <- predict(knn_fit_all, bank_test) %>%\n",
    "  bind_cols(bank_test)\n",
    "\n",
    "all_pred = bank_test_predictions_all %>%\n",
    "  metrics(truth = y, estimate = .pred_class)\n",
    "all_pred"
   ]
  },
  {
   "cell_type": "markdown",
   "metadata": {},
   "source": [
    "## Create a new recipe and specification for every individual variable"
   ]
  },
  {
   "cell_type": "markdown",
   "metadata": {},
   "source": [
    "##### This specification can be used for every variable:"
   ]
  },
  {
   "cell_type": "code",
   "execution_count": 16,
   "metadata": {},
   "outputs": [],
   "source": [
    "knn_specification <- nearest_neighbor(weight_func = \"rectangular\", neighbors = 5) %>%\n",
    "  set_engine(\"kknn\") %>%\n",
    "  set_mode(\"classification\")"
   ]
  },
  {
   "cell_type": "markdown",
   "metadata": {},
   "source": [
    "#### Accuracy of \"marital\" variable as a predictor:"
   ]
  },
  {
   "cell_type": "code",
   "execution_count": 70,
   "metadata": {},
   "outputs": [],
   "source": [
    "bank_recipe_marital <- recipe(y ~ marital, data = bank_train) %>%\n",
    "  step_scale(all_predictors()) %>%\n",
    "  step_center(all_predictors())\n",
    "\n",
    "knn_fit_marital <- workflow() %>%\n",
    "    add_recipe(bank_recipe_marital) %>%\n",
    "    add_model(knn_specification) %>%\n",
    "    fit(data = bank_train)"
   ]
  },
  {
   "cell_type": "code",
   "execution_count": 71,
   "metadata": {},
   "outputs": [
    {
     "data": {
      "text/html": [
       "<table>\n",
       "<caption>A tibble: 2 × 3</caption>\n",
       "<thead>\n",
       "\t<tr><th scope=col>.metric</th><th scope=col>.estimator</th><th scope=col>.estimate</th></tr>\n",
       "\t<tr><th scope=col>&lt;chr&gt;</th><th scope=col>&lt;chr&gt;</th><th scope=col>&lt;dbl&gt;</th></tr>\n",
       "</thead>\n",
       "<tbody>\n",
       "\t<tr><td>accuracy</td><td>binary</td><td>0.8830296</td></tr>\n",
       "\t<tr><td>kap     </td><td>binary</td><td>0.0000000</td></tr>\n",
       "</tbody>\n",
       "</table>\n"
      ],
      "text/latex": [
       "A tibble: 2 × 3\n",
       "\\begin{tabular}{lll}\n",
       " .metric & .estimator & .estimate\\\\\n",
       " <chr> & <chr> & <dbl>\\\\\n",
       "\\hline\n",
       "\t accuracy & binary & 0.8830296\\\\\n",
       "\t kap      & binary & 0.0000000\\\\\n",
       "\\end{tabular}\n"
      ],
      "text/markdown": [
       "\n",
       "A tibble: 2 × 3\n",
       "\n",
       "| .metric &lt;chr&gt; | .estimator &lt;chr&gt; | .estimate &lt;dbl&gt; |\n",
       "|---|---|---|\n",
       "| accuracy | binary | 0.8830296 |\n",
       "| kap      | binary | 0.0000000 |\n",
       "\n"
      ],
      "text/plain": [
       "  .metric  .estimator .estimate\n",
       "1 accuracy binary     0.8830296\n",
       "2 kap      binary     0.0000000"
      ]
     },
     "metadata": {},
     "output_type": "display_data"
    }
   ],
   "source": [
    "bank_test_predictions_marital <- predict(knn_fit_marital, bank_test) %>%\n",
    "  bind_cols(bank_test)\n",
    "\n",
    "marital_pred = bank_test_predictions_marital %>%\n",
    "  metrics(truth = y, estimate = .pred_class)\n",
    "marital_pred"
   ]
  },
  {
   "cell_type": "markdown",
   "metadata": {},
   "source": [
    "##### From the above cell we see that when we use the \"marital\" variable as our predictor, we yeild a 88.3% accuracy"
   ]
  },
  {
   "cell_type": "markdown",
   "metadata": {},
   "source": [
    "#### Accuracy of \"education\" variable as a predictor: not working due to na in data set"
   ]
  },
  {
   "cell_type": "code",
   "execution_count": 76,
   "metadata": {},
   "outputs": [],
   "source": [
    "bank_recipe_education <- recipe(y ~ education, data = bank_train) %>%\n",
    "  step_scale(all_predictors()) %>%\n",
    "  step_center(all_predictors())\n",
    "\n",
    "knn_fit_education <- workflow() %>%\n",
    "    add_recipe(bank_recipe_education) %>%\n",
    "    add_model(knn_specification) %>%\n",
    "    fit(data = bank_train)"
   ]
  },
  {
   "cell_type": "code",
   "execution_count": 78,
   "metadata": {},
   "outputs": [],
   "source": [
    "#bank_test_predictions_education <- predict(knn_fit_education, bank_test) %>%\n",
    "#  bind_cols(bank_test)\n",
    "\n",
    "#bank_test_predictions_education %>%\n",
    "#  metrics(truth = y, estimate = .pred_class)"
   ]
  },
  {
   "cell_type": "markdown",
   "metadata": {},
   "source": [
    "#### Accuracy of \"default\" variable as a predictor:"
   ]
  },
  {
   "cell_type": "code",
   "execution_count": 72,
   "metadata": {},
   "outputs": [],
   "source": [
    "bank_recipe_default <- recipe(y ~ default, data = bank_train) %>%\n",
    "  step_scale(all_predictors()) %>%\n",
    "  step_center(all_predictors())\n",
    "\n",
    "knn_fit_default <- workflow() %>%\n",
    "    add_recipe(bank_recipe_default) %>%\n",
    "    add_model(knn_specification) %>%\n",
    "    fit(data = bank_train)"
   ]
  },
  {
   "cell_type": "code",
   "execution_count": 73,
   "metadata": {},
   "outputs": [
    {
     "data": {
      "text/html": [
       "<table>\n",
       "<caption>A tibble: 2 × 3</caption>\n",
       "<thead>\n",
       "\t<tr><th scope=col>.metric</th><th scope=col>.estimator</th><th scope=col>.estimate</th></tr>\n",
       "\t<tr><th scope=col>&lt;chr&gt;</th><th scope=col>&lt;chr&gt;</th><th scope=col>&lt;dbl&gt;</th></tr>\n",
       "</thead>\n",
       "<tbody>\n",
       "\t<tr><td>accuracy</td><td>binary</td><td>0.8830296</td></tr>\n",
       "\t<tr><td>kap     </td><td>binary</td><td>0.0000000</td></tr>\n",
       "</tbody>\n",
       "</table>\n"
      ],
      "text/latex": [
       "A tibble: 2 × 3\n",
       "\\begin{tabular}{lll}\n",
       " .metric & .estimator & .estimate\\\\\n",
       " <chr> & <chr> & <dbl>\\\\\n",
       "\\hline\n",
       "\t accuracy & binary & 0.8830296\\\\\n",
       "\t kap      & binary & 0.0000000\\\\\n",
       "\\end{tabular}\n"
      ],
      "text/markdown": [
       "\n",
       "A tibble: 2 × 3\n",
       "\n",
       "| .metric &lt;chr&gt; | .estimator &lt;chr&gt; | .estimate &lt;dbl&gt; |\n",
       "|---|---|---|\n",
       "| accuracy | binary | 0.8830296 |\n",
       "| kap      | binary | 0.0000000 |\n",
       "\n"
      ],
      "text/plain": [
       "  .metric  .estimator .estimate\n",
       "1 accuracy binary     0.8830296\n",
       "2 kap      binary     0.0000000"
      ]
     },
     "metadata": {},
     "output_type": "display_data"
    }
   ],
   "source": [
    "bank_test_predictions_default <- predict(knn_fit_default, bank_test) %>%\n",
    "  bind_cols(bank_test)\n",
    "\n",
    "default_pred = bank_test_predictions_default %>%\n",
    "  metrics(truth = y, estimate = .pred_class)\n",
    "\n",
    "default_pred"
   ]
  },
  {
   "cell_type": "markdown",
   "metadata": {},
   "source": [
    "#### Accuracy of \"age\" variable as a predictor:"
   ]
  },
  {
   "cell_type": "code",
   "execution_count": 74,
   "metadata": {},
   "outputs": [],
   "source": [
    "bank_recipe_age <- recipe(y ~ age, data = bank_train) %>%\n",
    "  step_scale(all_predictors()) %>%\n",
    "  step_center(all_predictors())\n",
    "\n",
    "knn_fit_age <- workflow() %>%\n",
    "    add_recipe(bank_recipe_age) %>%\n",
    "    add_model(knn_specification) %>%\n",
    "    fit(data = bank_train)"
   ]
  },
  {
   "cell_type": "code",
   "execution_count": 75,
   "metadata": {},
   "outputs": [
    {
     "data": {
      "text/html": [
       "<table>\n",
       "<caption>A tibble: 2 × 3</caption>\n",
       "<thead>\n",
       "\t<tr><th scope=col>.metric</th><th scope=col>.estimator</th><th scope=col>.estimate</th></tr>\n",
       "\t<tr><th scope=col>&lt;chr&gt;</th><th scope=col>&lt;chr&gt;</th><th scope=col>&lt;dbl&gt;</th></tr>\n",
       "</thead>\n",
       "<tbody>\n",
       "\t<tr><td>accuracy</td><td>binary</td><td>0.88241019</td></tr>\n",
       "\t<tr><td>kap     </td><td>binary</td><td>0.03550441</td></tr>\n",
       "</tbody>\n",
       "</table>\n"
      ],
      "text/latex": [
       "A tibble: 2 × 3\n",
       "\\begin{tabular}{lll}\n",
       " .metric & .estimator & .estimate\\\\\n",
       " <chr> & <chr> & <dbl>\\\\\n",
       "\\hline\n",
       "\t accuracy & binary & 0.88241019\\\\\n",
       "\t kap      & binary & 0.03550441\\\\\n",
       "\\end{tabular}\n"
      ],
      "text/markdown": [
       "\n",
       "A tibble: 2 × 3\n",
       "\n",
       "| .metric &lt;chr&gt; | .estimator &lt;chr&gt; | .estimate &lt;dbl&gt; |\n",
       "|---|---|---|\n",
       "| accuracy | binary | 0.88241019 |\n",
       "| kap      | binary | 0.03550441 |\n",
       "\n"
      ],
      "text/plain": [
       "  .metric  .estimator .estimate \n",
       "1 accuracy binary     0.88241019\n",
       "2 kap      binary     0.03550441"
      ]
     },
     "metadata": {},
     "output_type": "display_data"
    }
   ],
   "source": [
    "bank_test_predictions_age <- predict(knn_fit_age, bank_test) %>%\n",
    "  bind_cols(bank_test)\n",
    "\n",
    "age_pred = bank_test_predictions_age %>%\n",
    "  metrics(truth = y, estimate = .pred_class)\n",
    "\n",
    "age_pred"
   ]
  },
  {
   "cell_type": "markdown",
   "metadata": {},
   "source": [
    "#### Accuracy of \"balance\" variable as a predictor:"
   ]
  },
  {
   "cell_type": "code",
   "execution_count": 79,
   "metadata": {},
   "outputs": [],
   "source": [
    "bank_recipe_balance <- recipe(y ~ balance, data = bank_train) %>%\n",
    "  step_scale(all_predictors()) %>%\n",
    "  step_center(all_predictors())\n",
    "\n",
    "knn_fit_balance <- workflow() %>%\n",
    "    add_recipe(bank_recipe_balance) %>%\n",
    "    add_model(knn_specification) %>%\n",
    "    fit(data = bank_train)"
   ]
  },
  {
   "cell_type": "code",
   "execution_count": 80,
   "metadata": {},
   "outputs": [
    {
     "data": {
      "text/html": [
       "<table>\n",
       "<caption>A tibble: 2 × 3</caption>\n",
       "<thead>\n",
       "\t<tr><th scope=col>.metric</th><th scope=col>.estimator</th><th scope=col>.estimate</th></tr>\n",
       "\t<tr><th scope=col>&lt;chr&gt;</th><th scope=col>&lt;chr&gt;</th><th scope=col>&lt;dbl&gt;</th></tr>\n",
       "</thead>\n",
       "<tbody>\n",
       "\t<tr><td>accuracy</td><td>binary</td><td>0.87126172</td></tr>\n",
       "\t<tr><td>kap     </td><td>binary</td><td>0.04781843</td></tr>\n",
       "</tbody>\n",
       "</table>\n"
      ],
      "text/latex": [
       "A tibble: 2 × 3\n",
       "\\begin{tabular}{lll}\n",
       " .metric & .estimator & .estimate\\\\\n",
       " <chr> & <chr> & <dbl>\\\\\n",
       "\\hline\n",
       "\t accuracy & binary & 0.87126172\\\\\n",
       "\t kap      & binary & 0.04781843\\\\\n",
       "\\end{tabular}\n"
      ],
      "text/markdown": [
       "\n",
       "A tibble: 2 × 3\n",
       "\n",
       "| .metric &lt;chr&gt; | .estimator &lt;chr&gt; | .estimate &lt;dbl&gt; |\n",
       "|---|---|---|\n",
       "| accuracy | binary | 0.87126172 |\n",
       "| kap      | binary | 0.04781843 |\n",
       "\n"
      ],
      "text/plain": [
       "  .metric  .estimator .estimate \n",
       "1 accuracy binary     0.87126172\n",
       "2 kap      binary     0.04781843"
      ]
     },
     "metadata": {},
     "output_type": "display_data"
    }
   ],
   "source": [
    "bank_test_predictions_balance <- predict(knn_fit_balance, bank_test) %>%\n",
    "  bind_cols(bank_test)\n",
    "\n",
    "balance_pred = bank_test_predictions_balance %>%\n",
    "  metrics(truth = y, estimate = .pred_class)\n",
    "\n",
    "balance_pred"
   ]
  },
  {
   "cell_type": "markdown",
   "metadata": {},
   "source": [
    "#### Accuracy of \"housing\" variable as a predictor:"
   ]
  },
  {
   "cell_type": "code",
   "execution_count": 81,
   "metadata": {},
   "outputs": [],
   "source": [
    "bank_recipe_housing <- recipe(y ~ housing, data = bank_train) %>%\n",
    "  step_scale(all_predictors()) %>%\n",
    "  step_center(all_predictors())\n",
    "\n",
    "knn_fit_housing <- workflow() %>%\n",
    "    add_recipe(bank_recipe_housing) %>%\n",
    "    add_model(knn_specification) %>%\n",
    "    fit(data = bank_train)"
   ]
  },
  {
   "cell_type": "code",
   "execution_count": 82,
   "metadata": {},
   "outputs": [
    {
     "data": {
      "text/html": [
       "<table>\n",
       "<caption>A tibble: 2 × 3</caption>\n",
       "<thead>\n",
       "\t<tr><th scope=col>.metric</th><th scope=col>.estimator</th><th scope=col>.estimate</th></tr>\n",
       "\t<tr><th scope=col>&lt;chr&gt;</th><th scope=col>&lt;chr&gt;</th><th scope=col>&lt;dbl&gt;</th></tr>\n",
       "</thead>\n",
       "<tbody>\n",
       "\t<tr><td>accuracy</td><td>binary</td><td>0.8830296</td></tr>\n",
       "\t<tr><td>kap     </td><td>binary</td><td>0.0000000</td></tr>\n",
       "</tbody>\n",
       "</table>\n"
      ],
      "text/latex": [
       "A tibble: 2 × 3\n",
       "\\begin{tabular}{lll}\n",
       " .metric & .estimator & .estimate\\\\\n",
       " <chr> & <chr> & <dbl>\\\\\n",
       "\\hline\n",
       "\t accuracy & binary & 0.8830296\\\\\n",
       "\t kap      & binary & 0.0000000\\\\\n",
       "\\end{tabular}\n"
      ],
      "text/markdown": [
       "\n",
       "A tibble: 2 × 3\n",
       "\n",
       "| .metric &lt;chr&gt; | .estimator &lt;chr&gt; | .estimate &lt;dbl&gt; |\n",
       "|---|---|---|\n",
       "| accuracy | binary | 0.8830296 |\n",
       "| kap      | binary | 0.0000000 |\n",
       "\n"
      ],
      "text/plain": [
       "  .metric  .estimator .estimate\n",
       "1 accuracy binary     0.8830296\n",
       "2 kap      binary     0.0000000"
      ]
     },
     "metadata": {},
     "output_type": "display_data"
    }
   ],
   "source": [
    "bank_test_predictions_housing <- predict(knn_fit_housing, bank_test) %>%\n",
    "  bind_cols(bank_test)\n",
    "\n",
    "housing_pred = bank_test_predictions_housing %>%\n",
    "  metrics(truth = y, estimate = .pred_class)\n",
    "\n",
    "housing_pred"
   ]
  },
  {
   "cell_type": "markdown",
   "metadata": {},
   "source": [
    "#### Accuracy of \"loan\" variable as a predictor:"
   ]
  },
  {
   "cell_type": "code",
   "execution_count": 83,
   "metadata": {},
   "outputs": [],
   "source": [
    "bank_recipe_loan <- recipe(y ~ loan, data = bank_train) %>%\n",
    "  step_scale(all_predictors()) %>%\n",
    "  step_center(all_predictors())\n",
    "\n",
    "knn_fit_loan <- workflow() %>%\n",
    "    add_recipe(bank_recipe_loan) %>%\n",
    "    add_model(knn_specification) %>%\n",
    "    fit(data = bank_train)"
   ]
  },
  {
   "cell_type": "code",
   "execution_count": 84,
   "metadata": {},
   "outputs": [
    {
     "data": {
      "text/html": [
       "<table>\n",
       "<caption>A tibble: 2 × 3</caption>\n",
       "<thead>\n",
       "\t<tr><th scope=col>.metric</th><th scope=col>.estimator</th><th scope=col>.estimate</th></tr>\n",
       "\t<tr><th scope=col>&lt;chr&gt;</th><th scope=col>&lt;chr&gt;</th><th scope=col>&lt;dbl&gt;</th></tr>\n",
       "</thead>\n",
       "<tbody>\n",
       "\t<tr><td>accuracy</td><td>binary</td><td>0.8830296</td></tr>\n",
       "\t<tr><td>kap     </td><td>binary</td><td>0.0000000</td></tr>\n",
       "</tbody>\n",
       "</table>\n"
      ],
      "text/latex": [
       "A tibble: 2 × 3\n",
       "\\begin{tabular}{lll}\n",
       " .metric & .estimator & .estimate\\\\\n",
       " <chr> & <chr> & <dbl>\\\\\n",
       "\\hline\n",
       "\t accuracy & binary & 0.8830296\\\\\n",
       "\t kap      & binary & 0.0000000\\\\\n",
       "\\end{tabular}\n"
      ],
      "text/markdown": [
       "\n",
       "A tibble: 2 × 3\n",
       "\n",
       "| .metric &lt;chr&gt; | .estimator &lt;chr&gt; | .estimate &lt;dbl&gt; |\n",
       "|---|---|---|\n",
       "| accuracy | binary | 0.8830296 |\n",
       "| kap      | binary | 0.0000000 |\n",
       "\n"
      ],
      "text/plain": [
       "  .metric  .estimator .estimate\n",
       "1 accuracy binary     0.8830296\n",
       "2 kap      binary     0.0000000"
      ]
     },
     "metadata": {},
     "output_type": "display_data"
    }
   ],
   "source": [
    "bank_test_predictions_loan <- predict(knn_fit_loan, bank_test) %>%\n",
    "  bind_cols(bank_test)\n",
    "\n",
    "loan_pred = bank_test_predictions_loan %>%\n",
    "  metrics(truth = y, estimate = .pred_class)\n",
    "\n",
    "loan_pred"
   ]
  },
  {
   "cell_type": "markdown",
   "metadata": {},
   "source": [
    "#### Accuracy of \"day\" variable as a predictor:"
   ]
  },
  {
   "cell_type": "code",
   "execution_count": 85,
   "metadata": {},
   "outputs": [],
   "source": [
    "bank_recipe_day <- recipe(y ~ day, data = bank_train) %>%\n",
    "  step_scale(all_predictors()) %>%\n",
    "  step_center(all_predictors())\n",
    "\n",
    "knn_fit_day <- workflow() %>%\n",
    "    add_recipe(bank_recipe_day) %>%\n",
    "    add_model(knn_specification) %>%\n",
    "    fit(data = bank_train)"
   ]
  },
  {
   "cell_type": "code",
   "execution_count": 86,
   "metadata": {},
   "outputs": [
    {
     "data": {
      "text/html": [
       "<table>\n",
       "<caption>A tibble: 2 × 3</caption>\n",
       "<thead>\n",
       "\t<tr><th scope=col>.metric</th><th scope=col>.estimator</th><th scope=col>.estimate</th></tr>\n",
       "\t<tr><th scope=col>&lt;chr&gt;</th><th scope=col>&lt;chr&gt;</th><th scope=col>&lt;dbl&gt;</th></tr>\n",
       "</thead>\n",
       "<tbody>\n",
       "\t<tr><td>accuracy</td><td>binary</td><td>0.8830296</td></tr>\n",
       "\t<tr><td>kap     </td><td>binary</td><td>0.0000000</td></tr>\n",
       "</tbody>\n",
       "</table>\n"
      ],
      "text/latex": [
       "A tibble: 2 × 3\n",
       "\\begin{tabular}{lll}\n",
       " .metric & .estimator & .estimate\\\\\n",
       " <chr> & <chr> & <dbl>\\\\\n",
       "\\hline\n",
       "\t accuracy & binary & 0.8830296\\\\\n",
       "\t kap      & binary & 0.0000000\\\\\n",
       "\\end{tabular}\n"
      ],
      "text/markdown": [
       "\n",
       "A tibble: 2 × 3\n",
       "\n",
       "| .metric &lt;chr&gt; | .estimator &lt;chr&gt; | .estimate &lt;dbl&gt; |\n",
       "|---|---|---|\n",
       "| accuracy | binary | 0.8830296 |\n",
       "| kap      | binary | 0.0000000 |\n",
       "\n"
      ],
      "text/plain": [
       "  .metric  .estimator .estimate\n",
       "1 accuracy binary     0.8830296\n",
       "2 kap      binary     0.0000000"
      ]
     },
     "metadata": {},
     "output_type": "display_data"
    }
   ],
   "source": [
    "bank_test_predictions_day <- predict(knn_fit_day, bank_test) %>%\n",
    "  bind_cols(bank_test)\n",
    "\n",
    "day_pred = bank_test_predictions_day %>%\n",
    "  metrics(truth = y, estimate = .pred_class)\n",
    "\n",
    "day_pred"
   ]
  }
 ],
 "metadata": {
  "kernelspec": {
   "display_name": "R",
   "language": "R",
   "name": "ir"
  },
  "language_info": {
   "codemirror_mode": "r",
   "file_extension": ".r",
   "mimetype": "text/x-r-source",
   "name": "R",
   "pygments_lexer": "r",
   "version": "4.0.0"
  }
 },
 "nbformat": 4,
 "nbformat_minor": 4
}
