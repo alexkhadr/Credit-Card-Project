{
 "cells": [
  {
   "cell_type": "markdown",
   "metadata": {},
   "source": [
    "This file is for our proposal notebook"
   ]
  },
  {
   "cell_type": "markdown",
   "metadata": {},
   "source": [
    "# Bank Marketing Data Set Group Project Proposal\n",
    "##### By: Alex Khadra, Shay Tannne, Liam Buchan, Tanaya Parakh"
   ]
  },
  {
   "cell_type": "markdown",
   "metadata": {},
   "source": [
    "### Introduction:\n",
    "The data set we are working on is the bank marketing data set. The bank we are analyzing is a Portuguese banking institution with data related with direct marketing campaigns (phone calls). \n",
    "\n",
    "The classification goal for this project, is to predict if the client will subscribe a term deposit. A term deposit is a cash investment held at a financial institution. Your money is invested for an agreed rate of interest over a fixed amount of time, or term. Term deposits can be invested into a bank, building society or credit union (in our case the Portuguese banking institution).\n",
    "\n",
    "Our data set includes: \n",
    "- age \n",
    "- job \n",
    "- marital\n",
    "- education \n",
    "- default \n",
    "- balance \n",
    "- housing \n",
    "- loan \n",
    "- contact \n",
    "- day \n",
    "- month \n",
    "- duration \n",
    "- campaign \n",
    "- pdays \n",
    "- previous \n",
    "- poutcome \n",
    "- \"y\" (where \"y\" is whether or not they got a term deposit)\n",
    "\n",
    "Throughout the project we will look at all the variables and see how they relate to clients subscribing to a term deposit, and figure out how to best predict whether or not a client will subscribe a term deposit."
   ]
  },
  {
   "cell_type": "code",
   "execution_count": null,
   "metadata": {},
   "outputs": [],
   "source": []
  }
 ],
 "metadata": {
  "kernelspec": {
   "display_name": "R",
   "language": "R",
   "name": "ir"
  },
  "language_info": {
   "codemirror_mode": "r",
   "file_extension": ".r",
   "mimetype": "text/x-r-source",
   "name": "R",
   "pygments_lexer": "r",
   "version": "4.0.2"
  }
 },
 "nbformat": 4,
 "nbformat_minor": 4
}
