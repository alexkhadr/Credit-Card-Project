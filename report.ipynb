{
 "cells": [
  {
   "cell_type": "markdown",
   "metadata": {},
   "source": [
    "## Predicting the most influential variables on whether or not a client will subscribe a term deposit"
   ]
  },
  {
   "cell_type": "markdown",
   "metadata": {},
   "source": [
    "## Introduction:\n",
    "The data set we are working on is the bank marketing data set. The bank we are analyzing is a Portuguese banking institution with data related with direct marketing campaigns (phone calls).\n",
    "\n",
    "This dataset contains many variables as shown when we load the file below. However some of the more cryptic variables are defined here:\n",
    "\n",
    "- `default` - Has credit in default?\n",
    "- `balance` - Account balance (EUR)\n",
    "- `housing` - Has housing loan?\n",
    "- `contact` - Contact communication type\n",
    "- `month` / `day_of_week` - Date of last contact\n",
    "- `duration` - Last contact duration, in seconds\n",
    "- `campaign` - Number of contacts performed during this campaign and for this client\n",
    "- `pdays` - Number of days that passed by after the client was last contacted from a previous campaign\n",
    "- `previous` - Number of contacts performed before this campaign and for this client \n",
    "- `poutcome` - Outcome of the previous marketing campaign\n",
    "- `y` - Has the client subscribed a term deposit?\n",
    "\n",
    "Using this dataset we will attempt to answer the question \"Which variables have the greatest influence on predicting whether or not a client will subscribe a term deposit?\" A term deposit is a cash investment held at a financial institution. Your money is invested for an agreed rate of interest over a fixed amount of time, or term.\n",
    "\n",
    "Based on our existing knowledge of the space we believe that balance will be the greatest predictor."
   ]
  },
  {
   "cell_type": "markdown",
   "metadata": {},
   "source": [
    "## Method:\n",
    "\n",
    "Throughout this project we explain step by step the method we use. In a short summary, we first obtain, clean, and mutate the data to make all the variables numeric to be able to properly use the KNN algorithm and create a correlation table. For the KNN algorithm We create models, specifications, and a best fit for each individual separately and we see which variable yields the highest accuracy as a predictor. We then back our evidence through different graphs to come up with our conclusion. After performing these steps on the data however we were still left with inconlusive results so we decided to do some research ourselves and use some algroithms we had not learned in class to find an answer to our question. For a more detailed description of our method, read along our step by step procedure."
   ]
  },
  {
   "cell_type": "markdown",
   "metadata": {},
   "source": [
    "First we load the libraries required to perform the data analysis. We also make sure to set the seed so that the results are repeatable and not affected by randomness."
   ]
  },
  {
   "cell_type": "code",
   "execution_count": 30,
   "metadata": {},
   "outputs": [],
   "source": [
    "set.seed(1337)\n",
    "\n",
    "library(tidyverse)\n",
    "library(repr)\n",
    "library(rvest)\n",
    "library(stringr)\n",
    "library(tidymodels)\n",
    "library(randomForest)"
   ]
  },
  {
   "cell_type": "markdown",
   "metadata": {},
   "source": [
    "Next we download, extract, and parse our dataset from the web."
   ]
  },
  {
   "cell_type": "code",
   "execution_count": 36,
   "metadata": {},
   "outputs": [
    {
     "name": "stderr",
     "output_type": "stream",
     "text": [
      "Warning message in dir.create(\"data/\"):\n",
      "“'data' already exists”\n",
      "Parsed with column specification:\n",
      "cols(\n",
      "  age = \u001b[32mcol_double()\u001b[39m,\n",
      "  job = \u001b[31mcol_character()\u001b[39m,\n",
      "  marital = \u001b[31mcol_character()\u001b[39m,\n",
      "  education = \u001b[31mcol_character()\u001b[39m,\n",
      "  default = \u001b[31mcol_character()\u001b[39m,\n",
      "  balance = \u001b[32mcol_double()\u001b[39m,\n",
      "  housing = \u001b[31mcol_character()\u001b[39m,\n",
      "  loan = \u001b[31mcol_character()\u001b[39m,\n",
      "  contact = \u001b[31mcol_character()\u001b[39m,\n",
      "  day = \u001b[32mcol_double()\u001b[39m,\n",
      "  month = \u001b[31mcol_character()\u001b[39m,\n",
      "  duration = \u001b[32mcol_double()\u001b[39m,\n",
      "  campaign = \u001b[32mcol_double()\u001b[39m,\n",
      "  pdays = \u001b[32mcol_double()\u001b[39m,\n",
      "  previous = \u001b[32mcol_double()\u001b[39m,\n",
      "  poutcome = \u001b[31mcol_character()\u001b[39m,\n",
      "  y = \u001b[31mcol_character()\u001b[39m\n",
      ")\n",
      "\n"
     ]
    },
    {
     "data": {
      "text/html": [
       "<table>\n",
       "<caption>A spec_tbl_df: 10 × 17</caption>\n",
       "<thead>\n",
       "\t<tr><th scope=col>age</th><th scope=col>job</th><th scope=col>marital</th><th scope=col>education</th><th scope=col>default</th><th scope=col>balance</th><th scope=col>housing</th><th scope=col>loan</th><th scope=col>contact</th><th scope=col>day</th><th scope=col>month</th><th scope=col>duration</th><th scope=col>campaign</th><th scope=col>pdays</th><th scope=col>previous</th><th scope=col>poutcome</th><th scope=col>y</th></tr>\n",
       "\t<tr><th scope=col>&lt;dbl&gt;</th><th scope=col>&lt;chr&gt;</th><th scope=col>&lt;chr&gt;</th><th scope=col>&lt;chr&gt;</th><th scope=col>&lt;chr&gt;</th><th scope=col>&lt;dbl&gt;</th><th scope=col>&lt;chr&gt;</th><th scope=col>&lt;chr&gt;</th><th scope=col>&lt;chr&gt;</th><th scope=col>&lt;dbl&gt;</th><th scope=col>&lt;chr&gt;</th><th scope=col>&lt;dbl&gt;</th><th scope=col>&lt;dbl&gt;</th><th scope=col>&lt;dbl&gt;</th><th scope=col>&lt;dbl&gt;</th><th scope=col>&lt;chr&gt;</th><th scope=col>&lt;chr&gt;</th></tr>\n",
       "</thead>\n",
       "<tbody>\n",
       "\t<tr><td>58</td><td>management  </td><td>married </td><td>tertiary </td><td>no </td><td>2143</td><td>yes</td><td>no </td><td>unknown</td><td>5</td><td>may</td><td>261</td><td>1</td><td>-1</td><td>0</td><td>unknown</td><td>no</td></tr>\n",
       "\t<tr><td>44</td><td>technician  </td><td>single  </td><td>secondary</td><td>no </td><td>  29</td><td>yes</td><td>no </td><td>unknown</td><td>5</td><td>may</td><td>151</td><td>1</td><td>-1</td><td>0</td><td>unknown</td><td>no</td></tr>\n",
       "\t<tr><td>33</td><td>entrepreneur</td><td>married </td><td>secondary</td><td>no </td><td>   2</td><td>yes</td><td>yes</td><td>unknown</td><td>5</td><td>may</td><td> 76</td><td>1</td><td>-1</td><td>0</td><td>unknown</td><td>no</td></tr>\n",
       "\t<tr><td>47</td><td>blue-collar </td><td>married </td><td>unknown  </td><td>no </td><td>1506</td><td>yes</td><td>no </td><td>unknown</td><td>5</td><td>may</td><td> 92</td><td>1</td><td>-1</td><td>0</td><td>unknown</td><td>no</td></tr>\n",
       "\t<tr><td>33</td><td>unknown     </td><td>single  </td><td>unknown  </td><td>no </td><td>   1</td><td>no </td><td>no </td><td>unknown</td><td>5</td><td>may</td><td>198</td><td>1</td><td>-1</td><td>0</td><td>unknown</td><td>no</td></tr>\n",
       "\t<tr><td>35</td><td>management  </td><td>married </td><td>tertiary </td><td>no </td><td> 231</td><td>yes</td><td>no </td><td>unknown</td><td>5</td><td>may</td><td>139</td><td>1</td><td>-1</td><td>0</td><td>unknown</td><td>no</td></tr>\n",
       "\t<tr><td>28</td><td>management  </td><td>single  </td><td>tertiary </td><td>no </td><td> 447</td><td>yes</td><td>yes</td><td>unknown</td><td>5</td><td>may</td><td>217</td><td>1</td><td>-1</td><td>0</td><td>unknown</td><td>no</td></tr>\n",
       "\t<tr><td>42</td><td>entrepreneur</td><td>divorced</td><td>tertiary </td><td>yes</td><td>   2</td><td>yes</td><td>no </td><td>unknown</td><td>5</td><td>may</td><td>380</td><td>1</td><td>-1</td><td>0</td><td>unknown</td><td>no</td></tr>\n",
       "\t<tr><td>58</td><td>retired     </td><td>married </td><td>primary  </td><td>no </td><td> 121</td><td>yes</td><td>no </td><td>unknown</td><td>5</td><td>may</td><td> 50</td><td>1</td><td>-1</td><td>0</td><td>unknown</td><td>no</td></tr>\n",
       "\t<tr><td>43</td><td>technician  </td><td>single  </td><td>secondary</td><td>no </td><td> 593</td><td>yes</td><td>no </td><td>unknown</td><td>5</td><td>may</td><td> 55</td><td>1</td><td>-1</td><td>0</td><td>unknown</td><td>no</td></tr>\n",
       "</tbody>\n",
       "</table>\n"
      ],
      "text/latex": [
       "A spec\\_tbl\\_df: 10 × 17\n",
       "\\begin{tabular}{lllllllllllllllll}\n",
       " age & job & marital & education & default & balance & housing & loan & contact & day & month & duration & campaign & pdays & previous & poutcome & y\\\\\n",
       " <dbl> & <chr> & <chr> & <chr> & <chr> & <dbl> & <chr> & <chr> & <chr> & <dbl> & <chr> & <dbl> & <dbl> & <dbl> & <dbl> & <chr> & <chr>\\\\\n",
       "\\hline\n",
       "\t 58 & management   & married  & tertiary  & no  & 2143 & yes & no  & unknown & 5 & may & 261 & 1 & -1 & 0 & unknown & no\\\\\n",
       "\t 44 & technician   & single   & secondary & no  &   29 & yes & no  & unknown & 5 & may & 151 & 1 & -1 & 0 & unknown & no\\\\\n",
       "\t 33 & entrepreneur & married  & secondary & no  &    2 & yes & yes & unknown & 5 & may &  76 & 1 & -1 & 0 & unknown & no\\\\\n",
       "\t 47 & blue-collar  & married  & unknown   & no  & 1506 & yes & no  & unknown & 5 & may &  92 & 1 & -1 & 0 & unknown & no\\\\\n",
       "\t 33 & unknown      & single   & unknown   & no  &    1 & no  & no  & unknown & 5 & may & 198 & 1 & -1 & 0 & unknown & no\\\\\n",
       "\t 35 & management   & married  & tertiary  & no  &  231 & yes & no  & unknown & 5 & may & 139 & 1 & -1 & 0 & unknown & no\\\\\n",
       "\t 28 & management   & single   & tertiary  & no  &  447 & yes & yes & unknown & 5 & may & 217 & 1 & -1 & 0 & unknown & no\\\\\n",
       "\t 42 & entrepreneur & divorced & tertiary  & yes &    2 & yes & no  & unknown & 5 & may & 380 & 1 & -1 & 0 & unknown & no\\\\\n",
       "\t 58 & retired      & married  & primary   & no  &  121 & yes & no  & unknown & 5 & may &  50 & 1 & -1 & 0 & unknown & no\\\\\n",
       "\t 43 & technician   & single   & secondary & no  &  593 & yes & no  & unknown & 5 & may &  55 & 1 & -1 & 0 & unknown & no\\\\\n",
       "\\end{tabular}\n"
      ],
      "text/markdown": [
       "\n",
       "A spec_tbl_df: 10 × 17\n",
       "\n",
       "| age &lt;dbl&gt; | job &lt;chr&gt; | marital &lt;chr&gt; | education &lt;chr&gt; | default &lt;chr&gt; | balance &lt;dbl&gt; | housing &lt;chr&gt; | loan &lt;chr&gt; | contact &lt;chr&gt; | day &lt;dbl&gt; | month &lt;chr&gt; | duration &lt;dbl&gt; | campaign &lt;dbl&gt; | pdays &lt;dbl&gt; | previous &lt;dbl&gt; | poutcome &lt;chr&gt; | y &lt;chr&gt; |\n",
       "|---|---|---|---|---|---|---|---|---|---|---|---|---|---|---|---|---|\n",
       "| 58 | management   | married  | tertiary  | no  | 2143 | yes | no  | unknown | 5 | may | 261 | 1 | -1 | 0 | unknown | no |\n",
       "| 44 | technician   | single   | secondary | no  |   29 | yes | no  | unknown | 5 | may | 151 | 1 | -1 | 0 | unknown | no |\n",
       "| 33 | entrepreneur | married  | secondary | no  |    2 | yes | yes | unknown | 5 | may |  76 | 1 | -1 | 0 | unknown | no |\n",
       "| 47 | blue-collar  | married  | unknown   | no  | 1506 | yes | no  | unknown | 5 | may |  92 | 1 | -1 | 0 | unknown | no |\n",
       "| 33 | unknown      | single   | unknown   | no  |    1 | no  | no  | unknown | 5 | may | 198 | 1 | -1 | 0 | unknown | no |\n",
       "| 35 | management   | married  | tertiary  | no  |  231 | yes | no  | unknown | 5 | may | 139 | 1 | -1 | 0 | unknown | no |\n",
       "| 28 | management   | single   | tertiary  | no  |  447 | yes | yes | unknown | 5 | may | 217 | 1 | -1 | 0 | unknown | no |\n",
       "| 42 | entrepreneur | divorced | tertiary  | yes |    2 | yes | no  | unknown | 5 | may | 380 | 1 | -1 | 0 | unknown | no |\n",
       "| 58 | retired      | married  | primary   | no  |  121 | yes | no  | unknown | 5 | may |  50 | 1 | -1 | 0 | unknown | no |\n",
       "| 43 | technician   | single   | secondary | no  |  593 | yes | no  | unknown | 5 | may |  55 | 1 | -1 | 0 | unknown | no |\n",
       "\n"
      ],
      "text/plain": [
       "   age job          marital  education default balance housing loan contact day\n",
       "1  58  management   married  tertiary  no      2143    yes     no   unknown 5  \n",
       "2  44  technician   single   secondary no        29    yes     no   unknown 5  \n",
       "3  33  entrepreneur married  secondary no         2    yes     yes  unknown 5  \n",
       "4  47  blue-collar  married  unknown   no      1506    yes     no   unknown 5  \n",
       "5  33  unknown      single   unknown   no         1    no      no   unknown 5  \n",
       "6  35  management   married  tertiary  no       231    yes     no   unknown 5  \n",
       "7  28  management   single   tertiary  no       447    yes     yes  unknown 5  \n",
       "8  42  entrepreneur divorced tertiary  yes        2    yes     no   unknown 5  \n",
       "9  58  retired      married  primary   no       121    yes     no   unknown 5  \n",
       "10 43  technician   single   secondary no       593    yes     no   unknown 5  \n",
       "   month duration campaign pdays previous poutcome y \n",
       "1  may   261      1        -1    0        unknown  no\n",
       "2  may   151      1        -1    0        unknown  no\n",
       "3  may    76      1        -1    0        unknown  no\n",
       "4  may    92      1        -1    0        unknown  no\n",
       "5  may   198      1        -1    0        unknown  no\n",
       "6  may   139      1        -1    0        unknown  no\n",
       "7  may   217      1        -1    0        unknown  no\n",
       "8  may   380      1        -1    0        unknown  no\n",
       "9  may    50      1        -1    0        unknown  no\n",
       "10 may    55      1        -1    0        unknown  no"
      ]
     },
     "metadata": {},
     "output_type": "display_data"
    }
   ],
   "source": [
    "# download and extract dataset\n",
    "dir.create(\"data/\")\n",
    "download.file(\"https://archive.ics.uci.edu/ml/machine-learning-databases/00222/bank.zip\", destfile = \"data/bank.zip\")\n",
    "unzip(\"data/bank.zip\", files = \"bank-full.csv\", exdir = \"data/\", overwrite = TRUE)\n",
    "\n",
    "# load dataset\n",
    "bank_full <- read_delim(\"data/bank-full.csv\", delim = ';')\n",
    "slice(bank_full, 1:10)"
   ]
  },
  {
   "cell_type": "markdown",
   "metadata": {},
   "source": [
    "We decide to filter out the columns we thought would not play any relationship to whether or not a client subscribed a term deposit or were very difficult to deal with using algorithm. We removed all columns related to date, method of communication, and whether they had defaulted. "
   ]
  },
  {
   "cell_type": "code",
   "execution_count": 37,
   "metadata": {},
   "outputs": [
    {
     "data": {
      "text/html": [
       "<table>\n",
       "<caption>A tibble: 10 × 13</caption>\n",
       "<thead>\n",
       "\t<tr><th scope=col>age</th><th scope=col>job</th><th scope=col>marital</th><th scope=col>education</th><th scope=col>balance</th><th scope=col>housing</th><th scope=col>loan</th><th scope=col>duration</th><th scope=col>campaign</th><th scope=col>pdays</th><th scope=col>previous</th><th scope=col>poutcome</th><th scope=col>y</th></tr>\n",
       "\t<tr><th scope=col>&lt;dbl&gt;</th><th scope=col>&lt;chr&gt;</th><th scope=col>&lt;chr&gt;</th><th scope=col>&lt;chr&gt;</th><th scope=col>&lt;dbl&gt;</th><th scope=col>&lt;chr&gt;</th><th scope=col>&lt;chr&gt;</th><th scope=col>&lt;dbl&gt;</th><th scope=col>&lt;dbl&gt;</th><th scope=col>&lt;dbl&gt;</th><th scope=col>&lt;dbl&gt;</th><th scope=col>&lt;chr&gt;</th><th scope=col>&lt;chr&gt;</th></tr>\n",
       "</thead>\n",
       "<tbody>\n",
       "\t<tr><td>58</td><td>management  </td><td>married </td><td>tertiary </td><td>2143</td><td>yes</td><td>no </td><td>261</td><td>1</td><td>-1</td><td>0</td><td>unknown</td><td>no</td></tr>\n",
       "\t<tr><td>44</td><td>technician  </td><td>single  </td><td>secondary</td><td>  29</td><td>yes</td><td>no </td><td>151</td><td>1</td><td>-1</td><td>0</td><td>unknown</td><td>no</td></tr>\n",
       "\t<tr><td>33</td><td>entrepreneur</td><td>married </td><td>secondary</td><td>   2</td><td>yes</td><td>yes</td><td> 76</td><td>1</td><td>-1</td><td>0</td><td>unknown</td><td>no</td></tr>\n",
       "\t<tr><td>47</td><td>blue-collar </td><td>married </td><td>unknown  </td><td>1506</td><td>yes</td><td>no </td><td> 92</td><td>1</td><td>-1</td><td>0</td><td>unknown</td><td>no</td></tr>\n",
       "\t<tr><td>33</td><td>unknown     </td><td>single  </td><td>unknown  </td><td>   1</td><td>no </td><td>no </td><td>198</td><td>1</td><td>-1</td><td>0</td><td>unknown</td><td>no</td></tr>\n",
       "\t<tr><td>35</td><td>management  </td><td>married </td><td>tertiary </td><td> 231</td><td>yes</td><td>no </td><td>139</td><td>1</td><td>-1</td><td>0</td><td>unknown</td><td>no</td></tr>\n",
       "\t<tr><td>28</td><td>management  </td><td>single  </td><td>tertiary </td><td> 447</td><td>yes</td><td>yes</td><td>217</td><td>1</td><td>-1</td><td>0</td><td>unknown</td><td>no</td></tr>\n",
       "\t<tr><td>42</td><td>entrepreneur</td><td>divorced</td><td>tertiary </td><td>   2</td><td>yes</td><td>no </td><td>380</td><td>1</td><td>-1</td><td>0</td><td>unknown</td><td>no</td></tr>\n",
       "\t<tr><td>58</td><td>retired     </td><td>married </td><td>primary  </td><td> 121</td><td>yes</td><td>no </td><td> 50</td><td>1</td><td>-1</td><td>0</td><td>unknown</td><td>no</td></tr>\n",
       "\t<tr><td>43</td><td>technician  </td><td>single  </td><td>secondary</td><td> 593</td><td>yes</td><td>no </td><td> 55</td><td>1</td><td>-1</td><td>0</td><td>unknown</td><td>no</td></tr>\n",
       "</tbody>\n",
       "</table>\n"
      ],
      "text/latex": [
       "A tibble: 10 × 13\n",
       "\\begin{tabular}{lllllllllllll}\n",
       " age & job & marital & education & balance & housing & loan & duration & campaign & pdays & previous & poutcome & y\\\\\n",
       " <dbl> & <chr> & <chr> & <chr> & <dbl> & <chr> & <chr> & <dbl> & <dbl> & <dbl> & <dbl> & <chr> & <chr>\\\\\n",
       "\\hline\n",
       "\t 58 & management   & married  & tertiary  & 2143 & yes & no  & 261 & 1 & -1 & 0 & unknown & no\\\\\n",
       "\t 44 & technician   & single   & secondary &   29 & yes & no  & 151 & 1 & -1 & 0 & unknown & no\\\\\n",
       "\t 33 & entrepreneur & married  & secondary &    2 & yes & yes &  76 & 1 & -1 & 0 & unknown & no\\\\\n",
       "\t 47 & blue-collar  & married  & unknown   & 1506 & yes & no  &  92 & 1 & -1 & 0 & unknown & no\\\\\n",
       "\t 33 & unknown      & single   & unknown   &    1 & no  & no  & 198 & 1 & -1 & 0 & unknown & no\\\\\n",
       "\t 35 & management   & married  & tertiary  &  231 & yes & no  & 139 & 1 & -1 & 0 & unknown & no\\\\\n",
       "\t 28 & management   & single   & tertiary  &  447 & yes & yes & 217 & 1 & -1 & 0 & unknown & no\\\\\n",
       "\t 42 & entrepreneur & divorced & tertiary  &    2 & yes & no  & 380 & 1 & -1 & 0 & unknown & no\\\\\n",
       "\t 58 & retired      & married  & primary   &  121 & yes & no  &  50 & 1 & -1 & 0 & unknown & no\\\\\n",
       "\t 43 & technician   & single   & secondary &  593 & yes & no  &  55 & 1 & -1 & 0 & unknown & no\\\\\n",
       "\\end{tabular}\n"
      ],
      "text/markdown": [
       "\n",
       "A tibble: 10 × 13\n",
       "\n",
       "| age &lt;dbl&gt; | job &lt;chr&gt; | marital &lt;chr&gt; | education &lt;chr&gt; | balance &lt;dbl&gt; | housing &lt;chr&gt; | loan &lt;chr&gt; | duration &lt;dbl&gt; | campaign &lt;dbl&gt; | pdays &lt;dbl&gt; | previous &lt;dbl&gt; | poutcome &lt;chr&gt; | y &lt;chr&gt; |\n",
       "|---|---|---|---|---|---|---|---|---|---|---|---|---|\n",
       "| 58 | management   | married  | tertiary  | 2143 | yes | no  | 261 | 1 | -1 | 0 | unknown | no |\n",
       "| 44 | technician   | single   | secondary |   29 | yes | no  | 151 | 1 | -1 | 0 | unknown | no |\n",
       "| 33 | entrepreneur | married  | secondary |    2 | yes | yes |  76 | 1 | -1 | 0 | unknown | no |\n",
       "| 47 | blue-collar  | married  | unknown   | 1506 | yes | no  |  92 | 1 | -1 | 0 | unknown | no |\n",
       "| 33 | unknown      | single   | unknown   |    1 | no  | no  | 198 | 1 | -1 | 0 | unknown | no |\n",
       "| 35 | management   | married  | tertiary  |  231 | yes | no  | 139 | 1 | -1 | 0 | unknown | no |\n",
       "| 28 | management   | single   | tertiary  |  447 | yes | yes | 217 | 1 | -1 | 0 | unknown | no |\n",
       "| 42 | entrepreneur | divorced | tertiary  |    2 | yes | no  | 380 | 1 | -1 | 0 | unknown | no |\n",
       "| 58 | retired      | married  | primary   |  121 | yes | no  |  50 | 1 | -1 | 0 | unknown | no |\n",
       "| 43 | technician   | single   | secondary |  593 | yes | no  |  55 | 1 | -1 | 0 | unknown | no |\n",
       "\n"
      ],
      "text/plain": [
       "   age job          marital  education balance housing loan duration campaign\n",
       "1  58  management   married  tertiary  2143    yes     no   261      1       \n",
       "2  44  technician   single   secondary   29    yes     no   151      1       \n",
       "3  33  entrepreneur married  secondary    2    yes     yes   76      1       \n",
       "4  47  blue-collar  married  unknown   1506    yes     no    92      1       \n",
       "5  33  unknown      single   unknown      1    no      no   198      1       \n",
       "6  35  management   married  tertiary   231    yes     no   139      1       \n",
       "7  28  management   single   tertiary   447    yes     yes  217      1       \n",
       "8  42  entrepreneur divorced tertiary     2    yes     no   380      1       \n",
       "9  58  retired      married  primary    121    yes     no    50      1       \n",
       "10 43  technician   single   secondary  593    yes     no    55      1       \n",
       "   pdays previous poutcome y \n",
       "1  -1    0        unknown  no\n",
       "2  -1    0        unknown  no\n",
       "3  -1    0        unknown  no\n",
       "4  -1    0        unknown  no\n",
       "5  -1    0        unknown  no\n",
       "6  -1    0        unknown  no\n",
       "7  -1    0        unknown  no\n",
       "8  -1    0        unknown  no\n",
       "9  -1    0        unknown  no\n",
       "10 -1    0        unknown  no"
      ]
     },
     "metadata": {},
     "output_type": "display_data"
    }
   ],
   "source": [
    "bank_trimmed <- bank_full %>%\n",
    "    select(-c(default, contact, day, month))\n",
    "slice(bank_trimmed, 1:10)"
   ]
  },
  {
   "cell_type": "markdown",
   "metadata": {},
   "source": [
    "To summarize the data in the table we use the summary function. It tells potentially interesting statistics about the dataframe such as means and medians."
   ]
  },
  {
   "cell_type": "code",
   "execution_count": 38,
   "metadata": {},
   "outputs": [
    {
     "data": {
      "text/plain": [
       "      age            job              marital           education        \n",
       " Min.   :18.00   Length:45211       Length:45211       Length:45211      \n",
       " 1st Qu.:33.00   Class :character   Class :character   Class :character  \n",
       " Median :39.00   Mode  :character   Mode  :character   Mode  :character  \n",
       " Mean   :40.94                                                           \n",
       " 3rd Qu.:48.00                                                           \n",
       " Max.   :95.00                                                           \n",
       "    balance         housing              loan              duration     \n",
       " Min.   : -8019   Length:45211       Length:45211       Min.   :   0.0  \n",
       " 1st Qu.:    72   Class :character   Class :character   1st Qu.: 103.0  \n",
       " Median :   448   Mode  :character   Mode  :character   Median : 180.0  \n",
       " Mean   :  1362                                         Mean   : 258.2  \n",
       " 3rd Qu.:  1428                                         3rd Qu.: 319.0  \n",
       " Max.   :102127                                         Max.   :4918.0  \n",
       "    campaign          pdays          previous          poutcome        \n",
       " Min.   : 1.000   Min.   : -1.0   Min.   :  0.0000   Length:45211      \n",
       " 1st Qu.: 1.000   1st Qu.: -1.0   1st Qu.:  0.0000   Class :character  \n",
       " Median : 2.000   Median : -1.0   Median :  0.0000   Mode  :character  \n",
       " Mean   : 2.764   Mean   : 40.2   Mean   :  0.5803                     \n",
       " 3rd Qu.: 3.000   3rd Qu.: -1.0   3rd Qu.:  0.0000                     \n",
       " Max.   :63.000   Max.   :871.0   Max.   :275.0000                     \n",
       "      y            \n",
       " Length:45211      \n",
       " Class :character  \n",
       " Mode  :character  \n",
       "                   \n",
       "                   \n",
       "                   "
      ]
     },
     "metadata": {},
     "output_type": "display_data"
    }
   ],
   "source": [
    "summary(bank_trimmed)"
   ]
  },
  {
   "cell_type": "markdown",
   "metadata": {},
   "source": [
    "Next we will convert all of our variables into numbers (enums for class varaibles) for our KNN models below."
   ]
  },
  {
   "cell_type": "code",
   "execution_count": 39,
   "metadata": {},
   "outputs": [
    {
     "data": {
      "text/html": [
       "<table>\n",
       "<caption>A tibble: 5 × 13</caption>\n",
       "<thead>\n",
       "\t<tr><th scope=col>age</th><th scope=col>job</th><th scope=col>marital</th><th scope=col>education</th><th scope=col>balance</th><th scope=col>housing</th><th scope=col>loan</th><th scope=col>duration</th><th scope=col>campaign</th><th scope=col>pdays</th><th scope=col>previous</th><th scope=col>poutcome</th><th scope=col>y</th></tr>\n",
       "\t<tr><th scope=col>&lt;dbl&gt;</th><th scope=col>&lt;dbl&gt;</th><th scope=col>&lt;dbl&gt;</th><th scope=col>&lt;dbl&gt;</th><th scope=col>&lt;dbl&gt;</th><th scope=col>&lt;dbl&gt;</th><th scope=col>&lt;dbl&gt;</th><th scope=col>&lt;dbl&gt;</th><th scope=col>&lt;dbl&gt;</th><th scope=col>&lt;dbl&gt;</th><th scope=col>&lt;dbl&gt;</th><th scope=col>&lt;dbl&gt;</th><th scope=col>&lt;dbl&gt;</th></tr>\n",
       "</thead>\n",
       "<tbody>\n",
       "\t<tr><td>58</td><td> 5</td><td>2</td><td>3</td><td>2143</td><td>2</td><td>1</td><td>261</td><td>1</td><td>-1</td><td>0</td><td>4</td><td>1</td></tr>\n",
       "\t<tr><td>44</td><td>10</td><td>3</td><td>2</td><td>  29</td><td>2</td><td>1</td><td>151</td><td>1</td><td>-1</td><td>0</td><td>4</td><td>1</td></tr>\n",
       "\t<tr><td>33</td><td> 3</td><td>2</td><td>2</td><td>   2</td><td>2</td><td>2</td><td> 76</td><td>1</td><td>-1</td><td>0</td><td>4</td><td>1</td></tr>\n",
       "\t<tr><td>47</td><td> 2</td><td>2</td><td>4</td><td>1506</td><td>2</td><td>1</td><td> 92</td><td>1</td><td>-1</td><td>0</td><td>4</td><td>1</td></tr>\n",
       "\t<tr><td>33</td><td>12</td><td>3</td><td>4</td><td>   1</td><td>1</td><td>1</td><td>198</td><td>1</td><td>-1</td><td>0</td><td>4</td><td>1</td></tr>\n",
       "</tbody>\n",
       "</table>\n"
      ],
      "text/latex": [
       "A tibble: 5 × 13\n",
       "\\begin{tabular}{lllllllllllll}\n",
       " age & job & marital & education & balance & housing & loan & duration & campaign & pdays & previous & poutcome & y\\\\\n",
       " <dbl> & <dbl> & <dbl> & <dbl> & <dbl> & <dbl> & <dbl> & <dbl> & <dbl> & <dbl> & <dbl> & <dbl> & <dbl>\\\\\n",
       "\\hline\n",
       "\t 58 &  5 & 2 & 3 & 2143 & 2 & 1 & 261 & 1 & -1 & 0 & 4 & 1\\\\\n",
       "\t 44 & 10 & 3 & 2 &   29 & 2 & 1 & 151 & 1 & -1 & 0 & 4 & 1\\\\\n",
       "\t 33 &  3 & 2 & 2 &    2 & 2 & 2 &  76 & 1 & -1 & 0 & 4 & 1\\\\\n",
       "\t 47 &  2 & 2 & 4 & 1506 & 2 & 1 &  92 & 1 & -1 & 0 & 4 & 1\\\\\n",
       "\t 33 & 12 & 3 & 4 &    1 & 1 & 1 & 198 & 1 & -1 & 0 & 4 & 1\\\\\n",
       "\\end{tabular}\n"
      ],
      "text/markdown": [
       "\n",
       "A tibble: 5 × 13\n",
       "\n",
       "| age &lt;dbl&gt; | job &lt;dbl&gt; | marital &lt;dbl&gt; | education &lt;dbl&gt; | balance &lt;dbl&gt; | housing &lt;dbl&gt; | loan &lt;dbl&gt; | duration &lt;dbl&gt; | campaign &lt;dbl&gt; | pdays &lt;dbl&gt; | previous &lt;dbl&gt; | poutcome &lt;dbl&gt; | y &lt;dbl&gt; |\n",
       "|---|---|---|---|---|---|---|---|---|---|---|---|---|\n",
       "| 58 |  5 | 2 | 3 | 2143 | 2 | 1 | 261 | 1 | -1 | 0 | 4 | 1 |\n",
       "| 44 | 10 | 3 | 2 |   29 | 2 | 1 | 151 | 1 | -1 | 0 | 4 | 1 |\n",
       "| 33 |  3 | 2 | 2 |    2 | 2 | 2 |  76 | 1 | -1 | 0 | 4 | 1 |\n",
       "| 47 |  2 | 2 | 4 | 1506 | 2 | 1 |  92 | 1 | -1 | 0 | 4 | 1 |\n",
       "| 33 | 12 | 3 | 4 |    1 | 1 | 1 | 198 | 1 | -1 | 0 | 4 | 1 |\n",
       "\n"
      ],
      "text/plain": [
       "  age job marital education balance housing loan duration campaign pdays\n",
       "1 58   5  2       3         2143    2       1    261      1        -1   \n",
       "2 44  10  3       2           29    2       1    151      1        -1   \n",
       "3 33   3  2       2            2    2       2     76      1        -1   \n",
       "4 47   2  2       4         1506    2       1     92      1        -1   \n",
       "5 33  12  3       4            1    1       1    198      1        -1   \n",
       "  previous poutcome y\n",
       "1 0        4        1\n",
       "2 0        4        1\n",
       "3 0        4        1\n",
       "4 0        4        1\n",
       "5 0        4        1"
      ]
     },
     "metadata": {},
     "output_type": "display_data"
    }
   ],
   "source": [
    "bank_nums = bank_trimmed\n",
    "\n",
    "# parse into numbers\n",
    "bank_nums$job = as.numeric(as.factor(bank_nums$job))\n",
    "bank_nums$marital = as.numeric(as.factor(bank_nums$marital))\n",
    "bank_nums$education = as.numeric(as.factor(bank_nums$education))\n",
    "bank_nums$housing = as.numeric(as.factor(bank_nums$housing))\n",
    "bank_nums$loan = as.numeric(as.factor(bank_nums$loan))\n",
    "bank_nums$poutcome = as.numeric(as.factor(bank_nums$poutcome))\n",
    "bank_nums$y = as.numeric(as.factor(bank_nums$y))\n",
    "\n",
    "# set y as factor\n",
    "bank_factor = mutate(bank_nums, y = as_factor(y))\n",
    "\n",
    "# preview\n",
    "slice(bank_nums, 1:5)"
   ]
  },
  {
   "cell_type": "markdown",
   "metadata": {},
   "source": [
    "We split the dataset into the appropriate training and testing set to verify the authenticity of our results."
   ]
  },
  {
   "cell_type": "code",
   "execution_count": 40,
   "metadata": {},
   "outputs": [],
   "source": [
    "bank_split <- initial_split(bank_factor, prop = 0.75, strata = y)\n",
    "bank_train <- training(bank_split)\n",
    "bank_test <- testing(bank_split)"
   ]
  },
  {
   "cell_type": "markdown",
   "metadata": {},
   "source": [
    "To view our data we use the built in glimpse function"
   ]
  },
  {
   "cell_type": "code",
   "execution_count": 45,
   "metadata": {},
   "outputs": [
    {
     "name": "stdout",
     "output_type": "stream",
     "text": [
      "Rows: 33,909\n",
      "Columns: 13\n",
      "$ age       \u001b[3m\u001b[90m<dbl>\u001b[39m\u001b[23m 58, 33, 33, 28, 43, 41, 29, 53, 58, 57, 51, 57, 60, 56, 32,…\n",
      "$ job       \u001b[3m\u001b[90m<dbl>\u001b[39m\u001b[23m 5, 3, 12, 5, 10, 1, 1, 10, 10, 8, 6, 2, 6, 5, 2, 8, 6, 1, 5…\n",
      "$ marital   \u001b[3m\u001b[90m<dbl>\u001b[39m\u001b[23m 2, 2, 3, 3, 3, 1, 3, 2, 2, 2, 2, 2, 2, 2, 3, 2, 2, 2, 3, 2,…\n",
      "$ education \u001b[3m\u001b[90m<dbl>\u001b[39m\u001b[23m 3, 2, 4, 3, 2, 2, 2, 2, 4, 2, 1, 1, 1, 3, 1, 2, 1, 2, 3, 2,…\n",
      "$ balance   \u001b[3m\u001b[90m<dbl>\u001b[39m\u001b[23m 2143, 2, 1, 447, 593, 270, 390, 6, 71, 162, 229, 52, 60, 77…\n",
      "$ housing   \u001b[3m\u001b[90m<dbl>\u001b[39m\u001b[23m 2, 2, 1, 2, 2, 2, 2, 2, 2, 2, 2, 2, 2, 2, 2, 2, 2, 2, 2, 2,…\n",
      "$ loan      \u001b[3m\u001b[90m<dbl>\u001b[39m\u001b[23m 1, 2, 1, 2, 1, 1, 1, 1, 1, 1, 1, 1, 1, 1, 2, 1, 2, 1, 1, 2,…\n",
      "$ duration  \u001b[3m\u001b[90m<dbl>\u001b[39m\u001b[23m 261, 76, 198, 217, 55, 222, 137, 517, 71, 174, 353, 38, 219…\n",
      "$ campaign  \u001b[3m\u001b[90m<dbl>\u001b[39m\u001b[23m 1, 1, 1, 1, 1, 1, 1, 1, 1, 1, 1, 1, 1, 1, 1, 1, 1, 1, 1, 1,…\n",
      "$ pdays     \u001b[3m\u001b[90m<dbl>\u001b[39m\u001b[23m -1, -1, -1, -1, -1, -1, -1, -1, -1, -1, -1, -1, -1, -1, -1,…\n",
      "$ previous  \u001b[3m\u001b[90m<dbl>\u001b[39m\u001b[23m 0, 0, 0, 0, 0, 0, 0, 0, 0, 0, 0, 0, 0, 0, 0, 0, 0, 0, 0, 0,…\n",
      "$ poutcome  \u001b[3m\u001b[90m<dbl>\u001b[39m\u001b[23m 4, 4, 4, 4, 4, 4, 4, 4, 4, 4, 4, 4, 4, 4, 4, 4, 4, 4, 4, 4,…\n",
      "$ y         \u001b[3m\u001b[90m<fct>\u001b[39m\u001b[23m 1, 1, 1, 1, 1, 1, 1, 1, 1, 1, 1, 1, 1, 1, 1, 1, 1, 1, 1, 1,…\n",
      "Rows: 11,302\n",
      "Columns: 13\n",
      "$ age       \u001b[3m\u001b[90m<dbl>\u001b[39m\u001b[23m 44, 47, 35, 42, 58, 45, 33, 28, 46, 36, 59, 44, 50, 36, 55,…\n",
      "$ job       \u001b[3m\u001b[90m<dbl>\u001b[39m\u001b[23m 10, 2, 5, 3, 6, 1, 8, 2, 5, 10, 2, 8, 5, 1, 10, 5, 2, 5, 5,…\n",
      "$ marital   \u001b[3m\u001b[90m<dbl>\u001b[39m\u001b[23m 3, 2, 2, 1, 2, 3, 2, 2, 3, 3, 2, 1, 2, 3, 1, 1, 2, 1, 2, 2,…\n",
      "$ education \u001b[3m\u001b[90m<dbl>\u001b[39m\u001b[23m 2, 4, 3, 3, 1, 4, 2, 2, 2, 2, 2, 2, 2, 1, 2, 3, 1, 3, 2, 1,…\n",
      "$ balance   \u001b[3m\u001b[90m<dbl>\u001b[39m\u001b[23m 29, 1506, 231, 2, 121, 13, 0, 723, -246, 265, 0, 2586, 49, …\n",
      "$ housing   \u001b[3m\u001b[90m<dbl>\u001b[39m\u001b[23m 2, 2, 2, 2, 2, 2, 2, 2, 2, 2, 2, 2, 2, 2, 1, 2, 2, 2, 2, 2,…\n",
      "$ loan      \u001b[3m\u001b[90m<dbl>\u001b[39m\u001b[23m 1, 1, 1, 1, 1, 1, 1, 2, 1, 2, 1, 1, 1, 1, 1, 1, 1, 1, 2, 1,…\n",
      "$ duration  \u001b[3m\u001b[90m<dbl>\u001b[39m\u001b[23m 151, 92, 139, 380, 50, 98, 54, 262, 255, 348, 226, 160, 180…\n",
      "$ campaign  \u001b[3m\u001b[90m<dbl>\u001b[39m\u001b[23m 1, 1, 1, 1, 1, 1, 1, 1, 2, 1, 1, 1, 2, 1, 1, 1, 1, 1, 1, 1,…\n",
      "$ pdays     \u001b[3m\u001b[90m<dbl>\u001b[39m\u001b[23m -1, -1, -1, -1, -1, -1, -1, -1, -1, -1, -1, -1, -1, -1, -1,…\n",
      "$ previous  \u001b[3m\u001b[90m<dbl>\u001b[39m\u001b[23m 0, 0, 0, 0, 0, 0, 0, 0, 0, 0, 0, 0, 0, 0, 0, 0, 0, 0, 0, 0,…\n",
      "$ poutcome  \u001b[3m\u001b[90m<dbl>\u001b[39m\u001b[23m 4, 4, 4, 4, 4, 4, 4, 4, 4, 4, 4, 4, 4, 4, 4, 4, 4, 4, 4, 4,…\n",
      "$ y         \u001b[3m\u001b[90m<fct>\u001b[39m\u001b[23m 1, 1, 1, 1, 1, 1, 1, 1, 1, 1, 1, 1, 1, 1, 1, 1, 1, 1, 1, 1,…\n"
     ]
    }
   ],
   "source": [
    "glimpse(bank_train)\n",
    "glimpse(bank_test)"
   ]
  },
  {
   "cell_type": "markdown",
   "metadata": {},
   "source": [
    "Following this we install the resources necessary to create a correlation table."
   ]
  },
  {
   "cell_type": "code",
   "execution_count": 10,
   "metadata": {},
   "outputs": [
    {
     "name": "stderr",
     "output_type": "stream",
     "text": [
      "Updating HTML index of packages in '.Library'\n",
      "\n",
      "Making 'packages.html' ...\n",
      " done\n",
      "\n"
     ]
    }
   ],
   "source": [
    "install.packages(\"corrplot\")\n",
    "source(\"http://www.sthda.com/upload/rquery_cormat.r\")"
   ]
  },
  {
   "cell_type": "markdown",
   "metadata": {},
   "source": [
    "Finally we create a corelation table for our dataset. This will tell us which variables are most related which we can use to indentify what has the greatest impact on our outcome (`y`)."
   ]
  },
  {
   "cell_type": "code",
   "execution_count": 87,
   "metadata": {},
   "outputs": [
    {
     "data": {
      "text/plain": [
       "$r\n",
       "          campaign poutcome     age balance duration      y marital      job\n",
       "campaign         1                                                          \n",
       "poutcome       0.1        1                                                 \n",
       "age         0.0048   0.0074       1                                         \n",
       "balance     -0.015   -0.021   0.098       1                                 \n",
       "duration    -0.085    0.011 -0.0046   0.022        1                        \n",
       "y           -0.073   -0.078   0.025   0.053     0.39      1                 \n",
       "marital     -0.009   -0.017    -0.4  0.0021    0.012  0.046       1         \n",
       "job         0.0068    0.011  -0.022   0.018   0.0047   0.04   0.062        1\n",
       "education   0.0063   -0.019   -0.11   0.065   0.0019  0.066    0.11     0.17\n",
       "pdays       -0.089    -0.86  -0.024  0.0034  -0.0016    0.1   0.019   -0.024\n",
       "previous    -0.033    -0.49  0.0013   0.017   0.0012  0.093   0.015 -0.00091\n",
       "housing     -0.024     -0.1   -0.19  -0.069   0.0051  -0.14  -0.016    -0.13\n",
       "loan          0.01    0.015  -0.016  -0.084   -0.012 -0.068  -0.047   -0.033\n",
       "          education  pdays previous housing loan\n",
       "campaign                                        \n",
       "poutcome                                        \n",
       "age                                             \n",
       "balance                                         \n",
       "duration                                        \n",
       "y                                               \n",
       "marital                                         \n",
       "job                                             \n",
       "education         1                             \n",
       "pdays       5.2e-05      1                      \n",
       "previous      0.018   0.45        1             \n",
       "housing      -0.091   0.12    0.037       1     \n",
       "loan         -0.049 -0.023   -0.011   0.041    1\n",
       "\n",
       "$p\n",
       "          campaign poutcome      age balance duration        y  marital\n",
       "campaign         0                                                     \n",
       "poutcome  5.3e-104        0                                            \n",
       "age           0.31     0.12        0                                   \n",
       "balance     0.0019  8.2e-06  1.8e-96       0                           \n",
       "duration   1.5e-72     0.02     0.32 4.5e-06        0                  \n",
       "y            1e-54    1e-61  8.8e-08 2.5e-29        0        0         \n",
       "marital      0.056  0.00034        0    0.65    0.012  3.1e-22        0\n",
       "job           0.15    0.019  3.3e-06 0.00011     0.31  7.9e-18  8.2e-40\n",
       "education     0.18  3.8e-05 8.2e-115 6.6e-43     0.68  3.8e-45 1.3e-118\n",
       "pdays      1.6e-79        0  4.4e-07    0.47     0.74 3.8e-108  4.6e-05\n",
       "previous   2.8e-12        0     0.78 0.00039      0.8  7.8e-88   0.0015\n",
       "housing    5.2e-07 9.3e-101        0 1.6e-48     0.28 2.6e-194  0.00062\n",
       "loan         0.034    0.001  0.00087 3.5e-72   0.0083  9.8e-48  1.9e-23\n",
       "               job education    pdays previous housing loan\n",
       "campaign                                                   \n",
       "poutcome                                                   \n",
       "age                                                        \n",
       "balance                                                    \n",
       "duration                                                   \n",
       "y                                                          \n",
       "marital                                                    \n",
       "job              0                                         \n",
       "education 4.6e-279         0                               \n",
       "pdays        2e-07      0.99        0                      \n",
       "previous      0.85   0.00019        0        0             \n",
       "housing   9.3e-158   2.3e-83 8.3e-155  3.1e-15       0     \n",
       "loan       2.2e-12   4.9e-25  1.3e-06    0.019 1.5e-18    0\n",
       "\n",
       "$sym\n",
       "          campaign poutcome age balance duration y marital job education pdays\n",
       "campaign  1                                                                   \n",
       "poutcome           1                                                          \n",
       "age                         1                                                 \n",
       "balance                         1                                             \n",
       "duration                                1                                     \n",
       "y                                       .        1                            \n",
       "marital                     .                      1                          \n",
       "job                                                        1                  \n",
       "education                                                      1              \n",
       "pdays              +                                                     1    \n",
       "previous           .                                                     .    \n",
       "housing                                                                       \n",
       "loan                                                                          \n",
       "          previous housing loan\n",
       "campaign                       \n",
       "poutcome                       \n",
       "age                            \n",
       "balance                        \n",
       "duration                       \n",
       "y                              \n",
       "marital                        \n",
       "job                            \n",
       "education                      \n",
       "pdays                          \n",
       "previous  1                    \n",
       "housing            1           \n",
       "loan                       1   \n",
       "attr(,\"legend\")\n",
       "[1] 0 ‘ ’ 0.3 ‘.’ 0.6 ‘,’ 0.8 ‘+’ 0.9 ‘*’ 0.95 ‘B’ 1\n"
      ]
     },
     "metadata": {},
     "output_type": "display_data"
    },
    {
     "name": "stdout",
     "output_type": "stream",
     "text": [
      "[1] \"Viz. 1\"\n"
     ]
    },
    {
     "data": {
      "image/png": "[encoded data removed]",
      "text/plain": [
       "Plot with title “”"
      ]
     },
     "metadata": {
      "image/png": {
       "height": 480,
       "width": 600
      }
     },
     "output_type": "display_data"
    }
   ],
   "source": [
    "# print corelation table\n",
    "rquery.cormat(bank_nums)\n",
    "print(\"Viz. 1\")"
   ]
  },
  {
   "cell_type": "markdown",
   "metadata": {},
   "source": [
    "We can see from the correlation table (Viz. 1) that most variables seem to have little influence on our `y` value. The only variable with a significant impact on the outcome was `duration` which had a strong positive correlation of around 0.4.\n",
    "\n",
    "To further test our correlation table results we test each variables influence on the outcome using knn classification."
   ]
  },
  {
   "cell_type": "markdown",
   "metadata": {},
   "source": [
    "#### Checking variable influence using KNN.\n",
    "\n",
    "To do this we first create a specification for our knn classification model."
   ]
  },
  {
   "cell_type": "code",
   "execution_count": 12,
   "metadata": {},
   "outputs": [
    {
     "data": {
      "text/plain": [
       "K-Nearest Neighbor Model Specification (classification)\n",
       "\n",
       "Main Arguments:\n",
       "  weight_func = rectangular\n",
       "\n",
       "Computational engine: kknn \n"
      ]
     },
     "metadata": {},
     "output_type": "display_data"
    }
   ],
   "source": [
    "# create knn model\n",
    "knn_spec = nearest_neighbor(weight_func = \"rectangular\") %>%\n",
    "       set_engine(\"kknn\") %>%\n",
    "       set_mode(\"classification\")\n",
    "\n",
    "knn_spec"
   ]
  },
  {
   "cell_type": "markdown",
   "metadata": {},
   "source": [
    "Than we predict the accuracy of a model using all variables to get a baseline accuracy.\n",
    "\n",
    "To do this we scale all our predictor as knn is sensitive to sacle and than create a workflow and compare the results of our training table model to our testing model which will tell us the accuracy of it."
   ]
  },
  {
   "cell_type": "code",
   "execution_count": 13,
   "metadata": {},
   "outputs": [
    {
     "data": {
      "text/plain": [
       "Data Recipe\n",
       "\n",
       "Inputs:\n",
       "\n",
       "      role #variables\n",
       "   outcome          1\n",
       " predictor         12\n",
       "\n",
       "Operations:\n",
       "\n",
       "Scaling for all_predictors()\n",
       "Centering for all_predictors()"
      ]
     },
     "metadata": {},
     "output_type": "display_data"
    },
    {
     "data": {
      "text/plain": [
       "══ Workflow [trained] ══════════════════════════════════════════════════════════\n",
       "\u001b[3mPreprocessor:\u001b[23m Recipe\n",
       "\u001b[3mModel:\u001b[23m nearest_neighbor()\n",
       "\n",
       "── Preprocessor ────────────────────────────────────────────────────────────────\n",
       "2 Recipe Steps\n",
       "\n",
       "● step_scale()\n",
       "● step_center()\n",
       "\n",
       "── Model ───────────────────────────────────────────────────────────────────────\n",
       "\n",
       "Call:\n",
       "kknn::train.kknn(formula = ..y ~ ., data = data, ks = 5, kernel = ~\"rectangular\")\n",
       "\n",
       "Type of response variable: nominal\n",
       "Minimal misclassification: 0.1086437\n",
       "Best kernel: rectangular\n",
       "Best k: 5"
      ]
     },
     "metadata": {},
     "output_type": "display_data"
    },
    {
     "data": {
      "text/html": [
       "<table>\n",
       "<caption>A tibble: 2 × 3</caption>\n",
       "<thead>\n",
       "\t<tr><th scope=col>.metric</th><th scope=col>.estimator</th><th scope=col>.estimate</th></tr>\n",
       "\t<tr><th scope=col>&lt;chr&gt;</th><th scope=col>&lt;chr&gt;</th><th scope=col>&lt;dbl&gt;</th></tr>\n",
       "</thead>\n",
       "<tbody>\n",
       "\t<tr><td>accuracy</td><td>binary</td><td>0.8918775</td></tr>\n",
       "\t<tr><td>kap     </td><td>binary</td><td>0.3674238</td></tr>\n",
       "</tbody>\n",
       "</table>\n"
      ],
      "text/latex": [
       "A tibble: 2 × 3\n",
       "\\begin{tabular}{lll}\n",
       " .metric & .estimator & .estimate\\\\\n",
       " <chr> & <chr> & <dbl>\\\\\n",
       "\\hline\n",
       "\t accuracy & binary & 0.8918775\\\\\n",
       "\t kap      & binary & 0.3674238\\\\\n",
       "\\end{tabular}\n"
      ],
      "text/markdown": [
       "\n",
       "A tibble: 2 × 3\n",
       "\n",
       "| .metric &lt;chr&gt; | .estimator &lt;chr&gt; | .estimate &lt;dbl&gt; |\n",
       "|---|---|---|\n",
       "| accuracy | binary | 0.8918775 |\n",
       "| kap      | binary | 0.3674238 |\n",
       "\n"
      ],
      "text/plain": [
       "  .metric  .estimator .estimate\n",
       "1 accuracy binary     0.8918775\n",
       "2 kap      binary     0.3674238"
      ]
     },
     "metadata": {},
     "output_type": "display_data"
    }
   ],
   "source": [
    "bank_recipe_all <- recipe(y ~ ., data = bank_train) %>%\n",
    "  step_scale(all_predictors()) %>%\n",
    "  step_center(all_predictors())\n",
    "bank_recipe_all\n",
    "\n",
    "knn_fit_all <- workflow() %>%\n",
    "    add_recipe(bank_recipe_all) %>%\n",
    "    add_model(knn_spec) %>%\n",
    "    fit(data = bank_train)\n",
    "knn_fit_all\n",
    "\n",
    "bank_test_predictions_all <- predict(knn_fit_all, bank_test) %>%\n",
    "  bind_cols(bank_test)\n",
    "\n",
    "all_pred = bank_test_predictions_all %>%\n",
    "  metrics(truth = y, estimate = .pred_class)\n",
    "all_pred"
   ]
  },
  {
   "cell_type": "markdown",
   "metadata": {},
   "source": [
    "Here we see that we have a baseline accuracy of `0.8918775` (89.19%). We will compare this to the accuracy of different specific variables to see if they have a greater influence on the outcome."
   ]
  },
  {
   "cell_type": "markdown",
   "metadata": {},
   "source": [
    "Seeing that our best k from the previous fit was 5 we chose to stick with that for the rest of our KNN models."
   ]
  },
  {
   "cell_type": "code",
   "execution_count": 14,
   "metadata": {},
   "outputs": [],
   "source": [
    "knn_specification <- nearest_neighbor(weight_func = \"rectangular\", neighbors = 5) %>%\n",
    "  set_engine(\"kknn\") %>%\n",
    "  set_mode(\"classification\")"
   ]
  },
  {
   "cell_type": "markdown",
   "metadata": {},
   "source": [
    "Accuracy of `age` variable as a predictor:"
   ]
  },
  {
   "cell_type": "code",
   "execution_count": 15,
   "metadata": {},
   "outputs": [
    {
     "data": {
      "text/html": [
       "<table>\n",
       "<caption>A tibble: 2 × 3</caption>\n",
       "<thead>\n",
       "\t<tr><th scope=col>.metric</th><th scope=col>.estimator</th><th scope=col>.estimate</th></tr>\n",
       "\t<tr><th scope=col>&lt;chr&gt;</th><th scope=col>&lt;chr&gt;</th><th scope=col>&lt;dbl&gt;</th></tr>\n",
       "</thead>\n",
       "<tbody>\n",
       "\t<tr><td>accuracy</td><td>binary</td><td>0.88382587</td></tr>\n",
       "\t<tr><td>kap     </td><td>binary</td><td>0.05028407</td></tr>\n",
       "</tbody>\n",
       "</table>\n"
      ],
      "text/latex": [
       "A tibble: 2 × 3\n",
       "\\begin{tabular}{lll}\n",
       " .metric & .estimator & .estimate\\\\\n",
       " <chr> & <chr> & <dbl>\\\\\n",
       "\\hline\n",
       "\t accuracy & binary & 0.88382587\\\\\n",
       "\t kap      & binary & 0.05028407\\\\\n",
       "\\end{tabular}\n"
      ],
      "text/markdown": [
       "\n",
       "A tibble: 2 × 3\n",
       "\n",
       "| .metric &lt;chr&gt; | .estimator &lt;chr&gt; | .estimate &lt;dbl&gt; |\n",
       "|---|---|---|\n",
       "| accuracy | binary | 0.88382587 |\n",
       "| kap      | binary | 0.05028407 |\n",
       "\n"
      ],
      "text/plain": [
       "  .metric  .estimator .estimate \n",
       "1 accuracy binary     0.88382587\n",
       "2 kap      binary     0.05028407"
      ]
     },
     "metadata": {},
     "output_type": "display_data"
    }
   ],
   "source": [
    "bank_recipe_age <- recipe(y ~ age, data = bank_train) %>%\n",
    "  step_scale(all_predictors()) %>%\n",
    "  step_center(all_predictors())\n",
    "\n",
    "knn_fit_age <- workflow() %>%\n",
    "    add_recipe(bank_recipe_age) %>%\n",
    "    add_model(knn_specification) %>%\n",
    "    fit(data = bank_train)\n",
    "\n",
    "bank_test_predictions_age <- predict(knn_fit_age, bank_test) %>%\n",
    "  bind_cols(bank_test)\n",
    "\n",
    "age_pred = bank_test_predictions_age %>%\n",
    "  metrics(truth = y, estimate = .pred_class)\n",
    "\n",
    "age_pred"
   ]
  },
  {
   "cell_type": "markdown",
   "metadata": {},
   "source": [
    "Accuracy of `job` variable as a predictor:"
   ]
  },
  {
   "cell_type": "code",
   "execution_count": 16,
   "metadata": {},
   "outputs": [
    {
     "data": {
      "text/html": [
       "<table>\n",
       "<caption>A tibble: 2 × 3</caption>\n",
       "<thead>\n",
       "\t<tr><th scope=col>.metric</th><th scope=col>.estimator</th><th scope=col>.estimate</th></tr>\n",
       "\t<tr><th scope=col>&lt;chr&gt;</th><th scope=col>&lt;chr&gt;</th><th scope=col>&lt;dbl&gt;</th></tr>\n",
       "</thead>\n",
       "<tbody>\n",
       "\t<tr><td>accuracy</td><td>binary</td><td>0.8830296</td></tr>\n",
       "\t<tr><td>kap     </td><td>binary</td><td>0.0000000</td></tr>\n",
       "</tbody>\n",
       "</table>\n"
      ],
      "text/latex": [
       "A tibble: 2 × 3\n",
       "\\begin{tabular}{lll}\n",
       " .metric & .estimator & .estimate\\\\\n",
       " <chr> & <chr> & <dbl>\\\\\n",
       "\\hline\n",
       "\t accuracy & binary & 0.8830296\\\\\n",
       "\t kap      & binary & 0.0000000\\\\\n",
       "\\end{tabular}\n"
      ],
      "text/markdown": [
       "\n",
       "A tibble: 2 × 3\n",
       "\n",
       "| .metric &lt;chr&gt; | .estimator &lt;chr&gt; | .estimate &lt;dbl&gt; |\n",
       "|---|---|---|\n",
       "| accuracy | binary | 0.8830296 |\n",
       "| kap      | binary | 0.0000000 |\n",
       "\n"
      ],
      "text/plain": [
       "  .metric  .estimator .estimate\n",
       "1 accuracy binary     0.8830296\n",
       "2 kap      binary     0.0000000"
      ]
     },
     "metadata": {},
     "output_type": "display_data"
    }
   ],
   "source": [
    "bank_recipe_job <- recipe(y ~ job, data = bank_train) %>%\n",
    "  step_scale(all_predictors()) %>%\n",
    "  step_center(all_predictors())\n",
    "\n",
    "knn_fit_job <- workflow() %>%\n",
    "    add_recipe(bank_recipe_job) %>%\n",
    "    add_model(knn_specification) %>%\n",
    "    fit(data = bank_train)\n",
    "\n",
    "bank_test_predictions_job <- predict(knn_fit_job, bank_test) %>%\n",
    "  bind_cols(bank_test)\n",
    "\n",
    "job_pred = bank_test_predictions_job %>%\n",
    "  metrics(truth = y, estimate = .pred_class)\n",
    "\n",
    "job_pred"
   ]
  },
  {
   "cell_type": "markdown",
   "metadata": {},
   "source": [
    "Accuracy of `marital` status variable as a predictor:"
   ]
  },
  {
   "cell_type": "code",
   "execution_count": 17,
   "metadata": {},
   "outputs": [
    {
     "data": {
      "text/html": [
       "<table>\n",
       "<caption>A tibble: 2 × 3</caption>\n",
       "<thead>\n",
       "\t<tr><th scope=col>.metric</th><th scope=col>.estimator</th><th scope=col>.estimate</th></tr>\n",
       "\t<tr><th scope=col>&lt;chr&gt;</th><th scope=col>&lt;chr&gt;</th><th scope=col>&lt;dbl&gt;</th></tr>\n",
       "</thead>\n",
       "<tbody>\n",
       "\t<tr><td>accuracy</td><td>binary</td><td>0.8830296</td></tr>\n",
       "\t<tr><td>kap     </td><td>binary</td><td>0.0000000</td></tr>\n",
       "</tbody>\n",
       "</table>\n"
      ],
      "text/latex": [
       "A tibble: 2 × 3\n",
       "\\begin{tabular}{lll}\n",
       " .metric & .estimator & .estimate\\\\\n",
       " <chr> & <chr> & <dbl>\\\\\n",
       "\\hline\n",
       "\t accuracy & binary & 0.8830296\\\\\n",
       "\t kap      & binary & 0.0000000\\\\\n",
       "\\end{tabular}\n"
      ],
      "text/markdown": [
       "\n",
       "A tibble: 2 × 3\n",
       "\n",
       "| .metric &lt;chr&gt; | .estimator &lt;chr&gt; | .estimate &lt;dbl&gt; |\n",
       "|---|---|---|\n",
       "| accuracy | binary | 0.8830296 |\n",
       "| kap      | binary | 0.0000000 |\n",
       "\n"
      ],
      "text/plain": [
       "  .metric  .estimator .estimate\n",
       "1 accuracy binary     0.8830296\n",
       "2 kap      binary     0.0000000"
      ]
     },
     "metadata": {},
     "output_type": "display_data"
    }
   ],
   "source": [
    "bank_recipe_marital <- recipe(y ~ marital, data = bank_train) %>%\n",
    "  step_scale(all_predictors()) %>%\n",
    "  step_center(all_predictors())\n",
    "\n",
    "knn_fit_marital <- workflow() %>%\n",
    "    add_recipe(bank_recipe_marital) %>%\n",
    "    add_model(knn_specification) %>%\n",
    "    fit(data = bank_train)\n",
    "\n",
    "bank_test_predictions_marital <- predict(knn_fit_marital, bank_test) %>%\n",
    "  bind_cols(bank_test)\n",
    "\n",
    "marital_pred = bank_test_predictions_marital %>%\n",
    "  metrics(truth = y, estimate = .pred_class)\n",
    "marital_pred"
   ]
  },
  {
   "cell_type": "markdown",
   "metadata": {},
   "source": [
    "Accuracy of `education` variable as a predictor."
   ]
  },
  {
   "cell_type": "code",
   "execution_count": 18,
   "metadata": {},
   "outputs": [],
   "source": [
    "bank_recipe_education <- recipe(y ~ education, data = bank_train) %>%\n",
    "  step_scale(all_predictors()) %>%\n",
    "  step_center(all_predictors())\n",
    "\n",
    "knn_fit_education <- workflow() %>%\n",
    "    add_recipe(bank_recipe_education) %>%\n",
    "    add_model(knn_specification) %>%\n",
    "    fit(data = bank_train)"
   ]
  },
  {
   "cell_type": "code",
   "execution_count": 19,
   "metadata": {},
   "outputs": [
    {
     "data": {
      "text/html": [
       "<table>\n",
       "<caption>A tibble: 2 × 3</caption>\n",
       "<thead>\n",
       "\t<tr><th scope=col>.metric</th><th scope=col>.estimator</th><th scope=col>.estimate</th></tr>\n",
       "\t<tr><th scope=col>&lt;chr&gt;</th><th scope=col>&lt;chr&gt;</th><th scope=col>&lt;dbl&gt;</th></tr>\n",
       "</thead>\n",
       "<tbody>\n",
       "\t<tr><td>accuracy</td><td>binary</td><td>0.8830296</td></tr>\n",
       "\t<tr><td>kap     </td><td>binary</td><td>0.0000000</td></tr>\n",
       "</tbody>\n",
       "</table>\n"
      ],
      "text/latex": [
       "A tibble: 2 × 3\n",
       "\\begin{tabular}{lll}\n",
       " .metric & .estimator & .estimate\\\\\n",
       " <chr> & <chr> & <dbl>\\\\\n",
       "\\hline\n",
       "\t accuracy & binary & 0.8830296\\\\\n",
       "\t kap      & binary & 0.0000000\\\\\n",
       "\\end{tabular}\n"
      ],
      "text/markdown": [
       "\n",
       "A tibble: 2 × 3\n",
       "\n",
       "| .metric &lt;chr&gt; | .estimator &lt;chr&gt; | .estimate &lt;dbl&gt; |\n",
       "|---|---|---|\n",
       "| accuracy | binary | 0.8830296 |\n",
       "| kap      | binary | 0.0000000 |\n",
       "\n"
      ],
      "text/plain": [
       "  .metric  .estimator .estimate\n",
       "1 accuracy binary     0.8830296\n",
       "2 kap      binary     0.0000000"
      ]
     },
     "metadata": {},
     "output_type": "display_data"
    }
   ],
   "source": [
    "bank_test_predictions_education <- predict(knn_fit_education, bank_test) %>%\n",
    " bind_cols(bank_test)\n",
    "\n",
    "bank_test_predictions_education %>%\n",
    " metrics(truth = y, estimate = .pred_class)"
   ]
  },
  {
   "cell_type": "markdown",
   "metadata": {},
   "source": [
    "Accuracy of `balance` variable as a predictor:"
   ]
  },
  {
   "cell_type": "code",
   "execution_count": 20,
   "metadata": {},
   "outputs": [],
   "source": [
    "bank_recipe_balance <- recipe(y ~ balance, data = bank_train) %>%\n",
    "  step_scale(all_predictors()) %>%\n",
    "  step_center(all_predictors())\n",
    "\n",
    "knn_fit_balance <- workflow() %>%\n",
    "    add_recipe(bank_recipe_balance) %>%\n",
    "    add_model(knn_specification) %>%\n",
    "    fit(data = bank_train)"
   ]
  },
  {
   "cell_type": "code",
   "execution_count": 21,
   "metadata": {},
   "outputs": [
    {
     "data": {
      "text/html": [
       "<table>\n",
       "<caption>A tibble: 2 × 3</caption>\n",
       "<thead>\n",
       "\t<tr><th scope=col>.metric</th><th scope=col>.estimator</th><th scope=col>.estimate</th></tr>\n",
       "\t<tr><th scope=col>&lt;chr&gt;</th><th scope=col>&lt;chr&gt;</th><th scope=col>&lt;dbl&gt;</th></tr>\n",
       "</thead>\n",
       "<tbody>\n",
       "\t<tr><td>accuracy</td><td>binary</td><td>0.87895948</td></tr>\n",
       "\t<tr><td>kap     </td><td>binary</td><td>0.04182635</td></tr>\n",
       "</tbody>\n",
       "</table>\n"
      ],
      "text/latex": [
       "A tibble: 2 × 3\n",
       "\\begin{tabular}{lll}\n",
       " .metric & .estimator & .estimate\\\\\n",
       " <chr> & <chr> & <dbl>\\\\\n",
       "\\hline\n",
       "\t accuracy & binary & 0.87895948\\\\\n",
       "\t kap      & binary & 0.04182635\\\\\n",
       "\\end{tabular}\n"
      ],
      "text/markdown": [
       "\n",
       "A tibble: 2 × 3\n",
       "\n",
       "| .metric &lt;chr&gt; | .estimator &lt;chr&gt; | .estimate &lt;dbl&gt; |\n",
       "|---|---|---|\n",
       "| accuracy | binary | 0.87895948 |\n",
       "| kap      | binary | 0.04182635 |\n",
       "\n"
      ],
      "text/plain": [
       "  .metric  .estimator .estimate \n",
       "1 accuracy binary     0.87895948\n",
       "2 kap      binary     0.04182635"
      ]
     },
     "metadata": {},
     "output_type": "display_data"
    }
   ],
   "source": [
    "bank_test_predictions_balance <- predict(knn_fit_balance, bank_test) %>%\n",
    "  bind_cols(bank_test)\n",
    "\n",
    "balance_pred = bank_test_predictions_balance %>%\n",
    "  metrics(truth = y, estimate = .pred_class)\n",
    "\n",
    "balance_pred"
   ]
  },
  {
   "cell_type": "markdown",
   "metadata": {},
   "source": [
    "Accuracy of `housing` variable as a predictor:"
   ]
  },
  {
   "cell_type": "code",
   "execution_count": 22,
   "metadata": {},
   "outputs": [],
   "source": [
    "bank_recipe_housing <- recipe(y ~ housing, data = bank_train) %>%\n",
    "  step_scale(all_predictors()) %>%\n",
    "  step_center(all_predictors())\n",
    "\n",
    "knn_fit_housing <- workflow() %>%\n",
    "    add_recipe(bank_recipe_housing) %>%\n",
    "    add_model(knn_specification) %>%\n",
    "    fit(data = bank_train)"
   ]
  },
  {
   "cell_type": "code",
   "execution_count": 23,
   "metadata": {},
   "outputs": [
    {
     "data": {
      "text/html": [
       "<table>\n",
       "<caption>A tibble: 2 × 3</caption>\n",
       "<thead>\n",
       "\t<tr><th scope=col>.metric</th><th scope=col>.estimator</th><th scope=col>.estimate</th></tr>\n",
       "\t<tr><th scope=col>&lt;chr&gt;</th><th scope=col>&lt;chr&gt;</th><th scope=col>&lt;dbl&gt;</th></tr>\n",
       "</thead>\n",
       "<tbody>\n",
       "\t<tr><td>accuracy</td><td>binary</td><td>0.8830296</td></tr>\n",
       "\t<tr><td>kap     </td><td>binary</td><td>0.0000000</td></tr>\n",
       "</tbody>\n",
       "</table>\n"
      ],
      "text/latex": [
       "A tibble: 2 × 3\n",
       "\\begin{tabular}{lll}\n",
       " .metric & .estimator & .estimate\\\\\n",
       " <chr> & <chr> & <dbl>\\\\\n",
       "\\hline\n",
       "\t accuracy & binary & 0.8830296\\\\\n",
       "\t kap      & binary & 0.0000000\\\\\n",
       "\\end{tabular}\n"
      ],
      "text/markdown": [
       "\n",
       "A tibble: 2 × 3\n",
       "\n",
       "| .metric &lt;chr&gt; | .estimator &lt;chr&gt; | .estimate &lt;dbl&gt; |\n",
       "|---|---|---|\n",
       "| accuracy | binary | 0.8830296 |\n",
       "| kap      | binary | 0.0000000 |\n",
       "\n"
      ],
      "text/plain": [
       "  .metric  .estimator .estimate\n",
       "1 accuracy binary     0.8830296\n",
       "2 kap      binary     0.0000000"
      ]
     },
     "metadata": {},
     "output_type": "display_data"
    }
   ],
   "source": [
    "bank_test_predictions_housing <- predict(knn_fit_housing, bank_test) %>%\n",
    "  bind_cols(bank_test)\n",
    "\n",
    "housing_pred = bank_test_predictions_housing %>%\n",
    "  metrics(truth = y, estimate = .pred_class)\n",
    "\n",
    "housing_pred"
   ]
  },
  {
   "cell_type": "markdown",
   "metadata": {},
   "source": [
    "Accuracy of `loan` variable as a predictor:"
   ]
  },
  {
   "cell_type": "code",
   "execution_count": 24,
   "metadata": {},
   "outputs": [],
   "source": [
    "bank_recipe_loan <- recipe(y ~ loan, data = bank_train) %>%\n",
    "  step_scale(all_predictors()) %>%\n",
    "  step_center(all_predictors())\n",
    "\n",
    "knn_fit_loan <- workflow() %>%\n",
    "    add_recipe(bank_recipe_loan) %>%\n",
    "    add_model(knn_specification) %>%\n",
    "    fit(data = bank_train)"
   ]
  },
  {
   "cell_type": "code",
   "execution_count": 25,
   "metadata": {},
   "outputs": [
    {
     "data": {
      "text/html": [
       "<table>\n",
       "<caption>A tibble: 2 × 3</caption>\n",
       "<thead>\n",
       "\t<tr><th scope=col>.metric</th><th scope=col>.estimator</th><th scope=col>.estimate</th></tr>\n",
       "\t<tr><th scope=col>&lt;chr&gt;</th><th scope=col>&lt;chr&gt;</th><th scope=col>&lt;dbl&gt;</th></tr>\n",
       "</thead>\n",
       "<tbody>\n",
       "\t<tr><td>accuracy</td><td>binary</td><td>0.8830296</td></tr>\n",
       "\t<tr><td>kap     </td><td>binary</td><td>0.0000000</td></tr>\n",
       "</tbody>\n",
       "</table>\n"
      ],
      "text/latex": [
       "A tibble: 2 × 3\n",
       "\\begin{tabular}{lll}\n",
       " .metric & .estimator & .estimate\\\\\n",
       " <chr> & <chr> & <dbl>\\\\\n",
       "\\hline\n",
       "\t accuracy & binary & 0.8830296\\\\\n",
       "\t kap      & binary & 0.0000000\\\\\n",
       "\\end{tabular}\n"
      ],
      "text/markdown": [
       "\n",
       "A tibble: 2 × 3\n",
       "\n",
       "| .metric &lt;chr&gt; | .estimator &lt;chr&gt; | .estimate &lt;dbl&gt; |\n",
       "|---|---|---|\n",
       "| accuracy | binary | 0.8830296 |\n",
       "| kap      | binary | 0.0000000 |\n",
       "\n"
      ],
      "text/plain": [
       "  .metric  .estimator .estimate\n",
       "1 accuracy binary     0.8830296\n",
       "2 kap      binary     0.0000000"
      ]
     },
     "metadata": {},
     "output_type": "display_data"
    }
   ],
   "source": [
    "bank_test_predictions_loan <- predict(knn_fit_loan, bank_test) %>%\n",
    "  bind_cols(bank_test)\n",
    "\n",
    "loan_pred = bank_test_predictions_loan %>%\n",
    "  metrics(truth = y, estimate = .pred_class)\n",
    "\n",
    "loan_pred"
   ]
  },
  {
   "cell_type": "markdown",
   "metadata": {},
   "source": [
    "We see from these results that variables that held little influence on the outcome in the correlation table seem to have very similar accuracy to each other and the basline.\n",
    "\n",
    "Now to test our results from the correlation table we inspect the accuracy of the `duration` variable."
   ]
  },
  {
   "cell_type": "code",
   "execution_count": 26,
   "metadata": {},
   "outputs": [
    {
     "data": {
      "text/html": [
       "<table>\n",
       "<caption>A tibble: 2 × 3</caption>\n",
       "<thead>\n",
       "\t<tr><th scope=col>.metric</th><th scope=col>.estimator</th><th scope=col>.estimate</th></tr>\n",
       "\t<tr><th scope=col>&lt;chr&gt;</th><th scope=col>&lt;chr&gt;</th><th scope=col>&lt;dbl&gt;</th></tr>\n",
       "</thead>\n",
       "<tbody>\n",
       "\t<tr><td>accuracy</td><td>binary</td><td>0.8817908</td></tr>\n",
       "\t<tr><td>kap     </td><td>binary</td><td>0.1849427</td></tr>\n",
       "</tbody>\n",
       "</table>\n"
      ],
      "text/latex": [
       "A tibble: 2 × 3\n",
       "\\begin{tabular}{lll}\n",
       " .metric & .estimator & .estimate\\\\\n",
       " <chr> & <chr> & <dbl>\\\\\n",
       "\\hline\n",
       "\t accuracy & binary & 0.8817908\\\\\n",
       "\t kap      & binary & 0.1849427\\\\\n",
       "\\end{tabular}\n"
      ],
      "text/markdown": [
       "\n",
       "A tibble: 2 × 3\n",
       "\n",
       "| .metric &lt;chr&gt; | .estimator &lt;chr&gt; | .estimate &lt;dbl&gt; |\n",
       "|---|---|---|\n",
       "| accuracy | binary | 0.8817908 |\n",
       "| kap      | binary | 0.1849427 |\n",
       "\n"
      ],
      "text/plain": [
       "  .metric  .estimator .estimate\n",
       "1 accuracy binary     0.8817908\n",
       "2 kap      binary     0.1849427"
      ]
     },
     "metadata": {},
     "output_type": "display_data"
    }
   ],
   "source": [
    "bank_recipe_duration <- recipe(y ~ duration, data = bank_train) %>%\n",
    "  step_scale(all_predictors()) %>%\n",
    "  step_center(all_predictors())\n",
    "\n",
    "knn_fit_duration <- workflow() %>%\n",
    "    add_recipe(bank_recipe_duration) %>%\n",
    "    add_model(knn_specification) %>%\n",
    "    fit(data = bank_train)\n",
    "\n",
    "bank_test_predictions_duration <- predict(knn_fit_duration, bank_test) %>%\n",
    "  bind_cols(bank_test)\n",
    "\n",
    "duration_pred = bank_test_predictions_duration %>%\n",
    "  metrics(truth = y, estimate = .pred_class)\n",
    "duration_pred"
   ]
  },
  {
   "cell_type": "markdown",
   "metadata": {},
   "source": [
    "Than we created a visualation of the model accuracy for different variables"
   ]
  },
  {
   "cell_type": "code",
   "execution_count": 91,
   "metadata": {},
   "outputs": [
    {
     "name": "stdout",
     "output_type": "stream",
     "text": [
      "[1] \"Viz. 2\"\n"
     ]
    },
    {
     "data": {
      "image/png": "[encoded data removed]",
      "text/plain": [
       "plot without title"
      ]
     },
     "metadata": {
      "image/png": {
       "height": 480,
       "width": 600
      }
     },
     "output_type": "display_data"
    }
   ],
   "source": [
    "var_name <- c(\"baseline\", \"age\", \"job\", \"marital\", \"education\", \"balance\", \"housing\", \"loan\", \"duration\")\n",
    "accuracy <- c(0.8918775, 0.88382587, 0.8830296, 0.8830296, 0.8830296, 0.87895948, 0.8830296, 0.8830296, 0.8817908)\n",
    "df <- data.frame(var_name, accuracy)\n",
    "\n",
    "print(\"Viz. 2\")\n",
    "\n",
    "options(repr.plot.width = 10, repr.plot.height = 8)\n",
    "ggplot(df, aes(var_name, accuracy)) +\n",
    "    geom_col() +\n",
    "    theme(text = element_text(size = 20)) +\n",
    "    xlab(\"Variable\") +\n",
    "    ylab(\"KNN Model accuracy\") +\n",
    "    ggtitle(\"Variables accuracy comparion\")"
   ]
  },
  {
   "cell_type": "markdown",
   "metadata": {},
   "source": [
    "Interestingly when observing viz. 2 the `duration` variable seems to have a similar accuracy to the rest of the irrelevant variables we tested. We believe this is because accuracy doesn't necessarily mean that the variable is a large influence and decided that this method of finding the most influential variable was not accurate enough."
   ]
  },
  {
   "cell_type": "markdown",
   "metadata": {},
   "source": [
    "Because of this we decided to do some further testing on our dataset. Using some more advanced methods we found online we tried to see if we could leverage more ML algorithms to find the most influential predictors. These aren't things we covered in class so our knowledge on them is limited but we thought it may provide some interesting insight and was worth trying.\n",
    "\n",
    "To use these algorithms we first have to replace all the unknown values with `NA` so they don't affect our results. We also made sure to change some of our true/false yes/no type columns to 1 or 0 for faster processing."
   ]
  },
  {
   "cell_type": "code",
   "execution_count": 27,
   "metadata": {},
   "outputs": [
    {
     "data": {
      "text/html": [
       "<table>\n",
       "<caption>A tibble: 10 × 13</caption>\n",
       "<thead>\n",
       "\t<tr><th scope=col>age</th><th scope=col>job</th><th scope=col>marital</th><th scope=col>education</th><th scope=col>balance</th><th scope=col>housing</th><th scope=col>loan</th><th scope=col>duration</th><th scope=col>campaign</th><th scope=col>pdays</th><th scope=col>previous</th><th scope=col>poutcome</th><th scope=col>y</th></tr>\n",
       "\t<tr><th scope=col>&lt;dbl&gt;</th><th scope=col>&lt;chr&gt;</th><th scope=col>&lt;chr&gt;</th><th scope=col>&lt;chr&gt;</th><th scope=col>&lt;dbl&gt;</th><th scope=col>&lt;dbl&gt;</th><th scope=col>&lt;dbl&gt;</th><th scope=col>&lt;dbl&gt;</th><th scope=col>&lt;dbl&gt;</th><th scope=col>&lt;dbl&gt;</th><th scope=col>&lt;dbl&gt;</th><th scope=col>&lt;chr&gt;</th><th scope=col>&lt;fct&gt;</th></tr>\n",
       "</thead>\n",
       "<tbody>\n",
       "\t<tr><td>58</td><td>management  </td><td>married </td><td>tertiary </td><td>2143</td><td>1</td><td>0</td><td>261</td><td>1</td><td>NA</td><td>0</td><td>NA</td><td>no</td></tr>\n",
       "\t<tr><td>44</td><td>technician  </td><td>single  </td><td>secondary</td><td>  29</td><td>1</td><td>0</td><td>151</td><td>1</td><td>NA</td><td>0</td><td>NA</td><td>no</td></tr>\n",
       "\t<tr><td>33</td><td>entrepreneur</td><td>married </td><td>secondary</td><td>   2</td><td>1</td><td>1</td><td> 76</td><td>1</td><td>NA</td><td>0</td><td>NA</td><td>no</td></tr>\n",
       "\t<tr><td>47</td><td>blue-collar </td><td>married </td><td>NA       </td><td>1506</td><td>1</td><td>0</td><td> 92</td><td>1</td><td>NA</td><td>0</td><td>NA</td><td>no</td></tr>\n",
       "\t<tr><td>33</td><td>NA          </td><td>single  </td><td>NA       </td><td>   1</td><td>0</td><td>0</td><td>198</td><td>1</td><td>NA</td><td>0</td><td>NA</td><td>no</td></tr>\n",
       "\t<tr><td>35</td><td>management  </td><td>married </td><td>tertiary </td><td> 231</td><td>1</td><td>0</td><td>139</td><td>1</td><td>NA</td><td>0</td><td>NA</td><td>no</td></tr>\n",
       "\t<tr><td>28</td><td>management  </td><td>single  </td><td>tertiary </td><td> 447</td><td>1</td><td>1</td><td>217</td><td>1</td><td>NA</td><td>0</td><td>NA</td><td>no</td></tr>\n",
       "\t<tr><td>42</td><td>entrepreneur</td><td>divorced</td><td>tertiary </td><td>   2</td><td>1</td><td>0</td><td>380</td><td>1</td><td>NA</td><td>0</td><td>NA</td><td>no</td></tr>\n",
       "\t<tr><td>58</td><td>retired     </td><td>married </td><td>primary  </td><td> 121</td><td>1</td><td>0</td><td> 50</td><td>1</td><td>NA</td><td>0</td><td>NA</td><td>no</td></tr>\n",
       "\t<tr><td>43</td><td>technician  </td><td>single  </td><td>secondary</td><td> 593</td><td>1</td><td>0</td><td> 55</td><td>1</td><td>NA</td><td>0</td><td>NA</td><td>no</td></tr>\n",
       "</tbody>\n",
       "</table>\n"
      ],
      "text/latex": [
       "A tibble: 10 × 13\n",
       "\\begin{tabular}{lllllllllllll}\n",
       " age & job & marital & education & balance & housing & loan & duration & campaign & pdays & previous & poutcome & y\\\\\n",
       " <dbl> & <chr> & <chr> & <chr> & <dbl> & <dbl> & <dbl> & <dbl> & <dbl> & <dbl> & <dbl> & <chr> & <fct>\\\\\n",
       "\\hline\n",
       "\t 58 & management   & married  & tertiary  & 2143 & 1 & 0 & 261 & 1 & NA & 0 & NA & no\\\\\n",
       "\t 44 & technician   & single   & secondary &   29 & 1 & 0 & 151 & 1 & NA & 0 & NA & no\\\\\n",
       "\t 33 & entrepreneur & married  & secondary &    2 & 1 & 1 &  76 & 1 & NA & 0 & NA & no\\\\\n",
       "\t 47 & blue-collar  & married  & NA        & 1506 & 1 & 0 &  92 & 1 & NA & 0 & NA & no\\\\\n",
       "\t 33 & NA           & single   & NA        &    1 & 0 & 0 & 198 & 1 & NA & 0 & NA & no\\\\\n",
       "\t 35 & management   & married  & tertiary  &  231 & 1 & 0 & 139 & 1 & NA & 0 & NA & no\\\\\n",
       "\t 28 & management   & single   & tertiary  &  447 & 1 & 1 & 217 & 1 & NA & 0 & NA & no\\\\\n",
       "\t 42 & entrepreneur & divorced & tertiary  &    2 & 1 & 0 & 380 & 1 & NA & 0 & NA & no\\\\\n",
       "\t 58 & retired      & married  & primary   &  121 & 1 & 0 &  50 & 1 & NA & 0 & NA & no\\\\\n",
       "\t 43 & technician   & single   & secondary &  593 & 1 & 0 &  55 & 1 & NA & 0 & NA & no\\\\\n",
       "\\end{tabular}\n"
      ],
      "text/markdown": [
       "\n",
       "A tibble: 10 × 13\n",
       "\n",
       "| age &lt;dbl&gt; | job &lt;chr&gt; | marital &lt;chr&gt; | education &lt;chr&gt; | balance &lt;dbl&gt; | housing &lt;dbl&gt; | loan &lt;dbl&gt; | duration &lt;dbl&gt; | campaign &lt;dbl&gt; | pdays &lt;dbl&gt; | previous &lt;dbl&gt; | poutcome &lt;chr&gt; | y &lt;fct&gt; |\n",
       "|---|---|---|---|---|---|---|---|---|---|---|---|---|\n",
       "| 58 | management   | married  | tertiary  | 2143 | 1 | 0 | 261 | 1 | NA | 0 | NA | no |\n",
       "| 44 | technician   | single   | secondary |   29 | 1 | 0 | 151 | 1 | NA | 0 | NA | no |\n",
       "| 33 | entrepreneur | married  | secondary |    2 | 1 | 1 |  76 | 1 | NA | 0 | NA | no |\n",
       "| 47 | blue-collar  | married  | NA        | 1506 | 1 | 0 |  92 | 1 | NA | 0 | NA | no |\n",
       "| 33 | NA           | single   | NA        |    1 | 0 | 0 | 198 | 1 | NA | 0 | NA | no |\n",
       "| 35 | management   | married  | tertiary  |  231 | 1 | 0 | 139 | 1 | NA | 0 | NA | no |\n",
       "| 28 | management   | single   | tertiary  |  447 | 1 | 1 | 217 | 1 | NA | 0 | NA | no |\n",
       "| 42 | entrepreneur | divorced | tertiary  |    2 | 1 | 0 | 380 | 1 | NA | 0 | NA | no |\n",
       "| 58 | retired      | married  | primary   |  121 | 1 | 0 |  50 | 1 | NA | 0 | NA | no |\n",
       "| 43 | technician   | single   | secondary |  593 | 1 | 0 |  55 | 1 | NA | 0 | NA | no |\n",
       "\n"
      ],
      "text/plain": [
       "   age job          marital  education balance housing loan duration campaign\n",
       "1  58  management   married  tertiary  2143    1       0    261      1       \n",
       "2  44  technician   single   secondary   29    1       0    151      1       \n",
       "3  33  entrepreneur married  secondary    2    1       1     76      1       \n",
       "4  47  blue-collar  married  NA        1506    1       0     92      1       \n",
       "5  33  NA           single   NA           1    0       0    198      1       \n",
       "6  35  management   married  tertiary   231    1       0    139      1       \n",
       "7  28  management   single   tertiary   447    1       1    217      1       \n",
       "8  42  entrepreneur divorced tertiary     2    1       0    380      1       \n",
       "9  58  retired      married  primary    121    1       0     50      1       \n",
       "10 43  technician   single   secondary  593    1       0     55      1       \n",
       "   pdays previous poutcome y \n",
       "1  NA    0        NA       no\n",
       "2  NA    0        NA       no\n",
       "3  NA    0        NA       no\n",
       "4  NA    0        NA       no\n",
       "5  NA    0        NA       no\n",
       "6  NA    0        NA       no\n",
       "7  NA    0        NA       no\n",
       "8  NA    0        NA       no\n",
       "9  NA    0        NA       no\n",
       "10 NA    0        NA       no"
      ]
     },
     "metadata": {},
     "output_type": "display_data"
    }
   ],
   "source": [
    "bank_preped = mutate(bank_trimmed, across(where(is.character), ~na_if(., \"unknown\")))\n",
    "bank_preped = mutate(bank_preped, pdays = na_if(pdays, -1))\n",
    "bank_preped = mutate(bank_preped, y = as_factor(y))\n",
    "bank_preped = mutate(bank_preped, housing = ifelse(housing == \"yes\", 1, 0))\n",
    "bank_preped = mutate(bank_preped, loan = ifelse(loan == \"yes\", 1, 0))\n",
    "\n",
    "slice(bank_preped, 1:10)"
   ]
  },
  {
   "cell_type": "markdown",
   "metadata": {},
   "source": [
    "First we tried a logistic regression model. We were unable to get it to work with all variables so there are a couple omitted. Furthermore running this code against the entire dataframe crashed my R kernel and jupyter for around 30 minutes so here we only use a sample of the table (10000 of ~35000 total rows)."
   ]
  },
  {
   "cell_type": "code",
   "execution_count": 46,
   "metadata": {},
   "outputs": [
    {
     "data": {
      "text/plain": [
       "\n",
       "Call:\n",
       "glm(formula = I(y == \"yes\") ~ age + job + marital + education + \n",
       "    balance + housing + loan + duration + campaign + previous, \n",
       "    family = \"binomial\", data = slice(bank_preped, 1:10000))\n",
       "\n",
       "Deviance Residuals: \n",
       "    Min       1Q   Median       3Q      Max  \n",
       "-4.8257  -0.1762  -0.1251  -0.0937   3.1890  \n",
       "\n",
       "Coefficients: (1 not defined because of singularities)\n",
       "                     Estimate Std. Error z value Pr(>|z|)    \n",
       "(Intercept)        -4.714e+00  5.486e-01  -8.593  < 2e-16 ***\n",
       "age                -3.981e-03  8.796e-03  -0.453   0.6509    \n",
       "jobblue-collar     -6.514e-02  2.395e-01  -0.272   0.7857    \n",
       "jobentrepreneur    -3.900e-02  4.609e-01  -0.085   0.9326    \n",
       "jobhousemaid       -2.672e-01  6.162e-01  -0.434   0.6646    \n",
       "jobmanagement      -1.924e-01  3.200e-01  -0.601   0.5476    \n",
       "jobretired         -2.506e-01  4.832e-01  -0.519   0.6040    \n",
       "jobself-employed    1.595e-01  4.164e-01   0.383   0.7017    \n",
       "jobservices        -3.302e-01  2.892e-01  -1.142   0.2534    \n",
       "jobstudent         -2.226e+00  1.809e+00  -1.230   0.2185    \n",
       "jobtechnician       1.083e-02  2.586e-01   0.042   0.9666    \n",
       "jobunemployed       4.642e-01  4.281e-01   1.084   0.2782    \n",
       "maritalmarried     -1.059e+00  1.938e-01  -5.463 4.69e-08 ***\n",
       "maritalsingle      -4.510e-01  2.159e-01  -2.089   0.0367 *  \n",
       "educationsecondary -8.897e-02  2.004e-01  -0.444   0.6570    \n",
       "educationtertiary  -2.281e-01  2.898e-01  -0.787   0.4312    \n",
       "balance            -4.752e-05  3.250e-05  -1.462   0.1437    \n",
       "housing             1.828e-01  2.152e-01   0.849   0.3958    \n",
       "loan               -4.100e-01  2.160e-01  -1.898   0.0577 .  \n",
       "duration            5.231e-03  1.911e-04  27.373  < 2e-16 ***\n",
       "campaign           -1.242e-02  2.323e-02  -0.535   0.5929    \n",
       "previous                   NA         NA      NA       NA    \n",
       "---\n",
       "Signif. codes:  0 ‘***’ 0.001 ‘**’ 0.01 ‘*’ 0.05 ‘.’ 0.1 ‘ ’ 1\n",
       "\n",
       "(Dispersion parameter for binomial family taken to be 1)\n",
       "\n",
       "    Null deviance: 2919.1  on 9501  degrees of freedom\n",
       "Residual deviance: 1736.5  on 9481  degrees of freedom\n",
       "  (498 observations deleted due to missingness)\n",
       "AIC: 1778.5\n",
       "\n",
       "Number of Fisher Scoring iterations: 8\n"
      ]
     },
     "metadata": {},
     "output_type": "display_data"
    }
   ],
   "source": [
    "summary(glm(I(y == \"yes\") ~ age + job + marital + education + balance + housing + loan + duration + campaign + previous, data = slice(bank_preped, 1:10000), family=\"binomial\"))"
   ]
  },
  {
   "cell_type": "markdown",
   "metadata": {},
   "source": [
    "Reading the results from the logistic regression model may seem daunting but in essense variables with a lower P values denoted by the `Pr(>|z|)` column are higher probablility to be near the coefficient denoted in the `value` column. The results helpfully indicate significance with codes where `***` is most significant `.` is least signicant and none (` `) is insignificant.\n",
    "\n",
    "This tells us that the most influential variable is `duration` followed by `marital`. The `duration` variable has a positive correlation meaning the longer the duration the more likely they are to have subscribed to a term deposit. This result aligns with the correlation table we created and inspected earlier. `marital` seems to indicate that those that are married are far less likely to have subscribed to a term deposit. This doesn't show on our correlation table from earlier most likely due to the way data had to be processed before applying that algorithm as correlation tables aren't meant to be used with classification information.\n",
    "\n",
    "We also used random forest testing to test the quantatative variables in the dataset. We had the same issue as before where running it against the entire dataframe crashed jupyter and R so we again used a sample of the data."
   ]
  },
  {
   "cell_type": "code",
   "execution_count": 94,
   "metadata": {},
   "outputs": [
    {
     "data": {
      "text/html": [
       "<table>\n",
       "<caption>A matrix: 3 × 1 of type dbl</caption>\n",
       "<thead>\n",
       "\t<tr><th></th><th scope=col>MeanDecreaseGini</th></tr>\n",
       "</thead>\n",
       "<tbody>\n",
       "\t<tr><th scope=row>age</th><td>215.4429</td></tr>\n",
       "\t<tr><th scope=row>balance</th><td>375.1904</td></tr>\n",
       "\t<tr><th scope=row>duration</th><td>994.9314</td></tr>\n",
       "</tbody>\n",
       "</table>\n"
      ],
      "text/latex": [
       "A matrix: 3 × 1 of type dbl\n",
       "\\begin{tabular}{r|l}\n",
       "  & MeanDecreaseGini\\\\\n",
       "\\hline\n",
       "\tage & 215.4429\\\\\n",
       "\tbalance & 375.1904\\\\\n",
       "\tduration & 994.9314\\\\\n",
       "\\end{tabular}\n"
      ],
      "text/markdown": [
       "\n",
       "A matrix: 3 × 1 of type dbl\n",
       "\n",
       "| <!--/--> | MeanDecreaseGini |\n",
       "|---|---|\n",
       "| age | 215.4429 |\n",
       "| balance | 375.1904 |\n",
       "| duration | 994.9314 |\n",
       "\n"
      ],
      "text/plain": [
       "         MeanDecreaseGini\n",
       "age      215.4429        \n",
       "balance  375.1904        \n",
       "duration 994.9314        "
      ]
     },
     "metadata": {},
     "output_type": "display_data"
    }
   ],
   "source": [
    "rf <- randomForest(y ~ age + balance + duration, data = slice(bank_preped, 1:20000))\n",
    "importance = rf$importance\n",
    "importance"
   ]
  },
  {
   "cell_type": "code",
   "execution_count": 107,
   "metadata": {},
   "outputs": [
    {
     "name": "stdout",
     "output_type": "stream",
     "text": [
      "[1] \"Viz. 3\"\n"
     ]
    },
    {
     "data": {
      "image/png": "[encoded data removed]",
      "text/plain": [
       "plot without title"
      ]
     },
     "metadata": {
      "image/png": {
       "height": 480,
       "width": 600
      }
     },
     "output_type": "display_data"
    }
   ],
   "source": [
    "var_name_forest <- c(\"age\", \"balance\", \"duration\")\n",
    "mean_gini <- c(215.4429, 375.1904, 994.9314)\n",
    "df_forest <- data.frame(var_name_forest, mean_gini)\n",
    "\n",
    "print(\"Viz. 3\")\n",
    "\n",
    "options(repr.plot.width = 10, repr.plot.height = 8)\n",
    "ggplot(df_forest, aes(var_name_forest, mean_gini)) +\n",
    "    geom_col() +\n",
    "    theme(text = element_text(size = 20)) +\n",
    "    xlab(\"Variable\") +\n",
    "    ylab(\"Random Forest Importance\") +\n",
    "    ggtitle(\"Variables importance comparion for random forest\")"
   ]
  },
  {
   "cell_type": "markdown",
   "metadata": {},
   "source": [
    "The results from viz. 3 (random forest) show that `duration` has a far greater impact on the outcome compared to `balance` and `age` which echos our previous results."
   ]
  },
  {
   "cell_type": "markdown",
   "metadata": {},
   "source": [
    "## Conclusion\n",
    "\n"
   ]
  },
  {
   "cell_type": "markdown",
   "metadata": {},
   "source": [
    "From creating and using different specifications, recipes, visualizations, and algorithms we found that only duration and marriage truly predicted better than the other predictors. All other variables yielded to approximately the same accuracy, and as our correlation table suggests, none of the variables seemed to correlate to `y` significantly. For all variables apart from duration and marriage, although the variables have a slight change in accuracy in our prediction, the accuracy is not sufficient enough to stand out.\n",
    "\n",
    "This is not fully what we expected as we thought that one’s balance would be a clear indicator of subscribing to a term deposit. It turned out that one’s balance had about the same accuracy in predicting our model as all the other predictor variables apart from duration and marriage.\n",
    "Although we did not come to the conclusion expected, seeing that subscribing to a term deposit has no correlation with one’s balance, it may raise the question on what type of saving/investing do have a correlation with balance. If the “rich” people are not investing in term deposits that what are they investing in and what are the advantages and disadvantages of that? We can also ask \"Why does duration have an effect on subscribing to a term deposit, and is it a cause-and-effect relationship?\" This leads to asking ourselves, \"Is there a third variable that links duration and subscribing or does one cause the other?\"\n",
    "\n",
    "The results of this project could indicate to banks that when marketing term deposits there is no need to market towards someone with high/low balance and they should focus on the duration factor. These results could possibly suggest that subscribing to term deposits may not be a complicated procedure as all the predictor variables have a very wide range. People of many ages, different balances, etc., have all subscribed to term deposits and thus it may be an easy way to invest for anyone no matter your age, job, balance, etc. This also suggest that they are risk free, which we later confirmed form the site https://www.islandsavings.ca/simple-advice/investing-advice/term-deposits-guide"
   ]
  },
  {
   "cell_type": "markdown",
   "metadata": {},
   "source": [
    "## References\n",
    "\n",
    "UCI Machine Learning Repository: Bank Marketing Data Set. (n.d.). https://archive.ics.uci.edu/ml/datasets/Bank+Marketing. \n",
    "\n",
    "Carroll, R. J., & Pederson, S. (1993). On robustness in the logistic regression model. *Journal of the Royal Statistical Society: Series B (Methodological), 55*(3), 693-706. doi:10.1111/j.2517-6161.1993.tb01934.x\n",
    "\n",
    "Svetnik, V., Liaw, A., Tong, C., Culberson, J. C., Sheridan, R. P., & Feuston, B. P. (2003). Random forest: A classification and regression tool for Compound classification and QSAR Modeling. *Journal of Chemical Information and Computer Sciences, 43*(6), 1947-1958. doi:10.1021/ci034160g\n",
    "\n",
    "Chen, J. (2020, September 16). *Term Deposit Definition*. Investopedia. https://www.investopedia.com/terms/t/termdeposit.asp. \n",
    "\n",
    "Savings, C. C. (2020, October 20). *All about term deposits.* The Help Hub. https://blog.coastcapitalsavings.com/managing-your-money/all-about-term-deposits/. \n",
    "\n",
    "*Term Deposits in 2021: A Complete Guide.* Term Deposits in 2021: A Complete Guide | Island Savings. (n.d.). https://www.islandsavings.ca/simple-advice/investing-advice/term-deposits-guide."
   ]
  }
 ],
 "metadata": {
  "kernelspec": {
   "display_name": "R",
   "language": "R",
   "name": "ir"
  },
  "language_info": {
   "codemirror_mode": "r",
   "file_extension": ".r",
   "mimetype": "text/x-r-source",
   "name": "R",
   "pygments_lexer": "r",
   "version": "4.0.0"
  }
 },
 "nbformat": 4,
 "nbformat_minor": 4
}
